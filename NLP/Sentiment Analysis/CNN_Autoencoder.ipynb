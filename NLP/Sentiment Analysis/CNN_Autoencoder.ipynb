{
  "nbformat": 4,
  "nbformat_minor": 0,
  "metadata": {
    "colab": {
      "name": "CNN_Autoencoder.ipynb",
      "provenance": [],
      "collapsed_sections": []
    },
    "kernelspec": {
      "display_name": "Python 3",
      "name": "python3"
    },
    "language_info": {
      "name": "python"
    }
  },
  "cells": [
    {
      "cell_type": "markdown",
      "metadata": {
        "id": "vYh9LHL5jgR8"
      },
      "source": [
        "# Convolutional Autoencoder-Classifier"
      ]
    },
    {
      "cell_type": "code",
      "metadata": {
        "id": "LEXm_Tp6ZdBj"
      },
      "source": [
        "# import the dependency libraries\n",
        "import numpy as np\n",
        "\n",
        "from sklearn.metrics import classification_report\n",
        "from sklearn.linear_model import LogisticRegression\n",
        "from sklearn.metrics import confusion_matrix, accuracy_score\n",
        "\n",
        "import tensorflow as tf\n",
        "from tensorflow.keras.layers import LeakyReLU, Dense, Flatten, Conv1D, Conv1DTranspose, MaxPooling1D, Input, BatchNormalization, MaxPool1D \n",
        "from tensorflow.keras.models import Model\n",
        "import tensorflow_datasets as tfds # To load the datasets\n",
        "import tensorflow_hub as hub       # Used for Transfer learning\n",
        "\n",
        "import matplotlib.pyplot as plt"
      ],
      "execution_count": null,
      "outputs": []
    },
    {
      "cell_type": "code",
      "metadata": {
        "id": "-7sJSwUNS1cg"
      },
      "source": [
        "# To know all available datasets in Tensorflow_hub are\n",
        "#tfds.list_builders()"
      ],
      "execution_count": null,
      "outputs": []
    },
    {
      "cell_type": "markdown",
      "metadata": {
        "id": "LazHL6qkaMlK"
      },
      "source": [
        "### Download IMBD dataset"
      ]
    },
    {
      "cell_type": "code",
      "metadata": {
        "id": "dsxV1f4GaBoq"
      },
      "source": [
        "# Load the IMBD data set into (train(80%), Validation(20%)) of 25000 examples and Testdataset(100%) of 25000 examples.\n",
        "train_data, validation_data, test_data = tfds.load(name=\"imdb_reviews\", \n",
        "                                                  split=('train[:80%]', 'train[80%:]', 'test'), # split the dataset into Train, Validation, and Test dataset\n",
        "                                                  as_supervised=True   # Returns tuple structure (input, label)\n",
        "                                                  )"
      ],
      "execution_count": null,
      "outputs": []
    },
    {
      "cell_type": "code",
      "metadata": {
        "colab": {
          "base_uri": "https://localhost:8080/"
        },
        "id": "Qc7aqFh_EYAz",
        "outputId": "5e93b656-dfb1-4d51-d894-55a4f11edf24"
      },
      "source": [
        "#Unpack the train dataset\n",
        "train_examples_batch, train_labels_batch = next(iter(train_data.batch(20000)))\n",
        "\n",
        "#Unpack the validation dataset\n",
        "val_examples_batch, val_labels_batch = next(iter(validation_data.batch(5000)))\n",
        "\n",
        "#Unpack the validation dataset\n",
        "X_test_examples, y_test_labels = next(iter(test_data.batch(25000)))\n",
        "\n",
        "# view some samples of dataset\n",
        "train_examples_batch[:5]"
      ],
      "execution_count": null,
      "outputs": [
        {
          "output_type": "execute_result",
          "data": {
            "text/plain": [
              "<tf.Tensor: shape=(5,), dtype=string, numpy=\n",
              "array([b\"This was an absolutely terrible movie. Don't be lured in by Christopher Walken or Michael Ironside. Both are great actors, but this must simply be their worst role in history. Even their great acting could not redeem this movie's ridiculous storyline. This movie is an early nineties US propaganda piece. The most pathetic scenes were those when the Columbian rebels were making their cases for revolutions. Maria Conchita Alonso appeared phony, and her pseudo-love affair with Walken was nothing but a pathetic emotional plug in a movie that was devoid of any real meaning. I am disappointed that there are movies like this, ruining actor's like Christopher Walken's good name. I could barely sit through it.\",\n",
              "       b'I have been known to fall asleep during films, but this is usually due to a combination of things including, really tired, being warm and comfortable on the sette and having just eaten a lot. However on this occasion I fell asleep because the film was rubbish. The plot development was constant. Constantly slow and boring. Things seemed to happen, but with no explanation of what was causing them or why. I admit, I may have missed part of the film, but i watched the majority of it and everything just seemed to happen of its own accord without any real concern for anything else. I cant recommend this film at all.',\n",
              "       b'Mann photographs the Alberta Rocky Mountains in a superb fashion, and Jimmy Stewart and Walter Brennan give enjoyable performances as they always seem to do. <br /><br />But come on Hollywood - a Mountie telling the people of Dawson City, Yukon to elect themselves a marshal (yes a marshal!) and to enforce the law themselves, then gunfighters battling it out on the streets for control of the town? <br /><br />Nothing even remotely resembling that happened on the Canadian side of the border during the Klondike gold rush. Mr. Mann and company appear to have mistaken Dawson City for Deadwood, the Canadian North for the American Wild West.<br /><br />Canadian viewers be prepared for a Reefer Madness type of enjoyable howl with this ludicrous plot, or, to shake your head in disgust.',\n",
              "       b'This is the kind of film for a snowy Sunday afternoon when the rest of the world can go ahead with its own business as you descend into a big arm-chair and mellow for a couple of hours. Wonderful performances from Cher and Nicolas Cage (as always) gently row the plot along. There are no rapids to cross, no dangerous waters, just a warm and witty paddle through New York life at its best. A family film in every sense and one that deserves the praise it received.',\n",
              "       b'As others have mentioned, all the women that go nude in this film are mostly absolutely gorgeous. The plot very ably shows the hypocrisy of the female libido. When men are around they want to be pursued, but when no \"men\" are around, they become the pursuers of a 14 year old boy. And the boy becomes a man really fast (we should all be so lucky at this age!). He then gets up the courage to pursue his true love.'],\n",
              "      dtype=object)>"
            ]
          },
          "metadata": {},
          "execution_count": 4
        }
      ]
    },
    {
      "cell_type": "code",
      "metadata": {
        "colab": {
          "base_uri": "https://localhost:8080/"
        },
        "id": "qKmx31t-I84D",
        "outputId": "428cd80c-d63d-4c6e-b3c7-6230dfea77d7"
      },
      "source": [
        "next(iter(train_data.shuffle(5).batch(2)))"
      ],
      "execution_count": null,
      "outputs": [
        {
          "output_type": "execute_result",
          "data": {
            "text/plain": [
              "(<tf.Tensor: shape=(2,), dtype=string, numpy=\n",
              " array([b\"This was an absolutely terrible movie. Don't be lured in by Christopher Walken or Michael Ironside. Both are great actors, but this must simply be their worst role in history. Even their great acting could not redeem this movie's ridiculous storyline. This movie is an early nineties US propaganda piece. The most pathetic scenes were those when the Columbian rebels were making their cases for revolutions. Maria Conchita Alonso appeared phony, and her pseudo-love affair with Walken was nothing but a pathetic emotional plug in a movie that was devoid of any real meaning. I am disappointed that there are movies like this, ruining actor's like Christopher Walken's good name. I could barely sit through it.\",\n",
              "        b'As others have mentioned, all the women that go nude in this film are mostly absolutely gorgeous. The plot very ably shows the hypocrisy of the female libido. When men are around they want to be pursued, but when no \"men\" are around, they become the pursuers of a 14 year old boy. And the boy becomes a man really fast (we should all be so lucky at this age!). He then gets up the courage to pursue his true love.'],\n",
              "       dtype=object)>,\n",
              " <tf.Tensor: shape=(2,), dtype=int64, numpy=array([0, 1])>)"
            ]
          },
          "metadata": {},
          "execution_count": 5
        }
      ]
    },
    {
      "cell_type": "code",
      "metadata": {
        "colab": {
          "base_uri": "https://localhost:8080/"
        },
        "id": "yK5k_OXBaBwW",
        "outputId": "0422fd65-980d-4e93-9b0c-4e9330b837dd"
      },
      "source": [
        "# view some label dataset\n",
        "train_labels_batch"
      ],
      "execution_count": null,
      "outputs": [
        {
          "output_type": "execute_result",
          "data": {
            "text/plain": [
              "<tf.Tensor: shape=(20000,), dtype=int64, numpy=array([0, 0, 0, ..., 0, 0, 0])>"
            ]
          },
          "metadata": {},
          "execution_count": 6
        }
      ]
    },
    {
      "cell_type": "markdown",
      "metadata": {
        "id": "1_rnuzAjvLTY"
      },
      "source": [
        "### Word Embedding\n",
        "One way to represent the text is to convert sentences into embeddings vectors. Use a pre-trained text embedding as the first layer, which will have three advantages:\n",
        "\n",
        "* You don't have to worry about text preprocessing,\n",
        "* Benefit from transfer learning,\n",
        "* the embedding has a fixed size, so it's simpler to process.\n",
        "\n",
        "Here we use **nnlm-en-dim50** pretrained module for token based text embedding which is trained on English Google News 7B corpus."
      ]
    },
    {
      "cell_type": "code",
      "metadata": {
        "id": "dI3JAYBIaB0t"
      },
      "source": [
        "# Load the pretrained module to encode the text dataset\n",
        "embed = hub.load(\"https://tfhub.dev/google/nnlm-en-dim50/2\")\n",
        "\n",
        "# create Hub layer which converts text into embedding vector\n",
        "hub_layer = hub.KerasLayer(embed, input_shape=[], # Expects a tensor of shape [batch_size] as input.\n",
        "                           dtype=tf.string,       # Expects a tf.string input tensor.\n",
        "                           trainable=False        # Make Embedding as trainable\n",
        "                           )"
      ],
      "execution_count": null,
      "outputs": []
    },
    {
      "cell_type": "code",
      "metadata": {
        "colab": {
          "base_uri": "https://localhost:8080/"
        },
        "id": "KHFp6-QrwZOM",
        "outputId": "190fe1af-f06a-420b-8f67-a05fb2f7e801"
      },
      "source": [
        "# embedding of train dataset\n",
        "Xembd_layer = hub_layer(train_examples_batch)\n",
        "\n",
        "# embedding of validation dataset\n",
        "val_emb_dataset = hub_layer(val_examples_batch)\n",
        "\n",
        "# embedding test dataset\n",
        "test_emb_dataset = hub_layer(X_test_examples)\n",
        "\n",
        "#shape of train dataset\n",
        "print(Xembd_layer.shape)\n",
        "\n",
        "#shape of validation dataset\n",
        "print(val_emb_dataset.shape)"
      ],
      "execution_count": null,
      "outputs": [
        {
          "output_type": "stream",
          "name": "stdout",
          "text": [
            "(20000, 50)\n",
            "(5000, 50)\n"
          ]
        }
      ]
    },
    {
      "cell_type": "code",
      "metadata": {
        "colab": {
          "base_uri": "https://localhost:8080/"
        },
        "id": "6n2NPFG4kZyo",
        "outputId": "858a21af-d225-46c9-ffe0-a13dc421b15a"
      },
      "source": [
        "# View some samples of Embedded training dataset\n",
        "Xembd_layer[:2]"
      ],
      "execution_count": null,
      "outputs": [
        {
          "output_type": "execute_result",
          "data": {
            "text/plain": [
              "<tf.Tensor: shape=(2, 50), dtype=float32, numpy=\n",
              "array([[ 0.5423195 , -0.0119017 ,  0.06337538,  0.06862972, -0.16776837,\n",
              "        -0.10581174,  0.16865303, -0.04998824, -0.31148055,  0.07910346,\n",
              "         0.15442263,  0.01488662,  0.03930153,  0.19772711, -0.12215476,\n",
              "        -0.04120981, -0.2704109 , -0.21922152,  0.26517662, -0.80739075,\n",
              "         0.25833532, -0.3100421 ,  0.28683215,  0.1943387 , -0.29036492,\n",
              "         0.03862849, -0.7844411 , -0.0479324 ,  0.4110299 , -0.36388892,\n",
              "        -0.58034706,  0.30269456,  0.3630897 , -0.15227164, -0.44391504,\n",
              "         0.19462997,  0.19528408,  0.05666234,  0.2890704 , -0.28468323,\n",
              "        -0.00531206,  0.0571938 , -0.3201318 , -0.04418665, -0.08550783,\n",
              "        -0.55847436, -0.23336391, -0.20782952, -0.03543064, -0.17533456],\n",
              "       [ 0.56338924, -0.12339553, -0.10862679,  0.7753425 , -0.07667089,\n",
              "        -0.15752277,  0.01872335, -0.08169781, -0.3521876 ,  0.4637341 ,\n",
              "        -0.08492756,  0.07166859, -0.00670817,  0.12686075, -0.19326553,\n",
              "        -0.52626437, -0.3295823 ,  0.14394785,  0.09043556, -0.5417555 ,\n",
              "         0.02468163, -0.15456742,  0.68333143,  0.09068331, -0.45327246,\n",
              "         0.23180096, -0.8615696 ,  0.34480393,  0.12838456, -0.58759046,\n",
              "        -0.4071231 ,  0.23061076,  0.48426893, -0.27128142, -0.5380916 ,\n",
              "         0.47016326,  0.22572741, -0.00830663,  0.2846242 , -0.304985  ,\n",
              "         0.04400365,  0.25025874,  0.14867121,  0.40717036, -0.15422426,\n",
              "        -0.06878027, -0.40825695, -0.3149215 ,  0.09283665, -0.20183425]],\n",
              "      dtype=float32)>"
            ]
          },
          "metadata": {},
          "execution_count": 9
        }
      ]
    },
    {
      "cell_type": "markdown",
      "metadata": {
        "id": "feZU3fz-0eql"
      },
      "source": [
        "Here Each sentance is represented into 50 dimensional vectors."
      ]
    },
    {
      "cell_type": "markdown",
      "metadata": {
        "id": "POcDA3qVB6AL"
      },
      "source": [
        "### Reshape Train_Dataset\n",
        "As you might remember, Conv1D layer expects input shape in 3D as\n",
        "\n",
        "[batch_size, time_steps, input_dimension]\n",
        "\n",
        "However, current data is in the shape of\n",
        "\n",
        "[batch_size, features]"
      ]
    },
    {
      "cell_type": "code",
      "metadata": {
        "colab": {
          "base_uri": "https://localhost:8080/"
        },
        "id": "aRqIr6v2ByRs",
        "outputId": "d6cce671-6158-43aa-903f-42ea86ea0547"
      },
      "source": [
        "SAMPLE_SIZE = Xembd_layer.shape[0] # number of samples in train set\n",
        "TIMESTEPS  = Xembd_layer.shape[1] # number of features in train set\n",
        "N_FEATURES = 1               # each feature is represented by 1 number\n",
        "\n",
        "#Reshape the dataset\n",
        "train_data_reshaped = tf.reshape(Xembd_layer, [SAMPLE_SIZE,TIMESTEPS,N_FEATURES])\n",
        "\n",
        "print(\"After reshape train data set shape: \", train_data_reshaped.shape)\n",
        "print(\"1 Sample shape: \",Xembd_layer[0].shape)\n",
        "print(\"An example sample:\\n\", Xembd_layer[0])"
      ],
      "execution_count": null,
      "outputs": [
        {
          "output_type": "stream",
          "name": "stdout",
          "text": [
            "After reshape train data set shape:  (20000, 50, 1)\n",
            "1 Sample shape:  (50,)\n",
            "An example sample:\n",
            " tf.Tensor(\n",
            "[ 0.5423195  -0.0119017   0.06337538  0.06862972 -0.16776837 -0.10581174\n",
            "  0.16865303 -0.04998824 -0.31148055  0.07910346  0.15442263  0.01488662\n",
            "  0.03930153  0.19772711 -0.12215476 -0.04120981 -0.2704109  -0.21922152\n",
            "  0.26517662 -0.80739075  0.25833532 -0.3100421   0.28683215  0.1943387\n",
            " -0.29036492  0.03862849 -0.7844411  -0.0479324   0.4110299  -0.36388892\n",
            " -0.58034706  0.30269456  0.3630897  -0.15227164 -0.44391504  0.19462997\n",
            "  0.19528408  0.05666234  0.2890704  -0.28468323 -0.00531206  0.0571938\n",
            " -0.3201318  -0.04418665 -0.08550783 -0.55847436 -0.23336391 -0.20782952\n",
            " -0.03543064 -0.17533456], shape=(50,), dtype=float32)\n"
          ]
        }
      ]
    },
    {
      "cell_type": "markdown",
      "metadata": {
        "id": "rK-90SSbsMlb"
      },
      "source": [
        "### Reshape the validation dataset "
      ]
    },
    {
      "cell_type": "code",
      "metadata": {
        "colab": {
          "base_uri": "https://localhost:8080/"
        },
        "id": "p04NcLcXpzVh",
        "outputId": "b1c2a2a8-6f24-4fd0-d8c5-80f56647e6ae"
      },
      "source": [
        "# We need to reshape the validation dataset as well\n",
        "val_SAMPLE_SIZE = val_emb_dataset.shape[0] # number of samples in train set\n",
        "val_TIMESTEPS  = val_emb_dataset.shape[1]  # number of features in train set\n",
        "val_N_FEATURES = 1                     # each feature is represented by 1 number\n",
        "\n",
        "#Reshape the dataset\n",
        "val_data_reshaped = tf.reshape(val_emb_dataset, [val_SAMPLE_SIZE, val_TIMESTEPS, val_N_FEATURES])\n",
        "\n",
        "print(\"After reshape train data set shape: \", val_data_reshaped.shape)\n",
        "print(\"1 Sample shape: \",val_emb_dataset[0].shape)\n",
        "print(\"An example sample:\\n\", val_emb_dataset[0])"
      ],
      "execution_count": null,
      "outputs": [
        {
          "output_type": "stream",
          "name": "stdout",
          "text": [
            "After reshape train data set shape:  (5000, 50, 1)\n",
            "1 Sample shape:  (50,)\n",
            "An example sample:\n",
            " tf.Tensor(\n",
            "[ 9.7111344e-01  8.3876096e-02 -2.3345542e-01  4.0072110e-01\n",
            "  5.3514248e-01 -3.3430302e-01  5.8403976e-02 -4.5053214e-02\n",
            " -2.8198385e-01  7.9080468e-01  1.9627273e-01  2.4578339e-01\n",
            "  1.3954996e-05  2.4302465e-01 -4.9030185e-01 -1.0163963e-01\n",
            " -2.9281303e-01  1.9660410e-01 -5.2004270e-02 -8.1745976e-01\n",
            " -6.7622498e-02 -2.1134062e-01  4.1776115e-01 -1.1303243e-01\n",
            " -2.8801519e-01  3.5838264e-01 -1.2306654e+00  2.4650088e-01\n",
            "  2.4441591e-01 -5.1148921e-01 -2.3490804e-01  3.8145795e-01\n",
            "  5.3663242e-01 -4.3924636e-01 -3.4829819e-01  3.6493841e-01\n",
            " -1.6470081e-01 -2.0877215e-01  1.1981481e-01 -6.7716628e-01\n",
            "  5.5227824e-03  3.5140291e-01 -4.3553081e-01  3.0726346e-01\n",
            " -2.0936011e-01  4.8649479e-02 -2.9413393e-01 -4.4267365e-01\n",
            "  2.0608190e-02 -6.8088852e-02], shape=(50,), dtype=float32)\n"
          ]
        }
      ]
    },
    {
      "cell_type": "markdown",
      "metadata": {
        "id": "4ijEyEl3ZiYu"
      },
      "source": [
        "### Reshape test_Dataset"
      ]
    },
    {
      "cell_type": "code",
      "metadata": {
        "colab": {
          "base_uri": "https://localhost:8080/"
        },
        "id": "eZLm6Ma2TvRp",
        "outputId": "3d369173-b1af-4930-8952-9745c2451a7f"
      },
      "source": [
        "SAMPLE_SIZE = test_emb_dataset.shape[0] # number of samples in train set\n",
        "TIMESTEPS  = test_emb_dataset.shape[1] # number of features in train set\n",
        "N_FEATURES = 1               # each feature is represented by 1 number\n",
        "\n",
        "#Reshape the dataset\n",
        "test_data_reshaped = tf.reshape(test_emb_dataset, [SAMPLE_SIZE,TIMESTEPS,N_FEATURES])\n",
        "\n",
        "print(\"After reshape train data set shape: \", test_data_reshaped.shape)\n",
        "print(\"1 Sample shape: \",test_emb_dataset[0].shape)\n",
        "print(\"An example sample:\\n\", test_emb_dataset[0])"
      ],
      "execution_count": null,
      "outputs": [
        {
          "output_type": "stream",
          "name": "stdout",
          "text": [
            "After reshape train data set shape:  (25000, 50, 1)\n",
            "1 Sample shape:  (50,)\n",
            "An example sample:\n",
            " tf.Tensor(\n",
            "[ 0.6750989   0.20966221 -0.24682619  0.70157504  0.00509059 -0.04043961\n",
            " -0.13563964  0.15544751 -0.6535283   0.24198306 -0.14894551 -0.00701114\n",
            " -0.28954473  0.2347527  -0.07211338 -0.26374155 -0.2103376   0.19537686\n",
            "  0.20801611 -0.53941184  0.09185641 -0.23350327  0.4647283   0.02278872\n",
            " -0.4248397  -0.3470194  -0.5100059  -0.0632058   0.11524688 -0.36703324\n",
            " -0.4015741   0.22107722  0.0946885  -0.21738936 -0.31970024  0.4252959\n",
            "  0.44440353  0.04942252  0.23904411 -0.48945317 -0.06317567  0.07366529\n",
            " -0.2791622   0.02657618 -0.24505381 -0.11724484 -0.2243641  -0.04366887\n",
            "  0.10280503  0.18705933], shape=(50,), dtype=float32)\n"
          ]
        }
      ]
    },
    {
      "cell_type": "markdown",
      "metadata": {
        "id": "g_22JK01039H"
      },
      "source": [
        "## Model Building:\n",
        "Model Building by using Convolutional Autoencoder-Classifier\n",
        "\n",
        "* An autoencoder is composed of an encoder and a decoder sub-models. The encoder compresses the input and the decoder attempts to recreate the input from the compressed version provided by the encoder. After training, the encoder model is saved and the decoder is discarded.\n",
        "* There are mainly 3 ways to force the autoencoder to learn useful features:\n",
        "  1. **keeping the code size small** : Keeping the code layer small forced our autoencoder to learn an intelligent representation of the data\n",
        "  2. **Denoising Autoencoders**: Adding random noise to its inputs and making it recover the original noise-free data. This way the autoencoder can’t simply copy the input to its output because the input also contains random noise. We are asking it to subtract the noise and produce the underlying meaningful data.\n",
        "  3. **Sparse Autoencoder**: A sparse autoencoder is simply an autoencoder whose training criterion involves a sparsity penalty. In most cases, we would construct our loss function by penalizing activations of hidden layers so that only a few nodes are encouraged to activate when a single sample is fed into the network\n",
        "\n",
        "For this example we use Sparse Autoencoder method to build a model.\n"
      ]
    },
    {
      "cell_type": "code",
      "metadata": {
        "id": "jQth67480ypF"
      },
      "source": [
        "# Sparse convolutional autoencoder\n",
        "\n",
        "inputs = Input(shape=(TIMESTEPS, N_FEATURES), name ='encoder_input')\n",
        "\n",
        "# Encoder Function \n",
        "def encoder ( inp ):\n",
        "\n",
        "  #1st layer of encoder of Conv1D should have same units should have number of input dimension\n",
        "  conv1 = Conv1D(filters = N_FEATURES, kernel_size =3, padding='same',activation='relu', name= 'encoder-conv1')(inp)\n",
        "  \n",
        "  #act = LeakyReLU(alpha=0.1)(conv1)\n",
        "  #norm = BatchNormalization()(act)\n",
        "  #conv2 = Conv1D(filters = N_FEATURES, kernel_size =3, padding='same', name= 'encoder-conv2')(norm)\n",
        "  #act2 = LeakyReLU(alpha=0.1)(conv1)\n",
        "  #norm = BatchNormalization()(act2)\n",
        "\n",
        "  # Add pooling layer\n",
        "  pool1 = MaxPool1D(pool_size=3, strides=1, padding='same', name='encoder-pool1')(conv1)\n",
        "\n",
        "  # Encoding layer\n",
        "  encoding = Dense(units=N_FEATURES, # Note: we can also change the nerons in this layer\n",
        "                   activation='linear',\n",
        "                   activity_regularizer = tf.keras.regularizers.L1( l1 = 0.01), # Add regulizer term to this layer to get sparsity \n",
        "                   name = 'encoder-dense')(pool1)\n",
        " \n",
        "\n",
        "  # now return the encoding values\n",
        "  return encoding\n"
      ],
      "execution_count": null,
      "outputs": []
    },
    {
      "cell_type": "code",
      "metadata": {
        "colab": {
          "base_uri": "https://localhost:8080/"
        },
        "id": "pRRwPYPS44CE",
        "outputId": "201c80dd-e90b-4c68-fc89-8dd0c368a784"
      },
      "source": [
        "encode = Model(inputs = inputs, outputs=encoder(inputs))\n",
        "encode.summary()"
      ],
      "execution_count": null,
      "outputs": [
        {
          "output_type": "stream",
          "name": "stdout",
          "text": [
            "Model: \"model\"\n",
            "_________________________________________________________________\n",
            "Layer (type)                 Output Shape              Param #   \n",
            "=================================================================\n",
            "encoder_input (InputLayer)   [(None, 50, 1)]           0         \n",
            "_________________________________________________________________\n",
            "encoder-conv1 (Conv1D)       (None, 50, 1)             4         \n",
            "_________________________________________________________________\n",
            "encoder-pool1 (MaxPooling1D) (None, 50, 1)             0         \n",
            "_________________________________________________________________\n",
            "encoder-dense (Dense)        (None, 50, 1)             2         \n",
            "=================================================================\n",
            "Total params: 6\n",
            "Trainable params: 6\n",
            "Non-trainable params: 0\n",
            "_________________________________________________________________\n"
          ]
        }
      ]
    },
    {
      "cell_type": "code",
      "metadata": {
        "colab": {
          "base_uri": "https://localhost:8080/"
        },
        "id": "oAqrDrBH8y4T",
        "outputId": "40e4ba65-7121-4da6-d50c-b4aa886d3f95"
      },
      "source": [
        "# lets see the outputs values of encoder model by taking 1 sample example\n",
        "encode.predict(test_data_reshaped[0])"
      ],
      "execution_count": null,
      "outputs": [
        {
          "output_type": "stream",
          "name": "stdout",
          "text": [
            "WARNING:tensorflow:Model was constructed with shape (None, 50, 1) for input KerasTensor(type_spec=TensorSpec(shape=(None, 50, 1), dtype=tf.float32, name='encoder_input'), name='encoder_input', description=\"created by layer 'encoder_input'\"), but it was called on an input with incompatible shape (None, 1, 1).\n"
          ]
        },
        {
          "output_type": "stream",
          "name": "stderr",
          "text": [
            "WARNING:tensorflow:Model was constructed with shape (None, 50, 1) for input KerasTensor(type_spec=TensorSpec(shape=(None, 50, 1), dtype=tf.float32, name='encoder_input'), name='encoder_input', description=\"created by layer 'encoder_input'\"), but it was called on an input with incompatible shape (None, 1, 1).\n"
          ]
        },
        {
          "output_type": "execute_result",
          "data": {
            "text/plain": [
              "array([[[0.        ]],\n",
              "\n",
              "       [[0.        ]],\n",
              "\n",
              "       [[0.12213753]],\n",
              "\n",
              "       [[0.        ]],\n",
              "\n",
              "       [[0.        ]],\n",
              "\n",
              "       [[0.02001082]],\n",
              "\n",
              "       [[0.06711885]],\n",
              "\n",
              "       [[0.        ]],\n",
              "\n",
              "       [[0.32338682]],\n",
              "\n",
              "       [[0.        ]],\n",
              "\n",
              "       [[0.07370303]],\n",
              "\n",
              "       [[0.00346934]],\n",
              "\n",
              "       [[0.14327604]],\n",
              "\n",
              "       [[0.        ]],\n",
              "\n",
              "       [[0.03568402]],\n",
              "\n",
              "       [[0.1305078 ]],\n",
              "\n",
              "       [[0.10408179]],\n",
              "\n",
              "       [[0.        ]],\n",
              "\n",
              "       [[0.        ]],\n",
              "\n",
              "       [[0.26691833]],\n",
              "\n",
              "       [[0.        ]],\n",
              "\n",
              "       [[0.11554492]],\n",
              "\n",
              "       [[0.        ]],\n",
              "\n",
              "       [[0.        ]],\n",
              "\n",
              "       [[0.21022435]],\n",
              "\n",
              "       [[0.17171636]],\n",
              "\n",
              "       [[0.2523673 ]],\n",
              "\n",
              "       [[0.03127626]],\n",
              "\n",
              "       [[0.        ]],\n",
              "\n",
              "       [[0.18161985]],\n",
              "\n",
              "       [[0.19871178]],\n",
              "\n",
              "       [[0.        ]],\n",
              "\n",
              "       [[0.        ]],\n",
              "\n",
              "       [[0.10757124]],\n",
              "\n",
              "       [[0.15819795]],\n",
              "\n",
              "       [[0.        ]],\n",
              "\n",
              "       [[0.        ]],\n",
              "\n",
              "       [[0.        ]],\n",
              "\n",
              "       [[0.        ]],\n",
              "\n",
              "       [[0.24219716]],\n",
              "\n",
              "       [[0.03126135]],\n",
              "\n",
              "       [[0.        ]],\n",
              "\n",
              "       [[0.13813843]],\n",
              "\n",
              "       [[0.        ]],\n",
              "\n",
              "       [[0.12126051]],\n",
              "\n",
              "       [[0.05801652]],\n",
              "\n",
              "       [[0.11102258]],\n",
              "\n",
              "       [[0.02160876]],\n",
              "\n",
              "       [[0.        ]],\n",
              "\n",
              "       [[0.        ]]], dtype=float32)"
            ]
          },
          "metadata": {},
          "execution_count": 15
        }
      ]
    },
    {
      "cell_type": "markdown",
      "metadata": {
        "id": "X03fz3nlMb9U"
      },
      "source": [
        "Inference : We can see that, The prediction of encoder is Sparse matric. This is caused due to adding regularization method in last layer of encoder where it penalize the less important values for prdiction to zeros."
      ]
    },
    {
      "cell_type": "code",
      "metadata": {
        "id": "tiqe_wtfLG-5"
      },
      "source": [
        "# Decoder Function\n",
        "def decoder(encoding):\n",
        "  # add Transpose Convolution layer to convolve and upsample the Encoder output to reconstruct back the original inputs back.\n",
        "  convT1 = Conv1DTranspose(filters=N_FEATURES, kernel_size=3, activation='linear', padding='same')(encoding)\n",
        "\n",
        "  #applying BatchNormalization to prevent from exploding gradients                 \n",
        "  #decoding = BatchNormalization()(convT1)\n",
        "\n",
        "  #conv11 = Conv1D(filters = 2, kernel_size =3, padding='same',activation='relu', name= 'encoder-conv11')(decoding)\n",
        "\n",
        "  #pool11 = MaxPool1D(pool_size=2, strides=1, padding='same', name='encoder-pool11')(convT1)\n",
        "\n",
        "  decoding = BatchNormalization()(convT1)\n",
        "\n",
        "  # final layer of decoder\n",
        "  decoding = Dense(units=N_FEATURES, \n",
        "                   activation ='linear')(decoding)\n",
        "\n",
        "  return decoding"
      ],
      "execution_count": null,
      "outputs": []
    },
    {
      "cell_type": "code",
      "metadata": {
        "colab": {
          "base_uri": "https://localhost:8080/"
        },
        "id": "2Z4fcCLw5K-V",
        "outputId": "833e46ab-50d4-43e3-9bdf-ee18f0dab2cf"
      },
      "source": [
        "# Group layers of encoder and decoder into an object with training and inference features.\n",
        "autoencoder = Model(inputs=inputs, outputs = decoder(encoder(inputs)))\n",
        "\n",
        "#Get the summary of Autoencoder\n",
        "autoencoder.summary()"
      ],
      "execution_count": null,
      "outputs": [
        {
          "output_type": "stream",
          "name": "stdout",
          "text": [
            "Model: \"model_1\"\n",
            "_________________________________________________________________\n",
            "Layer (type)                 Output Shape              Param #   \n",
            "=================================================================\n",
            "encoder_input (InputLayer)   [(None, 50, 1)]           0         \n",
            "_________________________________________________________________\n",
            "encoder-conv1 (Conv1D)       (None, 50, 1)             4         \n",
            "_________________________________________________________________\n",
            "encoder-pool1 (MaxPooling1D) (None, 50, 1)             0         \n",
            "_________________________________________________________________\n",
            "encoder-dense (Dense)        (None, 50, 1)             2         \n",
            "_________________________________________________________________\n",
            "conv1d_transpose (Conv1DTran (None, 50, 1)             4         \n",
            "_________________________________________________________________\n",
            "batch_normalization (BatchNo (None, 50, 1)             4         \n",
            "_________________________________________________________________\n",
            "dense (Dense)                (None, 50, 1)             2         \n",
            "=================================================================\n",
            "Total params: 16\n",
            "Trainable params: 14\n",
            "Non-trainable params: 2\n",
            "_________________________________________________________________\n"
          ]
        }
      ]
    },
    {
      "cell_type": "code",
      "metadata": {
        "colab": {
          "base_uri": "https://localhost:8080/"
        },
        "id": "0kQJrZ0hzeoB",
        "outputId": "d11e8c3c-ffb0-4c4f-d295-8ffad063b173"
      },
      "source": [
        "# autoencoder model compilation \n",
        "autoencoder.compile(loss = 'mean_squared_error',  optimizer='adam', metrics=['mean_absolute_error'])\n",
        "\n",
        "# Train the model\n",
        "history = autoencoder.fit(x =train_data_reshaped, y=train_data_reshaped, epochs=50, batch_size=150, \n",
        "                          validation_data=(val_data_reshaped, val_data_reshaped), \n",
        "                          verbose=1).history"
      ],
      "execution_count": null,
      "outputs": [
        {
          "output_type": "stream",
          "name": "stdout",
          "text": [
            "Epoch 1/50\n",
            "134/134 [==============================] - 2s 11ms/step - loss: 2.2358 - mean_absolute_error: 1.0836 - val_loss: 0.5262 - val_mean_absolute_error: 0.4441\n",
            "Epoch 2/50\n",
            "134/134 [==============================] - 1s 9ms/step - loss: 1.3175 - mean_absolute_error: 0.8222 - val_loss: 0.3999 - val_mean_absolute_error: 0.4444\n",
            "Epoch 3/50\n",
            "134/134 [==============================] - 1s 9ms/step - loss: 0.7578 - mean_absolute_error: 0.5936 - val_loss: 0.2507 - val_mean_absolute_error: 0.3291\n",
            "Epoch 4/50\n",
            "134/134 [==============================] - 1s 9ms/step - loss: 0.2681 - mean_absolute_error: 0.3461 - val_loss: 0.1861 - val_mean_absolute_error: 0.3188\n",
            "Epoch 5/50\n",
            "134/134 [==============================] - 1s 9ms/step - loss: 0.1803 - mean_absolute_error: 0.3181 - val_loss: 0.1790 - val_mean_absolute_error: 0.3170\n",
            "Epoch 6/50\n",
            "134/134 [==============================] - 1s 9ms/step - loss: 0.1761 - mean_absolute_error: 0.3152 - val_loss: 0.1738 - val_mean_absolute_error: 0.3122\n",
            "Epoch 7/50\n",
            "134/134 [==============================] - 1s 9ms/step - loss: 0.1732 - mean_absolute_error: 0.3112 - val_loss: 0.1720 - val_mean_absolute_error: 0.3083\n",
            "Epoch 8/50\n",
            "134/134 [==============================] - 1s 9ms/step - loss: 0.1705 - mean_absolute_error: 0.3065 - val_loss: 0.1704 - val_mean_absolute_error: 0.3048\n",
            "Epoch 9/50\n",
            "134/134 [==============================] - 1s 9ms/step - loss: 0.1682 - mean_absolute_error: 0.3017 - val_loss: 0.1697 - val_mean_absolute_error: 0.3011\n",
            "Epoch 10/50\n",
            "134/134 [==============================] - 1s 9ms/step - loss: 0.1664 - mean_absolute_error: 0.2979 - val_loss: 0.1669 - val_mean_absolute_error: 0.2967\n",
            "Epoch 11/50\n",
            "134/134 [==============================] - 1s 9ms/step - loss: 0.1648 - mean_absolute_error: 0.2948 - val_loss: 0.1642 - val_mean_absolute_error: 0.2932\n",
            "Epoch 12/50\n",
            "134/134 [==============================] - 1s 9ms/step - loss: 0.1631 - mean_absolute_error: 0.2923 - val_loss: 0.1655 - val_mean_absolute_error: 0.2931\n",
            "Epoch 13/50\n",
            "134/134 [==============================] - 1s 9ms/step - loss: 0.1612 - mean_absolute_error: 0.2897 - val_loss: 0.1626 - val_mean_absolute_error: 0.2925\n",
            "Epoch 14/50\n",
            "134/134 [==============================] - 1s 9ms/step - loss: 0.1589 - mean_absolute_error: 0.2872 - val_loss: 0.1578 - val_mean_absolute_error: 0.2858\n",
            "Epoch 15/50\n",
            "134/134 [==============================] - 1s 9ms/step - loss: 0.1561 - mean_absolute_error: 0.2840 - val_loss: 0.1547 - val_mean_absolute_error: 0.2827\n",
            "Epoch 16/50\n",
            "134/134 [==============================] - 1s 9ms/step - loss: 0.1516 - mean_absolute_error: 0.2783 - val_loss: 0.1592 - val_mean_absolute_error: 0.2938\n",
            "Epoch 17/50\n",
            "134/134 [==============================] - 1s 9ms/step - loss: 0.1430 - mean_absolute_error: 0.2697 - val_loss: 0.1500 - val_mean_absolute_error: 0.2887\n",
            "Epoch 18/50\n",
            "134/134 [==============================] - 1s 9ms/step - loss: 0.1340 - mean_absolute_error: 0.2662 - val_loss: 0.1490 - val_mean_absolute_error: 0.2919\n",
            "Epoch 19/50\n",
            "134/134 [==============================] - 1s 9ms/step - loss: 0.1297 - mean_absolute_error: 0.2648 - val_loss: 0.1411 - val_mean_absolute_error: 0.2807\n",
            "Epoch 20/50\n",
            "134/134 [==============================] - 1s 9ms/step - loss: 0.1268 - mean_absolute_error: 0.2623 - val_loss: 0.1303 - val_mean_absolute_error: 0.2655\n",
            "Epoch 21/50\n",
            "134/134 [==============================] - 1s 9ms/step - loss: 0.1244 - mean_absolute_error: 0.2585 - val_loss: 0.1302 - val_mean_absolute_error: 0.2633\n",
            "Epoch 22/50\n",
            "134/134 [==============================] - 1s 9ms/step - loss: 0.1207 - mean_absolute_error: 0.2525 - val_loss: 0.1188 - val_mean_absolute_error: 0.2513\n",
            "Epoch 23/50\n",
            "134/134 [==============================] - 1s 9ms/step - loss: 0.1171 - mean_absolute_error: 0.2502 - val_loss: 0.1176 - val_mean_absolute_error: 0.2511\n",
            "Epoch 24/50\n",
            "134/134 [==============================] - 1s 9ms/step - loss: 0.1161 - mean_absolute_error: 0.2507 - val_loss: 0.1164 - val_mean_absolute_error: 0.2510\n",
            "Epoch 25/50\n",
            "134/134 [==============================] - 1s 9ms/step - loss: 0.1154 - mean_absolute_error: 0.2509 - val_loss: 0.1167 - val_mean_absolute_error: 0.2537\n",
            "Epoch 26/50\n",
            "134/134 [==============================] - 1s 9ms/step - loss: 0.1149 - mean_absolute_error: 0.2510 - val_loss: 0.1148 - val_mean_absolute_error: 0.2507\n",
            "Epoch 27/50\n",
            "134/134 [==============================] - 1s 9ms/step - loss: 0.1144 - mean_absolute_error: 0.2510 - val_loss: 0.1154 - val_mean_absolute_error: 0.2531\n",
            "Epoch 28/50\n",
            "134/134 [==============================] - 1s 9ms/step - loss: 0.1140 - mean_absolute_error: 0.2509 - val_loss: 0.1140 - val_mean_absolute_error: 0.2508\n",
            "Epoch 29/50\n",
            "134/134 [==============================] - 1s 9ms/step - loss: 0.1137 - mean_absolute_error: 0.2509 - val_loss: 0.1331 - val_mean_absolute_error: 0.2806\n",
            "Epoch 30/50\n",
            "134/134 [==============================] - 1s 9ms/step - loss: 0.1133 - mean_absolute_error: 0.2508 - val_loss: 0.1198 - val_mean_absolute_error: 0.2576\n",
            "Epoch 31/50\n",
            "134/134 [==============================] - 1s 9ms/step - loss: 0.1130 - mean_absolute_error: 0.2508 - val_loss: 0.1129 - val_mean_absolute_error: 0.2504\n",
            "Epoch 32/50\n",
            "134/134 [==============================] - 1s 9ms/step - loss: 0.1127 - mean_absolute_error: 0.2507 - val_loss: 0.1835 - val_mean_absolute_error: 0.3356\n",
            "Epoch 33/50\n",
            "134/134 [==============================] - 1s 9ms/step - loss: 0.1124 - mean_absolute_error: 0.2507 - val_loss: 0.1680 - val_mean_absolute_error: 0.3179\n",
            "Epoch 34/50\n",
            "134/134 [==============================] - 1s 9ms/step - loss: 0.1121 - mean_absolute_error: 0.2506 - val_loss: 0.1163 - val_mean_absolute_error: 0.2546\n",
            "Epoch 35/50\n",
            "134/134 [==============================] - 1s 9ms/step - loss: 0.1119 - mean_absolute_error: 0.2506 - val_loss: 0.1414 - val_mean_absolute_error: 0.2859\n",
            "Epoch 36/50\n",
            "134/134 [==============================] - 1s 9ms/step - loss: 0.1117 - mean_absolute_error: 0.2506 - val_loss: 0.1158 - val_mean_absolute_error: 0.2577\n",
            "Epoch 37/50\n",
            "134/134 [==============================] - 1s 9ms/step - loss: 0.1114 - mean_absolute_error: 0.2505 - val_loss: 0.1232 - val_mean_absolute_error: 0.2637\n",
            "Epoch 38/50\n",
            "134/134 [==============================] - 1s 9ms/step - loss: 0.1112 - mean_absolute_error: 0.2505 - val_loss: 0.1197 - val_mean_absolute_error: 0.2594\n",
            "Epoch 39/50\n",
            "134/134 [==============================] - 1s 9ms/step - loss: 0.1110 - mean_absolute_error: 0.2505 - val_loss: 0.1285 - val_mean_absolute_error: 0.2775\n",
            "Epoch 40/50\n",
            "134/134 [==============================] - 1s 9ms/step - loss: 0.1108 - mean_absolute_error: 0.2504 - val_loss: 0.1244 - val_mean_absolute_error: 0.2713\n",
            "Epoch 41/50\n",
            "134/134 [==============================] - 1s 9ms/step - loss: 0.1106 - mean_absolute_error: 0.2504 - val_loss: 0.1218 - val_mean_absolute_error: 0.2689\n",
            "Epoch 42/50\n",
            "134/134 [==============================] - 1s 9ms/step - loss: 0.1105 - mean_absolute_error: 0.2504 - val_loss: 0.2008 - val_mean_absolute_error: 0.3679\n",
            "Epoch 43/50\n",
            "134/134 [==============================] - 1s 9ms/step - loss: 0.1103 - mean_absolute_error: 0.2504 - val_loss: 0.1125 - val_mean_absolute_error: 0.2519\n",
            "Epoch 44/50\n",
            "134/134 [==============================] - 1s 9ms/step - loss: 0.1101 - mean_absolute_error: 0.2504 - val_loss: 0.1175 - val_mean_absolute_error: 0.2576\n",
            "Epoch 45/50\n",
            "134/134 [==============================] - 1s 9ms/step - loss: 0.1100 - mean_absolute_error: 0.2504 - val_loss: 0.1178 - val_mean_absolute_error: 0.2629\n",
            "Epoch 46/50\n",
            "134/134 [==============================] - 1s 9ms/step - loss: 0.1098 - mean_absolute_error: 0.2503 - val_loss: 0.1195 - val_mean_absolute_error: 0.2611\n",
            "Epoch 47/50\n",
            "134/134 [==============================] - 1s 9ms/step - loss: 0.1097 - mean_absolute_error: 0.2503 - val_loss: 0.1201 - val_mean_absolute_error: 0.2621\n",
            "Epoch 48/50\n",
            "134/134 [==============================] - 1s 9ms/step - loss: 0.1096 - mean_absolute_error: 0.2503 - val_loss: 0.2030 - val_mean_absolute_error: 0.3617\n",
            "Epoch 49/50\n",
            "134/134 [==============================] - 1s 9ms/step - loss: 0.1094 - mean_absolute_error: 0.2503 - val_loss: 0.1806 - val_mean_absolute_error: 0.3368\n",
            "Epoch 50/50\n",
            "134/134 [==============================] - 1s 9ms/step - loss: 0.1093 - mean_absolute_error: 0.2503 - val_loss: 0.1277 - val_mean_absolute_error: 0.2714\n"
          ]
        }
      ]
    },
    {
      "cell_type": "markdown",
      "metadata": {
        "id": "NoPZILSvO-51"
      },
      "source": [
        "### Convolutional Classifier Initialized with Encoder\n",
        "A classifier can be (potentially) enhanced with an autoencoder. Listing constructs a feed-forward convolutional classifier with an encoder\n",
        "attached to it."
      ]
    },
    {
      "cell_type": "code",
      "metadata": {
        "id": "ubHQ4rzeNtbx"
      },
      "source": [
        "#  CNN Classifier initialized with Encoder\n",
        "def fully_connected ( encoding ):\n",
        "  # convolution 1d layer\n",
        "  conv1 = Conv1D(filters =20, kernel_size=3, activation='relu' ,padding='valid', name = 'fc-con1')(encoding)\n",
        "\n",
        "  #conv2 = Conv1D(filters =20, kernel_size=3, padding='valid', activation='relu', name = 'fc-con2')(conv1)\n",
        "\n",
        "  # Pooling layer\n",
        "  pool1 = MaxPool1D(pool_size=2, padding='valid', name ='fc-pool1')(conv1)\n",
        "  \n",
        "  #flatten the output of pooling layer\n",
        "  flat1 = Flatten()(pool1)\n",
        "   \n",
        "  #Dense layer\n",
        "  den = Dense(units=20, activation='relu')(flat1)\n",
        "   \n",
        "  # output layer\n",
        "  output = Dense ( units =1, activation='sigmoid', name = 'output')(den)\n",
        "\n",
        "  return(output)\n",
        "\n",
        "encoding = encoder(inputs)\n",
        "\n",
        "# Combine encoder(trained encoder) and fullyconnected models to get final output\n",
        "Classifier = Model(inputs = inputs, outputs= fully_connected(encoding=encoder(inputs)))"
      ],
      "execution_count": null,
      "outputs": []
    },
    {
      "cell_type": "markdown",
      "metadata": {
        "id": "F1NIHPDzVBvJ"
      },
      "source": [
        "The encoder can be used to have either a,\n",
        "  * Pre-trained classifier. A trained encoder can be used as a part\n",
        "of a feed-forward classifier network. Or,\n",
        "  * Encoded features as input. The features produced by an encoder used as     input to a classifier.\n",
        "\n",
        "Corresponding to the two approaches, an argument retrain_encoding\n",
        "is defined in Listing.\n",
        "The argument when set to False results in the classifier using the\n",
        "encoded features as input. This is achieved by making the layers in the encoder section of the model as non-trainable in line 13 in the listing.\n",
        "The argument, retrain_encoding, when set to True uses the encoding weights to initialize the model and retrain them while learning\n",
        "the classifier."
      ]
    },
    {
      "cell_type": "code",
      "metadata": {
        "colab": {
          "base_uri": "https://localhost:8080/"
        },
        "id": "28E-nOABXEpB",
        "outputId": "10597f32-b90c-4d34-9aa3-91bec35b53f8"
      },
      "source": [
        "# layers in Classifer model\n",
        "Classifier.layers"
      ],
      "execution_count": null,
      "outputs": [
        {
          "output_type": "execute_result",
          "data": {
            "text/plain": [
              "[<keras.engine.input_layer.InputLayer at 0x7fe068fb0150>,\n",
              " <keras.layers.convolutional.Conv1D at 0x7fe066d65490>,\n",
              " <keras.layers.pooling.MaxPooling1D at 0x7fe066d6c450>,\n",
              " <keras.layers.core.Dense at 0x7fe0697cf110>,\n",
              " <keras.layers.convolutional.Conv1D at 0x7fe0697e8ed0>,\n",
              " <keras.layers.pooling.MaxPooling1D at 0x7fe06858ded0>,\n",
              " <keras.layers.core.Flatten at 0x7fe066d7cfd0>,\n",
              " <keras.layers.core.Dense at 0x7fe06859e890>,\n",
              " <keras.layers.core.Dense at 0x7fe06859e250>]"
            ]
          },
          "metadata": {},
          "execution_count": 20
        }
      ]
    },
    {
      "cell_type": "code",
      "metadata": {
        "colab": {
          "base_uri": "https://localhost:8080/"
        },
        "id": "wfkaAiJaWRUQ",
        "outputId": "57f59145-b860-4f2f-adef-ea5b652ff143"
      },
      "source": [
        "# layers in Autoencoders\n",
        "autoencoder.layers"
      ],
      "execution_count": null,
      "outputs": [
        {
          "output_type": "execute_result",
          "data": {
            "text/plain": [
              "[<keras.engine.input_layer.InputLayer at 0x7fe068fb0150>,\n",
              " <keras.layers.convolutional.Conv1D at 0x7fe068dcea90>,\n",
              " <keras.layers.pooling.MaxPooling1D at 0x7fe068e17310>,\n",
              " <keras.layers.core.Dense at 0x7fe068e36110>,\n",
              " <keras.layers.convolutional.Conv1DTranspose at 0x7fe068e36f90>,\n",
              " <keras.layers.normalization.batch_normalization.BatchNormalization at 0x7fe068dda610>,\n",
              " <keras.layers.core.Dense at 0x7fe068e09850>]"
            ]
          },
          "metadata": {},
          "execution_count": 21
        }
      ]
    },
    {
      "cell_type": "code",
      "metadata": {
        "colab": {
          "base_uri": "https://localhost:8080/"
        },
        "id": "Fh-LzHhgcvhl",
        "outputId": "ec267af5-09d9-4c36-d4f4-c28d2fcacede"
      },
      "source": [
        "# Classifier layer initialized with encoder\n",
        "retrain_encoding = False\n",
        "\n",
        "# loop through every layers in classifier model\n",
        "for classifier_layer in Classifier.layers : \n",
        "\n",
        "  # loop through every layers in autoencoder model\n",
        "  for autoencoder_layer in autoencoder.layers:\n",
        "\n",
        "    # Get the name of common layers(i.e, Encoder layers) \n",
        "    if classifier_layer.name == autoencoder_layer.name:\n",
        "\n",
        "      # Set the weights of classifier same as the corresponding autoencoder(encoder) layer\n",
        "      classifier_layer.set_weights(autoencoder_layer.get_weights())\n",
        "\n",
        "      # Only train encoder model if user wants to train the encoder model\n",
        "      if retrain_encoding == False: \n",
        "        # don't train the encoder model layers\n",
        "        classifier_layer.trainable = False\n",
        "\n",
        "        print(classifier_layer.name + 'in classifier set to ' + autoencoder_layer.name + 'in the encoder is trainable:' + \n",
        "              str(classifier_layer.trainable))\n",
        "        \n",
        "Classifier.summary()"
      ],
      "execution_count": null,
      "outputs": [
        {
          "output_type": "stream",
          "name": "stdout",
          "text": [
            "encoder_inputin classifier set to encoder_inputin the encoder is trainable:False\n",
            "encoder-conv1in classifier set to encoder-conv1in the encoder is trainable:False\n",
            "encoder-pool1in classifier set to encoder-pool1in the encoder is trainable:False\n",
            "encoder-densein classifier set to encoder-densein the encoder is trainable:False\n",
            "Model: \"model_2\"\n",
            "_________________________________________________________________\n",
            "Layer (type)                 Output Shape              Param #   \n",
            "=================================================================\n",
            "encoder_input (InputLayer)   [(None, 50, 1)]           0         \n",
            "_________________________________________________________________\n",
            "encoder-conv1 (Conv1D)       (None, 50, 1)             4         \n",
            "_________________________________________________________________\n",
            "encoder-pool1 (MaxPooling1D) (None, 50, 1)             0         \n",
            "_________________________________________________________________\n",
            "encoder-dense (Dense)        (None, 50, 1)             2         \n",
            "_________________________________________________________________\n",
            "fc-con1 (Conv1D)             (None, 48, 20)            80        \n",
            "_________________________________________________________________\n",
            "fc-pool1 (MaxPooling1D)      (None, 24, 20)            0         \n",
            "_________________________________________________________________\n",
            "flatten (Flatten)            (None, 480)               0         \n",
            "_________________________________________________________________\n",
            "dense_1 (Dense)              (None, 20)                9620      \n",
            "_________________________________________________________________\n",
            "output (Dense)               (None, 1)                 21        \n",
            "=================================================================\n",
            "Total params: 9,727\n",
            "Trainable params: 9,721\n",
            "Non-trainable params: 6\n",
            "_________________________________________________________________\n"
          ]
        }
      ]
    },
    {
      "cell_type": "code",
      "metadata": {
        "id": "hjazMWhhcvbJ"
      },
      "source": [
        "# compile the Classifier model\n",
        "Classifier.compile (optimizer= 'adam', loss= 'binary_crossentropy' , metrics =['accuracy', tf.keras.metrics.Recall()])"
      ],
      "execution_count": null,
      "outputs": []
    },
    {
      "cell_type": "code",
      "metadata": {
        "colab": {
          "base_uri": "https://localhost:8080/"
        },
        "id": "3n9j3ohUcu7-",
        "outputId": "78d8109a-9a68-4371-c790-1db3137a828c"
      },
      "source": [
        "#Train the model\n",
        "history = Classifier.fit(x =train_data_reshaped, y=train_labels_batch.numpy(), epochs=100, \n",
        "                         validation_data=(val_data_reshaped, val_labels_batch.numpy()), verbose=1).history"
      ],
      "execution_count": null,
      "outputs": [
        {
          "output_type": "stream",
          "name": "stdout",
          "text": [
            "Epoch 1/100\n",
            "625/625 [==============================] - 2s 3ms/step - loss: 0.6673 - accuracy: 0.6132 - recall: 0.6516 - val_loss: 0.6194 - val_accuracy: 0.6750 - val_recall: 0.6713\n",
            "Epoch 2/100\n",
            "625/625 [==============================] - 3s 5ms/step - loss: 0.6137 - accuracy: 0.6682 - recall: 0.6499 - val_loss: 0.6011 - val_accuracy: 0.6842 - val_recall: 0.7096\n",
            "Epoch 3/100\n",
            "625/625 [==============================] - 3s 5ms/step - loss: 0.6044 - accuracy: 0.6772 - recall: 0.6614 - val_loss: 0.6070 - val_accuracy: 0.6632 - val_recall: 0.8139\n",
            "Epoch 4/100\n",
            "625/625 [==============================] - 3s 4ms/step - loss: 0.5970 - accuracy: 0.6857 - recall: 0.6731 - val_loss: 0.5979 - val_accuracy: 0.6890 - val_recall: 0.5579\n",
            "Epoch 5/100\n",
            "625/625 [==============================] - 3s 4ms/step - loss: 0.5927 - accuracy: 0.6887 - recall: 0.6721 - val_loss: 0.5810 - val_accuracy: 0.6960 - val_recall: 0.7183\n",
            "Epoch 6/100\n",
            "625/625 [==============================] - 3s 4ms/step - loss: 0.5868 - accuracy: 0.6934 - recall: 0.6769 - val_loss: 0.5844 - val_accuracy: 0.6884 - val_recall: 0.8009\n",
            "Epoch 7/100\n",
            "625/625 [==============================] - 3s 4ms/step - loss: 0.5850 - accuracy: 0.6964 - recall: 0.6826 - val_loss: 0.5820 - val_accuracy: 0.6940 - val_recall: 0.8131\n",
            "Epoch 8/100\n",
            "625/625 [==============================] - 3s 4ms/step - loss: 0.5798 - accuracy: 0.7002 - recall: 0.6841 - val_loss: 0.5751 - val_accuracy: 0.7046 - val_recall: 0.8005\n",
            "Epoch 9/100\n",
            "625/625 [==============================] - 3s 4ms/step - loss: 0.5766 - accuracy: 0.7024 - recall: 0.6880 - val_loss: 0.5650 - val_accuracy: 0.7102 - val_recall: 0.7270\n",
            "Epoch 10/100\n",
            "625/625 [==============================] - 3s 4ms/step - loss: 0.5735 - accuracy: 0.7056 - recall: 0.6932 - val_loss: 0.5647 - val_accuracy: 0.7142 - val_recall: 0.7641\n",
            "Epoch 11/100\n",
            "625/625 [==============================] - 3s 5ms/step - loss: 0.5734 - accuracy: 0.7055 - recall: 0.6901 - val_loss: 0.5605 - val_accuracy: 0.7166 - val_recall: 0.7226\n",
            "Epoch 12/100\n",
            "625/625 [==============================] - 3s 4ms/step - loss: 0.5713 - accuracy: 0.7062 - recall: 0.6956 - val_loss: 0.5641 - val_accuracy: 0.7102 - val_recall: 0.6409\n",
            "Epoch 13/100\n",
            "625/625 [==============================] - 3s 4ms/step - loss: 0.5676 - accuracy: 0.7096 - recall: 0.6970 - val_loss: 0.5580 - val_accuracy: 0.7182 - val_recall: 0.6993\n",
            "Epoch 14/100\n",
            "625/625 [==============================] - 3s 4ms/step - loss: 0.5673 - accuracy: 0.7128 - recall: 0.7003 - val_loss: 0.5568 - val_accuracy: 0.7186 - val_recall: 0.7199\n",
            "Epoch 15/100\n",
            "625/625 [==============================] - 3s 4ms/step - loss: 0.5668 - accuracy: 0.7078 - recall: 0.6974 - val_loss: 0.5566 - val_accuracy: 0.7200 - val_recall: 0.7029\n",
            "Epoch 16/100\n",
            "625/625 [==============================] - 3s 4ms/step - loss: 0.5653 - accuracy: 0.7114 - recall: 0.6978 - val_loss: 0.5555 - val_accuracy: 0.7192 - val_recall: 0.7440\n",
            "Epoch 17/100\n",
            "625/625 [==============================] - 3s 4ms/step - loss: 0.5667 - accuracy: 0.7095 - recall: 0.6941 - val_loss: 0.5705 - val_accuracy: 0.7080 - val_recall: 0.8345\n",
            "Epoch 18/100\n",
            "625/625 [==============================] - 3s 4ms/step - loss: 0.5647 - accuracy: 0.7124 - recall: 0.6983 - val_loss: 0.5549 - val_accuracy: 0.7166 - val_recall: 0.6729\n",
            "Epoch 19/100\n",
            "625/625 [==============================] - 3s 4ms/step - loss: 0.5652 - accuracy: 0.7109 - recall: 0.6990 - val_loss: 0.5554 - val_accuracy: 0.7172 - val_recall: 0.7780\n",
            "Epoch 20/100\n",
            "625/625 [==============================] - 3s 4ms/step - loss: 0.5629 - accuracy: 0.7145 - recall: 0.7014 - val_loss: 0.5530 - val_accuracy: 0.7202 - val_recall: 0.7377\n",
            "Epoch 21/100\n",
            "625/625 [==============================] - 3s 4ms/step - loss: 0.5631 - accuracy: 0.7111 - recall: 0.6997 - val_loss: 0.5554 - val_accuracy: 0.7194 - val_recall: 0.6622\n",
            "Epoch 22/100\n",
            "625/625 [==============================] - 3s 4ms/step - loss: 0.5623 - accuracy: 0.7143 - recall: 0.7011 - val_loss: 0.5534 - val_accuracy: 0.7218 - val_recall: 0.7412\n",
            "Epoch 23/100\n",
            "625/625 [==============================] - 3s 4ms/step - loss: 0.5626 - accuracy: 0.7122 - recall: 0.6987 - val_loss: 0.5608 - val_accuracy: 0.7108 - val_recall: 0.8107\n",
            "Epoch 24/100\n",
            "625/625 [==============================] - 3s 4ms/step - loss: 0.5618 - accuracy: 0.7135 - recall: 0.6965 - val_loss: 0.5507 - val_accuracy: 0.7226 - val_recall: 0.7001\n",
            "Epoch 25/100\n",
            "625/625 [==============================] - 3s 4ms/step - loss: 0.5608 - accuracy: 0.7165 - recall: 0.7030 - val_loss: 0.5499 - val_accuracy: 0.7252 - val_recall: 0.7218\n",
            "Epoch 26/100\n",
            "625/625 [==============================] - 3s 4ms/step - loss: 0.5600 - accuracy: 0.7157 - recall: 0.7019 - val_loss: 0.5519 - val_accuracy: 0.7216 - val_recall: 0.6717\n",
            "Epoch 27/100\n",
            "625/625 [==============================] - 3s 4ms/step - loss: 0.5587 - accuracy: 0.7164 - recall: 0.7036 - val_loss: 0.5503 - val_accuracy: 0.7258 - val_recall: 0.7033\n",
            "Epoch 28/100\n",
            "625/625 [==============================] - 3s 4ms/step - loss: 0.5594 - accuracy: 0.7168 - recall: 0.6996 - val_loss: 0.5499 - val_accuracy: 0.7234 - val_recall: 0.6855\n",
            "Epoch 29/100\n",
            "625/625 [==============================] - 3s 4ms/step - loss: 0.5595 - accuracy: 0.7157 - recall: 0.7004 - val_loss: 0.5524 - val_accuracy: 0.7164 - val_recall: 0.6492\n",
            "Epoch 30/100\n",
            "625/625 [==============================] - 3s 4ms/step - loss: 0.5580 - accuracy: 0.7165 - recall: 0.7023 - val_loss: 0.5481 - val_accuracy: 0.7234 - val_recall: 0.7179\n",
            "Epoch 31/100\n",
            "625/625 [==============================] - 3s 4ms/step - loss: 0.5585 - accuracy: 0.7157 - recall: 0.7001 - val_loss: 0.5534 - val_accuracy: 0.7204 - val_recall: 0.6424\n",
            "Epoch 32/100\n",
            "625/625 [==============================] - 3s 4ms/step - loss: 0.5573 - accuracy: 0.7196 - recall: 0.7042 - val_loss: 0.5565 - val_accuracy: 0.7140 - val_recall: 0.6171\n",
            "Epoch 33/100\n",
            "625/625 [==============================] - 3s 5ms/step - loss: 0.5575 - accuracy: 0.7162 - recall: 0.6991 - val_loss: 0.5521 - val_accuracy: 0.7192 - val_recall: 0.7866\n",
            "Epoch 34/100\n",
            "625/625 [==============================] - 3s 4ms/step - loss: 0.5578 - accuracy: 0.7156 - recall: 0.7004 - val_loss: 0.5466 - val_accuracy: 0.7266 - val_recall: 0.7412\n",
            "Epoch 35/100\n",
            "625/625 [==============================] - 3s 4ms/step - loss: 0.5567 - accuracy: 0.7193 - recall: 0.7059 - val_loss: 0.5520 - val_accuracy: 0.7208 - val_recall: 0.7942\n",
            "Epoch 36/100\n",
            "625/625 [==============================] - 3s 4ms/step - loss: 0.5556 - accuracy: 0.7179 - recall: 0.7039 - val_loss: 0.5508 - val_accuracy: 0.7206 - val_recall: 0.7851\n",
            "Epoch 37/100\n",
            "625/625 [==============================] - 3s 4ms/step - loss: 0.5558 - accuracy: 0.7180 - recall: 0.7011 - val_loss: 0.5455 - val_accuracy: 0.7244 - val_recall: 0.7159\n",
            "Epoch 38/100\n",
            "625/625 [==============================] - 3s 4ms/step - loss: 0.5565 - accuracy: 0.7165 - recall: 0.7000 - val_loss: 0.5472 - val_accuracy: 0.7252 - val_recall: 0.7349\n",
            "Epoch 39/100\n",
            "625/625 [==============================] - 3s 4ms/step - loss: 0.5543 - accuracy: 0.7212 - recall: 0.7089 - val_loss: 0.5472 - val_accuracy: 0.7246 - val_recall: 0.6812\n",
            "Epoch 40/100\n",
            "625/625 [==============================] - 3s 4ms/step - loss: 0.5554 - accuracy: 0.7176 - recall: 0.7041 - val_loss: 0.5473 - val_accuracy: 0.7252 - val_recall: 0.6839\n",
            "Epoch 41/100\n",
            "625/625 [==============================] - 3s 4ms/step - loss: 0.5564 - accuracy: 0.7181 - recall: 0.7024 - val_loss: 0.5470 - val_accuracy: 0.7208 - val_recall: 0.7645\n",
            "Epoch 42/100\n",
            "625/625 [==============================] - 3s 4ms/step - loss: 0.5537 - accuracy: 0.7172 - recall: 0.7021 - val_loss: 0.5447 - val_accuracy: 0.7262 - val_recall: 0.7444\n",
            "Epoch 43/100\n",
            "625/625 [==============================] - 3s 4ms/step - loss: 0.5542 - accuracy: 0.7182 - recall: 0.7036 - val_loss: 0.5448 - val_accuracy: 0.7262 - val_recall: 0.7282\n",
            "Epoch 44/100\n",
            "625/625 [==============================] - 3s 4ms/step - loss: 0.5542 - accuracy: 0.7200 - recall: 0.7055 - val_loss: 0.5440 - val_accuracy: 0.7282 - val_recall: 0.7420\n",
            "Epoch 45/100\n",
            "625/625 [==============================] - 3s 4ms/step - loss: 0.5535 - accuracy: 0.7185 - recall: 0.7042 - val_loss: 0.5588 - val_accuracy: 0.7176 - val_recall: 0.6061\n",
            "Epoch 46/100\n",
            "625/625 [==============================] - 3s 5ms/step - loss: 0.5530 - accuracy: 0.7208 - recall: 0.7052 - val_loss: 0.5461 - val_accuracy: 0.7230 - val_recall: 0.6902\n",
            "Epoch 47/100\n",
            "625/625 [==============================] - 3s 4ms/step - loss: 0.5518 - accuracy: 0.7200 - recall: 0.7079 - val_loss: 0.5480 - val_accuracy: 0.7240 - val_recall: 0.6653\n",
            "Epoch 48/100\n",
            "625/625 [==============================] - 3s 4ms/step - loss: 0.5532 - accuracy: 0.7210 - recall: 0.7060 - val_loss: 0.5439 - val_accuracy: 0.7274 - val_recall: 0.7444\n",
            "Epoch 49/100\n",
            "625/625 [==============================] - 3s 4ms/step - loss: 0.5528 - accuracy: 0.7216 - recall: 0.7076 - val_loss: 0.5441 - val_accuracy: 0.7284 - val_recall: 0.7329\n",
            "Epoch 50/100\n",
            "625/625 [==============================] - 3s 4ms/step - loss: 0.5523 - accuracy: 0.7202 - recall: 0.7068 - val_loss: 0.5432 - val_accuracy: 0.7280 - val_recall: 0.7317\n",
            "Epoch 51/100\n",
            "625/625 [==============================] - 3s 4ms/step - loss: 0.5528 - accuracy: 0.7203 - recall: 0.7087 - val_loss: 0.5441 - val_accuracy: 0.7252 - val_recall: 0.7112\n",
            "Epoch 52/100\n",
            "625/625 [==============================] - 3s 4ms/step - loss: 0.5521 - accuracy: 0.7200 - recall: 0.7063 - val_loss: 0.5452 - val_accuracy: 0.7264 - val_recall: 0.7677\n",
            "Epoch 53/100\n",
            "625/625 [==============================] - 3s 4ms/step - loss: 0.5509 - accuracy: 0.7204 - recall: 0.7052 - val_loss: 0.5495 - val_accuracy: 0.7238 - val_recall: 0.6464\n",
            "Epoch 54/100\n",
            "625/625 [==============================] - 3s 4ms/step - loss: 0.5508 - accuracy: 0.7214 - recall: 0.7100 - val_loss: 0.5420 - val_accuracy: 0.7294 - val_recall: 0.7218\n",
            "Epoch 55/100\n",
            "625/625 [==============================] - 3s 4ms/step - loss: 0.5514 - accuracy: 0.7218 - recall: 0.7075 - val_loss: 0.5425 - val_accuracy: 0.7274 - val_recall: 0.7392\n",
            "Epoch 56/100\n",
            "625/625 [==============================] - 3s 5ms/step - loss: 0.5503 - accuracy: 0.7212 - recall: 0.7081 - val_loss: 0.5442 - val_accuracy: 0.7256 - val_recall: 0.7104\n",
            "Epoch 57/100\n",
            "625/625 [==============================] - 3s 4ms/step - loss: 0.5504 - accuracy: 0.7207 - recall: 0.7071 - val_loss: 0.5576 - val_accuracy: 0.7200 - val_recall: 0.6029\n",
            "Epoch 58/100\n",
            "625/625 [==============================] - 3s 4ms/step - loss: 0.5498 - accuracy: 0.7224 - recall: 0.7098 - val_loss: 0.5435 - val_accuracy: 0.7262 - val_recall: 0.6946\n",
            "Epoch 59/100\n",
            "625/625 [==============================] - 3s 4ms/step - loss: 0.5505 - accuracy: 0.7228 - recall: 0.7080 - val_loss: 0.5418 - val_accuracy: 0.7296 - val_recall: 0.7147\n",
            "Epoch 60/100\n",
            "625/625 [==============================] - 3s 4ms/step - loss: 0.5485 - accuracy: 0.7214 - recall: 0.7100 - val_loss: 0.5438 - val_accuracy: 0.7238 - val_recall: 0.7768\n",
            "Epoch 61/100\n",
            "625/625 [==============================] - 3s 4ms/step - loss: 0.5499 - accuracy: 0.7209 - recall: 0.7076 - val_loss: 0.5419 - val_accuracy: 0.7296 - val_recall: 0.7238\n",
            "Epoch 62/100\n",
            "625/625 [==============================] - 3s 4ms/step - loss: 0.5496 - accuracy: 0.7220 - recall: 0.7100 - val_loss: 0.5451 - val_accuracy: 0.7244 - val_recall: 0.7653\n",
            "Epoch 63/100\n",
            "625/625 [==============================] - 3s 5ms/step - loss: 0.5488 - accuracy: 0.7211 - recall: 0.7060 - val_loss: 0.5424 - val_accuracy: 0.7302 - val_recall: 0.7112\n",
            "Epoch 64/100\n",
            "625/625 [==============================] - 3s 4ms/step - loss: 0.5497 - accuracy: 0.7222 - recall: 0.7090 - val_loss: 0.5515 - val_accuracy: 0.7278 - val_recall: 0.6349\n",
            "Epoch 65/100\n",
            "625/625 [==============================] - 3s 5ms/step - loss: 0.5487 - accuracy: 0.7233 - recall: 0.7094 - val_loss: 0.5470 - val_accuracy: 0.7198 - val_recall: 0.7863\n",
            "Epoch 66/100\n",
            "625/625 [==============================] - 3s 4ms/step - loss: 0.5478 - accuracy: 0.7240 - recall: 0.7111 - val_loss: 0.5429 - val_accuracy: 0.7304 - val_recall: 0.7365\n",
            "Epoch 67/100\n",
            "625/625 [==============================] - 3s 4ms/step - loss: 0.5481 - accuracy: 0.7244 - recall: 0.7119 - val_loss: 0.5436 - val_accuracy: 0.7286 - val_recall: 0.6855\n",
            "Epoch 68/100\n",
            "625/625 [==============================] - 3s 4ms/step - loss: 0.5488 - accuracy: 0.7229 - recall: 0.7119 - val_loss: 0.5544 - val_accuracy: 0.7248 - val_recall: 0.6148\n",
            "Epoch 69/100\n",
            "625/625 [==============================] - 3s 4ms/step - loss: 0.5476 - accuracy: 0.7258 - recall: 0.7120 - val_loss: 0.5435 - val_accuracy: 0.7278 - val_recall: 0.7693\n",
            "Epoch 70/100\n",
            "625/625 [==============================] - 3s 4ms/step - loss: 0.5479 - accuracy: 0.7242 - recall: 0.7104 - val_loss: 0.5404 - val_accuracy: 0.7292 - val_recall: 0.7250\n",
            "Epoch 71/100\n",
            "625/625 [==============================] - 3s 4ms/step - loss: 0.5474 - accuracy: 0.7234 - recall: 0.7099 - val_loss: 0.5423 - val_accuracy: 0.7300 - val_recall: 0.7108\n",
            "Epoch 72/100\n",
            "625/625 [==============================] - 3s 4ms/step - loss: 0.5484 - accuracy: 0.7229 - recall: 0.7093 - val_loss: 0.5460 - val_accuracy: 0.7232 - val_recall: 0.7914\n",
            "Epoch 73/100\n",
            "625/625 [==============================] - 3s 4ms/step - loss: 0.5480 - accuracy: 0.7221 - recall: 0.7100 - val_loss: 0.5431 - val_accuracy: 0.7302 - val_recall: 0.7748\n",
            "Epoch 74/100\n",
            "625/625 [==============================] - 3s 5ms/step - loss: 0.5480 - accuracy: 0.7239 - recall: 0.7108 - val_loss: 0.5482 - val_accuracy: 0.7284 - val_recall: 0.6507\n",
            "Epoch 75/100\n",
            "625/625 [==============================] - 3s 4ms/step - loss: 0.5470 - accuracy: 0.7224 - recall: 0.7100 - val_loss: 0.5465 - val_accuracy: 0.7282 - val_recall: 0.6618\n",
            "Epoch 76/100\n",
            "625/625 [==============================] - 3s 4ms/step - loss: 0.5460 - accuracy: 0.7247 - recall: 0.7107 - val_loss: 0.5429 - val_accuracy: 0.7306 - val_recall: 0.7195\n",
            "Epoch 77/100\n",
            "625/625 [==============================] - 3s 4ms/step - loss: 0.5464 - accuracy: 0.7260 - recall: 0.7141 - val_loss: 0.5407 - val_accuracy: 0.7310 - val_recall: 0.7033\n",
            "Epoch 78/100\n",
            "625/625 [==============================] - 3s 5ms/step - loss: 0.5456 - accuracy: 0.7237 - recall: 0.7106 - val_loss: 0.5427 - val_accuracy: 0.7320 - val_recall: 0.7499\n",
            "Epoch 79/100\n",
            "625/625 [==============================] - 3s 4ms/step - loss: 0.5463 - accuracy: 0.7235 - recall: 0.7082 - val_loss: 0.5415 - val_accuracy: 0.7282 - val_recall: 0.7614\n",
            "Epoch 80/100\n",
            "625/625 [==============================] - 3s 4ms/step - loss: 0.5461 - accuracy: 0.7253 - recall: 0.7127 - val_loss: 0.5447 - val_accuracy: 0.7270 - val_recall: 0.6689\n",
            "Epoch 81/100\n",
            "625/625 [==============================] - 3s 4ms/step - loss: 0.5460 - accuracy: 0.7258 - recall: 0.7127 - val_loss: 0.5402 - val_accuracy: 0.7298 - val_recall: 0.7527\n",
            "Epoch 82/100\n",
            "625/625 [==============================] - 3s 4ms/step - loss: 0.5452 - accuracy: 0.7241 - recall: 0.7104 - val_loss: 0.5407 - val_accuracy: 0.7294 - val_recall: 0.7531\n",
            "Epoch 83/100\n",
            "625/625 [==============================] - 3s 4ms/step - loss: 0.5461 - accuracy: 0.7259 - recall: 0.7124 - val_loss: 0.5412 - val_accuracy: 0.7298 - val_recall: 0.6985\n",
            "Epoch 84/100\n",
            "625/625 [==============================] - 3s 4ms/step - loss: 0.5445 - accuracy: 0.7248 - recall: 0.7082 - val_loss: 0.5428 - val_accuracy: 0.7304 - val_recall: 0.7732\n",
            "Epoch 85/100\n",
            "625/625 [==============================] - 3s 4ms/step - loss: 0.5447 - accuracy: 0.7258 - recall: 0.7121 - val_loss: 0.5401 - val_accuracy: 0.7300 - val_recall: 0.6985\n",
            "Epoch 86/100\n",
            "625/625 [==============================] - 3s 4ms/step - loss: 0.5439 - accuracy: 0.7261 - recall: 0.7115 - val_loss: 0.5401 - val_accuracy: 0.7308 - val_recall: 0.7171\n",
            "Epoch 87/100\n",
            "625/625 [==============================] - 3s 4ms/step - loss: 0.5441 - accuracy: 0.7264 - recall: 0.7139 - val_loss: 0.5419 - val_accuracy: 0.7304 - val_recall: 0.7056\n",
            "Epoch 88/100\n",
            "625/625 [==============================] - 3s 5ms/step - loss: 0.5445 - accuracy: 0.7276 - recall: 0.7143 - val_loss: 0.5395 - val_accuracy: 0.7316 - val_recall: 0.7286\n",
            "Epoch 89/100\n",
            "625/625 [==============================] - 3s 4ms/step - loss: 0.5446 - accuracy: 0.7247 - recall: 0.7107 - val_loss: 0.5399 - val_accuracy: 0.7304 - val_recall: 0.7361\n",
            "Epoch 90/100\n",
            "625/625 [==============================] - 3s 4ms/step - loss: 0.5448 - accuracy: 0.7264 - recall: 0.7138 - val_loss: 0.5447 - val_accuracy: 0.7304 - val_recall: 0.6634\n",
            "Epoch 91/100\n",
            "625/625 [==============================] - 3s 5ms/step - loss: 0.5439 - accuracy: 0.7257 - recall: 0.7102 - val_loss: 0.5421 - val_accuracy: 0.7274 - val_recall: 0.7645\n",
            "Epoch 92/100\n",
            "625/625 [==============================] - 3s 4ms/step - loss: 0.5438 - accuracy: 0.7264 - recall: 0.7136 - val_loss: 0.5519 - val_accuracy: 0.7250 - val_recall: 0.6175\n",
            "Epoch 93/100\n",
            "625/625 [==============================] - 3s 4ms/step - loss: 0.5436 - accuracy: 0.7254 - recall: 0.7105 - val_loss: 0.5426 - val_accuracy: 0.7276 - val_recall: 0.7740\n",
            "Epoch 94/100\n",
            "625/625 [==============================] - 3s 4ms/step - loss: 0.5425 - accuracy: 0.7287 - recall: 0.7169 - val_loss: 0.5393 - val_accuracy: 0.7338 - val_recall: 0.7487\n",
            "Epoch 95/100\n",
            "625/625 [==============================] - 3s 5ms/step - loss: 0.5435 - accuracy: 0.7268 - recall: 0.7123 - val_loss: 0.5414 - val_accuracy: 0.7276 - val_recall: 0.7598\n",
            "Epoch 96/100\n",
            "625/625 [==============================] - 3s 4ms/step - loss: 0.5437 - accuracy: 0.7279 - recall: 0.7147 - val_loss: 0.5414 - val_accuracy: 0.7262 - val_recall: 0.6835\n",
            "Epoch 97/100\n",
            "625/625 [==============================] - 3s 4ms/step - loss: 0.5440 - accuracy: 0.7261 - recall: 0.7126 - val_loss: 0.5388 - val_accuracy: 0.7314 - val_recall: 0.7143\n",
            "Epoch 98/100\n",
            "625/625 [==============================] - 3s 5ms/step - loss: 0.5434 - accuracy: 0.7263 - recall: 0.7148 - val_loss: 0.5416 - val_accuracy: 0.7308 - val_recall: 0.6942\n",
            "Epoch 99/100\n",
            "625/625 [==============================] - 3s 4ms/step - loss: 0.5438 - accuracy: 0.7272 - recall: 0.7132 - val_loss: 0.5412 - val_accuracy: 0.7266 - val_recall: 0.6792\n",
            "Epoch 100/100\n",
            "625/625 [==============================] - 3s 5ms/step - loss: 0.5422 - accuracy: 0.7298 - recall: 0.7143 - val_loss: 0.5387 - val_accuracy: 0.7302 - val_recall: 0.7369\n"
          ]
        }
      ]
    },
    {
      "cell_type": "code",
      "metadata": {
        "colab": {
          "base_uri": "https://localhost:8080/"
        },
        "id": "uRfY0ExkPn0Y",
        "outputId": "9b556d7e-5fba-4e5a-a227-9d3770af80f5"
      },
      "source": [
        "history.keys()"
      ],
      "execution_count": null,
      "outputs": [
        {
          "output_type": "execute_result",
          "data": {
            "text/plain": [
              "dict_keys(['loss', 'accuracy', 'recall', 'val_loss', 'val_accuracy', 'val_recall'])"
            ]
          },
          "metadata": {},
          "execution_count": 25
        }
      ]
    },
    {
      "cell_type": "code",
      "metadata": {
        "colab": {
          "base_uri": "https://localhost:8080/",
          "height": 295
        },
        "id": "qpnPDcCxM7gJ",
        "outputId": "45b241ef-7bbf-4aea-bfe0-01cd80059530"
      },
      "source": [
        "# summarize history for accuracy\n",
        "plt.plot(history['accuracy'])\n",
        "plt.plot(history['val_accuracy'])\n",
        "plt.title('model accuracy')\n",
        "plt.ylabel('accuracy')\n",
        "plt.xlabel('epoch')\n",
        "plt.legend(['train', 'test'], loc='upper left')\n",
        "plt.show()"
      ],
      "execution_count": null,
      "outputs": [
        {
          "output_type": "display_data",
          "data": {
            "image/png": "[encoded data removed]",
            "text/plain": [
              "<Figure size 432x288 with 1 Axes>"
            ]
          },
          "metadata": {
            "needs_background": "light"
          }
        }
      ]
    },
    {
      "cell_type": "code",
      "metadata": {
        "colab": {
          "base_uri": "https://localhost:8080/",
          "height": 295
        },
        "id": "vS4YkhDIQZrd",
        "outputId": "163c7fd0-8bf5-4543-f31d-1c9564453098"
      },
      "source": [
        "# summarize history for loss\n",
        "plt.plot(history['loss'])\n",
        "plt.plot(history['val_loss'])\n",
        "plt.title('model loss')\n",
        "plt.ylabel('loss')\n",
        "plt.xlabel('epoch')\n",
        "plt.legend(['train', 'test'], loc='upper left')\n",
        "plt.show()"
      ],
      "execution_count": null,
      "outputs": [
        {
          "output_type": "display_data",
          "data": {
            "image/png": "[encoded data removed]",
            "text/plain": [
              "<Figure size 432x288 with 1 Axes>"
            ]
          },
          "metadata": {
            "needs_background": "light"
          }
        }
      ]
    },
    {
      "cell_type": "code",
      "metadata": {
        "colab": {
          "base_uri": "https://localhost:8080/"
        },
        "id": "5LMDFUqGQol5",
        "outputId": "8fb401dd-40ef-4aff-a7e9-e7c776832f1e"
      },
      "source": [
        "# prediction for unseen data\n",
        "pred_Y = Classifier.predict(test_data_reshaped, verbose = True)\n",
        "pred_Y = np.round(pred_Y)"
      ],
      "execution_count": null,
      "outputs": [
        {
          "output_type": "stream",
          "name": "stdout",
          "text": [
            "782/782 [==============================] - 1s 1ms/step\n"
          ]
        }
      ]
    },
    {
      "cell_type": "code",
      "metadata": {
        "colab": {
          "base_uri": "https://localhost:8080/"
        },
        "id": "py_1o5Xji20Y",
        "outputId": "0865a4f9-ff12-49f8-ca1d-a0e7ceabbdb1"
      },
      "source": [
        "#get the accuracy_score for prediction # classifer\n",
        "print('Accuracy for test dataset:',accuracy_score(y_test_labels.numpy(), pred_Y))"
      ],
      "execution_count": null,
      "outputs": [
        {
          "output_type": "stream",
          "name": "stdout",
          "text": [
            "Accuracy for test dataset: 0.71968\n"
          ]
        }
      ]
    },
    {
      "cell_type": "code",
      "metadata": {
        "colab": {
          "base_uri": "https://localhost:8080/"
        },
        "id": "A70lwxlIHvRT",
        "outputId": "c2339750-57e6-49c2-edd4-359470ad8780"
      },
      "source": [
        "# confusion matrix\n",
        "conf_matrix = confusion_matrix(y_test_labels.numpy(), pred_Y)\n",
        "print(conf_matrix)"
      ],
      "execution_count": null,
      "outputs": [
        {
          "output_type": "stream",
          "name": "stdout",
          "text": [
            "[[9043 3457]\n",
            " [3551 8949]]\n"
          ]
        }
      ]
    },
    {
      "cell_type": "code",
      "metadata": {
        "id": "f5n7B4j5e8RM",
        "colab": {
          "base_uri": "https://localhost:8080/"
        },
        "outputId": "8a13e0d0-ffc3-4c8f-9b7d-be8ef0d5f50d"
      },
      "source": [
        "# classification report\n",
        "print(classification_report(y_test_labels.numpy(), pred_Y))"
      ],
      "execution_count": null,
      "outputs": [
        {
          "output_type": "stream",
          "name": "stdout",
          "text": [
            "              precision    recall  f1-score   support\n",
            "\n",
            "           0       0.72      0.72      0.72     12500\n",
            "           1       0.72      0.72      0.72     12500\n",
            "\n",
            "    accuracy                           0.72     25000\n",
            "   macro avg       0.72      0.72      0.72     25000\n",
            "weighted avg       0.72      0.72      0.72     25000\n",
            "\n"
          ]
        }
      ]
    },
    {
      "cell_type": "markdown",
      "metadata": {
        "id": "QmoVy54lM8vz"
      },
      "source": [
        "### Logistic Regression\n",
        "Now lets try with simple logistic regression. "
      ]
    },
    {
      "cell_type": "code",
      "metadata": {
        "id": "j2robghPEhtS"
      },
      "source": [
        "# Instantiate the logistic regression\n",
        "logreg = LogisticRegression()"
      ],
      "execution_count": null,
      "outputs": []
    },
    {
      "cell_type": "code",
      "metadata": {
        "id": "FW8Fk51rFloQ"
      },
      "source": [
        "# Train the logistic model by fitting the train data\n",
        "logreg = logreg.fit(Xembd_layer, train_labels_batch.numpy())"
      ],
      "execution_count": null,
      "outputs": []
    },
    {
      "cell_type": "code",
      "metadata": {
        "id": "ES0meResFytV"
      },
      "source": [
        "# Now lets predict the validation dataset with trainded logistic model\n",
        "prd = logreg.predict(test_emb_dataset)"
      ],
      "execution_count": null,
      "outputs": []
    },
    {
      "cell_type": "code",
      "metadata": {
        "colab": {
          "base_uri": "https://localhost:8080/"
        },
        "id": "FM56mv6KGNN2",
        "outputId": "291ae3df-4834-47ad-e967-bd1f6ceef253"
      },
      "source": [
        "# Check for the accuracy score for model prediction\n",
        "print('Accuracy for test dataset:',accuracy_score(y_test_labels.numpy(), prd))"
      ],
      "execution_count": null,
      "outputs": [
        {
          "output_type": "stream",
          "name": "stdout",
          "text": [
            "Accuracy for test dataset: 0.7406\n"
          ]
        }
      ]
    },
    {
      "cell_type": "code",
      "metadata": {
        "colab": {
          "base_uri": "https://localhost:8080/"
        },
        "id": "MmplemDpLbEi",
        "outputId": "d6a0e035-6a06-4637-88a8-1275a04f0889"
      },
      "source": [
        "# confusion matrix\n",
        "confusion = confusion_matrix(y_test_labels.numpy(), prd)\n",
        "print(confusion)"
      ],
      "execution_count": null,
      "outputs": [
        {
          "output_type": "stream",
          "name": "stdout",
          "text": [
            "[[9476 3024]\n",
            " [3461 9039]]\n"
          ]
        }
      ]
    },
    {
      "cell_type": "code",
      "metadata": {
        "colab": {
          "base_uri": "https://localhost:8080/"
        },
        "id": "aTMCrckwOmsc",
        "outputId": "d2a22fc4-e42b-4ee9-ddbc-015ca5c4b41d"
      },
      "source": [
        "# classification\n",
        "print(classification_report(y_test_labels.numpy(), prd))"
      ],
      "execution_count": null,
      "outputs": [
        {
          "output_type": "stream",
          "name": "stdout",
          "text": [
            "              precision    recall  f1-score   support\n",
            "\n",
            "           0       0.73      0.76      0.75     12500\n",
            "           1       0.75      0.72      0.74     12500\n",
            "\n",
            "    accuracy                           0.74     25000\n",
            "   macro avg       0.74      0.74      0.74     25000\n",
            "weighted avg       0.74      0.74      0.74     25000\n",
            "\n"
          ]
        }
      ]
    },
    {
      "cell_type": "markdown",
      "metadata": {
        "id": "3LESdP8Va0Tc"
      },
      "source": [
        "## Conclusion\n",
        "* Here we created **Sentiment Analysis** models(Sparse_CNN_Autoencoder and Logistic_regression) by training it with IMBD dataset. Where a trained model can predict 1(Positive) or 0(Negative) for given user review.\n",
        "\n",
        "* By comparing the results of Sparse Autoencoder of CNN model and Logistic regression models, Logistic regression performed well but it doesn't mean best model because CNN(Sparse Autoencoder) model only extracting important by learning redundant features in the dataset by preventing model overfitting.\n",
        "\n",
        "* We can improve CNN model by modifying the CNN architecture, where it can learn latent features which are more affected the target variable.\n",
        "\n"
      ]
    }
  ]
}