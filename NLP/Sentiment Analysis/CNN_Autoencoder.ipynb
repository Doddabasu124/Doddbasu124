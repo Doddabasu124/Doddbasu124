{
  "nbformat": 4,
  "nbformat_minor": 0,
  "metadata": {
    "colab": {
      "name": "CNN_Autoencoder.ipynb",
      "provenance": [],
      "collapsed_sections": []
    },
    "kernelspec": {
      "display_name": "Python 3",
      "name": "python3"
    },
    "language_info": {
      "name": "python"
    },
    "widgets": {
      "application/vnd.jupyter.widget-state+json": {
        "54a20dd41de048688ea8651a4c24e4ad": {
          "model_module": "@jupyter-widgets/controls",
          "model_name": "HBoxModel",
          "model_module_version": "1.5.0",
          "state": {
            "_view_name": "HBoxView",
            "_dom_classes": [],
            "_model_name": "HBoxModel",
            "_view_module": "@jupyter-widgets/controls",
            "_model_module_version": "1.5.0",
            "_view_count": null,
            "_view_module_version": "1.5.0",
            "box_style": "",
            "layout": "IPY_MODEL_5cffc508711c492189309750c61217a0",
            "_model_module": "@jupyter-widgets/controls",
            "children": [
              "IPY_MODEL_db8bec684ace4cc1b3330df91e5fffd7",
              "IPY_MODEL_d095fb32fe944cae83ef9c2bfa1cc3e3",
              "IPY_MODEL_b4c1b8041e824401951e98adf94b0d14"
            ]
          }
        },
        "5cffc508711c492189309750c61217a0": {
          "model_module": "@jupyter-widgets/base",
          "model_name": "LayoutModel",
          "model_module_version": "1.2.0",
          "state": {
            "_view_name": "LayoutView",
            "grid_template_rows": null,
            "right": null,
            "justify_content": null,
            "_view_module": "@jupyter-widgets/base",
            "overflow": null,
            "_model_module_version": "1.2.0",
            "_view_count": null,
            "flex_flow": null,
            "width": null,
            "min_width": null,
            "border": null,
            "align_items": null,
            "bottom": null,
            "_model_module": "@jupyter-widgets/base",
            "top": null,
            "grid_column": null,
            "overflow_y": null,
            "overflow_x": null,
            "grid_auto_flow": null,
            "grid_area": null,
            "grid_template_columns": null,
            "flex": null,
            "_model_name": "LayoutModel",
            "justify_items": null,
            "grid_row": null,
            "max_height": null,
            "align_content": null,
            "visibility": null,
            "align_self": null,
            "height": null,
            "min_height": null,
            "padding": null,
            "grid_auto_rows": null,
            "grid_gap": null,
            "max_width": null,
            "order": null,
            "_view_module_version": "1.2.0",
            "grid_template_areas": null,
            "object_position": null,
            "object_fit": null,
            "grid_auto_columns": null,
            "margin": null,
            "display": null,
            "left": null
          }
        },
        "db8bec684ace4cc1b3330df91e5fffd7": {
          "model_module": "@jupyter-widgets/controls",
          "model_name": "HTMLModel",
          "model_module_version": "1.5.0",
          "state": {
            "_view_name": "HTMLView",
            "style": "IPY_MODEL_411d5743623441458de800bc75479e39",
            "_dom_classes": [],
            "description": "",
            "_model_name": "HTMLModel",
            "placeholder": "​",
            "_view_module": "@jupyter-widgets/controls",
            "_model_module_version": "1.5.0",
            "value": "Dl Completed...: 100%",
            "_view_count": null,
            "_view_module_version": "1.5.0",
            "description_tooltip": null,
            "_model_module": "@jupyter-widgets/controls",
            "layout": "IPY_MODEL_b90d65845f694d63adb81def445b2da9"
          }
        },
        "d095fb32fe944cae83ef9c2bfa1cc3e3": {
          "model_module": "@jupyter-widgets/controls",
          "model_name": "FloatProgressModel",
          "model_module_version": "1.5.0",
          "state": {
            "_view_name": "ProgressView",
            "style": "IPY_MODEL_c68adeb895f74d968a6f75f0fc4e96e6",
            "_dom_classes": [],
            "description": "",
            "_model_name": "FloatProgressModel",
            "bar_style": "success",
            "max": 1,
            "_view_module": "@jupyter-widgets/controls",
            "_model_module_version": "1.5.0",
            "value": 1,
            "_view_count": null,
            "_view_module_version": "1.5.0",
            "orientation": "horizontal",
            "min": 0,
            "description_tooltip": null,
            "_model_module": "@jupyter-widgets/controls",
            "layout": "IPY_MODEL_a99219467a5b45f89367cb993660e2af"
          }
        },
        "b4c1b8041e824401951e98adf94b0d14": {
          "model_module": "@jupyter-widgets/controls",
          "model_name": "HTMLModel",
          "model_module_version": "1.5.0",
          "state": {
            "_view_name": "HTMLView",
            "style": "IPY_MODEL_a811b7fc3bea4fc6beead725a2a1c2a4",
            "_dom_classes": [],
            "description": "",
            "_model_name": "HTMLModel",
            "placeholder": "​",
            "_view_module": "@jupyter-widgets/controls",
            "_model_module_version": "1.5.0",
            "value": " 1/1 [00:03&lt;00:00,  3.32s/ url]",
            "_view_count": null,
            "_view_module_version": "1.5.0",
            "description_tooltip": null,
            "_model_module": "@jupyter-widgets/controls",
            "layout": "IPY_MODEL_0e08740870b94bf5b172ccd9e7fa6286"
          }
        },
        "411d5743623441458de800bc75479e39": {
          "model_module": "@jupyter-widgets/controls",
          "model_name": "DescriptionStyleModel",
          "model_module_version": "1.5.0",
          "state": {
            "_view_name": "StyleView",
            "_model_name": "DescriptionStyleModel",
            "description_width": "",
            "_view_module": "@jupyter-widgets/base",
            "_model_module_version": "1.5.0",
            "_view_count": null,
            "_view_module_version": "1.2.0",
            "_model_module": "@jupyter-widgets/controls"
          }
        },
        "b90d65845f694d63adb81def445b2da9": {
          "model_module": "@jupyter-widgets/base",
          "model_name": "LayoutModel",
          "model_module_version": "1.2.0",
          "state": {
            "_view_name": "LayoutView",
            "grid_template_rows": null,
            "right": null,
            "justify_content": null,
            "_view_module": "@jupyter-widgets/base",
            "overflow": null,
            "_model_module_version": "1.2.0",
            "_view_count": null,
            "flex_flow": null,
            "width": null,
            "min_width": null,
            "border": null,
            "align_items": null,
            "bottom": null,
            "_model_module": "@jupyter-widgets/base",
            "top": null,
            "grid_column": null,
            "overflow_y": null,
            "overflow_x": null,
            "grid_auto_flow": null,
            "grid_area": null,
            "grid_template_columns": null,
            "flex": null,
            "_model_name": "LayoutModel",
            "justify_items": null,
            "grid_row": null,
            "max_height": null,
            "align_content": null,
            "visibility": null,
            "align_self": null,
            "height": null,
            "min_height": null,
            "padding": null,
            "grid_auto_rows": null,
            "grid_gap": null,
            "max_width": null,
            "order": null,
            "_view_module_version": "1.2.0",
            "grid_template_areas": null,
            "object_position": null,
            "object_fit": null,
            "grid_auto_columns": null,
            "margin": null,
            "display": null,
            "left": null
          }
        },
        "c68adeb895f74d968a6f75f0fc4e96e6": {
          "model_module": "@jupyter-widgets/controls",
          "model_name": "ProgressStyleModel",
          "model_module_version": "1.5.0",
          "state": {
            "_view_name": "StyleView",
            "_model_name": "ProgressStyleModel",
            "description_width": "",
            "_view_module": "@jupyter-widgets/base",
            "_model_module_version": "1.5.0",
            "_view_count": null,
            "_view_module_version": "1.2.0",
            "bar_color": null,
            "_model_module": "@jupyter-widgets/controls"
          }
        },
        "a99219467a5b45f89367cb993660e2af": {
          "model_module": "@jupyter-widgets/base",
          "model_name": "LayoutModel",
          "model_module_version": "1.2.0",
          "state": {
            "_view_name": "LayoutView",
            "grid_template_rows": null,
            "right": null,
            "justify_content": null,
            "_view_module": "@jupyter-widgets/base",
            "overflow": null,
            "_model_module_version": "1.2.0",
            "_view_count": null,
            "flex_flow": null,
            "width": "20px",
            "min_width": null,
            "border": null,
            "align_items": null,
            "bottom": null,
            "_model_module": "@jupyter-widgets/base",
            "top": null,
            "grid_column": null,
            "overflow_y": null,
            "overflow_x": null,
            "grid_auto_flow": null,
            "grid_area": null,
            "grid_template_columns": null,
            "flex": null,
            "_model_name": "LayoutModel",
            "justify_items": null,
            "grid_row": null,
            "max_height": null,
            "align_content": null,
            "visibility": null,
            "align_self": null,
            "height": null,
            "min_height": null,
            "padding": null,
            "grid_auto_rows": null,
            "grid_gap": null,
            "max_width": null,
            "order": null,
            "_view_module_version": "1.2.0",
            "grid_template_areas": null,
            "object_position": null,
            "object_fit": null,
            "grid_auto_columns": null,
            "margin": null,
            "display": null,
            "left": null
          }
        },
        "a811b7fc3bea4fc6beead725a2a1c2a4": {
          "model_module": "@jupyter-widgets/controls",
          "model_name": "DescriptionStyleModel",
          "model_module_version": "1.5.0",
          "state": {
            "_view_name": "StyleView",
            "_model_name": "DescriptionStyleModel",
            "description_width": "",
            "_view_module": "@jupyter-widgets/base",
            "_model_module_version": "1.5.0",
            "_view_count": null,
            "_view_module_version": "1.2.0",
            "_model_module": "@jupyter-widgets/controls"
          }
        },
        "0e08740870b94bf5b172ccd9e7fa6286": {
          "model_module": "@jupyter-widgets/base",
          "model_name": "LayoutModel",
          "model_module_version": "1.2.0",
          "state": {
            "_view_name": "LayoutView",
            "grid_template_rows": null,
            "right": null,
            "justify_content": null,
            "_view_module": "@jupyter-widgets/base",
            "overflow": null,
            "_model_module_version": "1.2.0",
            "_view_count": null,
            "flex_flow": null,
            "width": null,
            "min_width": null,
            "border": null,
            "align_items": null,
            "bottom": null,
            "_model_module": "@jupyter-widgets/base",
            "top": null,
            "grid_column": null,
            "overflow_y": null,
            "overflow_x": null,
            "grid_auto_flow": null,
            "grid_area": null,
            "grid_template_columns": null,
            "flex": null,
            "_model_name": "LayoutModel",
            "justify_items": null,
            "grid_row": null,
            "max_height": null,
            "align_content": null,
            "visibility": null,
            "align_self": null,
            "height": null,
            "min_height": null,
            "padding": null,
            "grid_auto_rows": null,
            "grid_gap": null,
            "max_width": null,
            "order": null,
            "_view_module_version": "1.2.0",
            "grid_template_areas": null,
            "object_position": null,
            "object_fit": null,
            "grid_auto_columns": null,
            "margin": null,
            "display": null,
            "left": null
          }
        },
        "a146a4cbdb3f4b979ba27a2d4a483eca": {
          "model_module": "@jupyter-widgets/controls",
          "model_name": "HBoxModel",
          "model_module_version": "1.5.0",
          "state": {
            "_view_name": "HBoxView",
            "_dom_classes": [],
            "_model_name": "HBoxModel",
            "_view_module": "@jupyter-widgets/controls",
            "_model_module_version": "1.5.0",
            "_view_count": null,
            "_view_module_version": "1.5.0",
            "box_style": "",
            "layout": "IPY_MODEL_0e852d05ced74874b2e5f7ed792ae665",
            "_model_module": "@jupyter-widgets/controls",
            "children": [
              "IPY_MODEL_de4f358afbed474aadbd71df564655c4",
              "IPY_MODEL_5bc559c4f364496d9c19a8d4346a347e",
              "IPY_MODEL_eade3d2c2bcd42a1ade272ea53344556"
            ]
          }
        },
        "0e852d05ced74874b2e5f7ed792ae665": {
          "model_module": "@jupyter-widgets/base",
          "model_name": "LayoutModel",
          "model_module_version": "1.2.0",
          "state": {
            "_view_name": "LayoutView",
            "grid_template_rows": null,
            "right": null,
            "justify_content": null,
            "_view_module": "@jupyter-widgets/base",
            "overflow": null,
            "_model_module_version": "1.2.0",
            "_view_count": null,
            "flex_flow": null,
            "width": null,
            "min_width": null,
            "border": null,
            "align_items": null,
            "bottom": null,
            "_model_module": "@jupyter-widgets/base",
            "top": null,
            "grid_column": null,
            "overflow_y": null,
            "overflow_x": null,
            "grid_auto_flow": null,
            "grid_area": null,
            "grid_template_columns": null,
            "flex": null,
            "_model_name": "LayoutModel",
            "justify_items": null,
            "grid_row": null,
            "max_height": null,
            "align_content": null,
            "visibility": null,
            "align_self": null,
            "height": null,
            "min_height": null,
            "padding": null,
            "grid_auto_rows": null,
            "grid_gap": null,
            "max_width": null,
            "order": null,
            "_view_module_version": "1.2.0",
            "grid_template_areas": null,
            "object_position": null,
            "object_fit": null,
            "grid_auto_columns": null,
            "margin": null,
            "display": null,
            "left": null
          }
        },
        "de4f358afbed474aadbd71df564655c4": {
          "model_module": "@jupyter-widgets/controls",
          "model_name": "HTMLModel",
          "model_module_version": "1.5.0",
          "state": {
            "_view_name": "HTMLView",
            "style": "IPY_MODEL_82c2f4620986405ebc9ee87f44416adc",
            "_dom_classes": [],
            "description": "",
            "_model_name": "HTMLModel",
            "placeholder": "​",
            "_view_module": "@jupyter-widgets/controls",
            "_model_module_version": "1.5.0",
            "value": "Dl Size...: 100%",
            "_view_count": null,
            "_view_module_version": "1.5.0",
            "description_tooltip": null,
            "_model_module": "@jupyter-widgets/controls",
            "layout": "IPY_MODEL_1205d8df76e144168f6cd35eb0b1f6f4"
          }
        },
        "5bc559c4f364496d9c19a8d4346a347e": {
          "model_module": "@jupyter-widgets/controls",
          "model_name": "FloatProgressModel",
          "model_module_version": "1.5.0",
          "state": {
            "_view_name": "ProgressView",
            "style": "IPY_MODEL_9dd58d9b2015420d957419f713ef9e53",
            "_dom_classes": [],
            "description": "",
            "_model_name": "FloatProgressModel",
            "bar_style": "success",
            "max": 1,
            "_view_module": "@jupyter-widgets/controls",
            "_model_module_version": "1.5.0",
            "value": 1,
            "_view_count": null,
            "_view_module_version": "1.5.0",
            "orientation": "horizontal",
            "min": 0,
            "description_tooltip": null,
            "_model_module": "@jupyter-widgets/controls",
            "layout": "IPY_MODEL_f5b2f464b03a46f692de7abf46de470e"
          }
        },
        "eade3d2c2bcd42a1ade272ea53344556": {
          "model_module": "@jupyter-widgets/controls",
          "model_name": "HTMLModel",
          "model_module_version": "1.5.0",
          "state": {
            "_view_name": "HTMLView",
            "style": "IPY_MODEL_147cb101d9a74b46a4c4ded16d50f20a",
            "_dom_classes": [],
            "description": "",
            "_model_name": "HTMLModel",
            "placeholder": "​",
            "_view_module": "@jupyter-widgets/controls",
            "_model_module_version": "1.5.0",
            "value": " 80/80 [00:03&lt;00:00, 37.57 MiB/s]",
            "_view_count": null,
            "_view_module_version": "1.5.0",
            "description_tooltip": null,
            "_model_module": "@jupyter-widgets/controls",
            "layout": "IPY_MODEL_1438c059f9c94e3a85953e0cc3035b73"
          }
        },
        "82c2f4620986405ebc9ee87f44416adc": {
          "model_module": "@jupyter-widgets/controls",
          "model_name": "DescriptionStyleModel",
          "model_module_version": "1.5.0",
          "state": {
            "_view_name": "StyleView",
            "_model_name": "DescriptionStyleModel",
            "description_width": "",
            "_view_module": "@jupyter-widgets/base",
            "_model_module_version": "1.5.0",
            "_view_count": null,
            "_view_module_version": "1.2.0",
            "_model_module": "@jupyter-widgets/controls"
          }
        },
        "1205d8df76e144168f6cd35eb0b1f6f4": {
          "model_module": "@jupyter-widgets/base",
          "model_name": "LayoutModel",
          "model_module_version": "1.2.0",
          "state": {
            "_view_name": "LayoutView",
            "grid_template_rows": null,
            "right": null,
            "justify_content": null,
            "_view_module": "@jupyter-widgets/base",
            "overflow": null,
            "_model_module_version": "1.2.0",
            "_view_count": null,
            "flex_flow": null,
            "width": null,
            "min_width": null,
            "border": null,
            "align_items": null,
            "bottom": null,
            "_model_module": "@jupyter-widgets/base",
            "top": null,
            "grid_column": null,
            "overflow_y": null,
            "overflow_x": null,
            "grid_auto_flow": null,
            "grid_area": null,
            "grid_template_columns": null,
            "flex": null,
            "_model_name": "LayoutModel",
            "justify_items": null,
            "grid_row": null,
            "max_height": null,
            "align_content": null,
            "visibility": null,
            "align_self": null,
            "height": null,
            "min_height": null,
            "padding": null,
            "grid_auto_rows": null,
            "grid_gap": null,
            "max_width": null,
            "order": null,
            "_view_module_version": "1.2.0",
            "grid_template_areas": null,
            "object_position": null,
            "object_fit": null,
            "grid_auto_columns": null,
            "margin": null,
            "display": null,
            "left": null
          }
        },
        "9dd58d9b2015420d957419f713ef9e53": {
          "model_module": "@jupyter-widgets/controls",
          "model_name": "ProgressStyleModel",
          "model_module_version": "1.5.0",
          "state": {
            "_view_name": "StyleView",
            "_model_name": "ProgressStyleModel",
            "description_width": "",
            "_view_module": "@jupyter-widgets/base",
            "_model_module_version": "1.5.0",
            "_view_count": null,
            "_view_module_version": "1.2.0",
            "bar_color": null,
            "_model_module": "@jupyter-widgets/controls"
          }
        },
        "f5b2f464b03a46f692de7abf46de470e": {
          "model_module": "@jupyter-widgets/base",
          "model_name": "LayoutModel",
          "model_module_version": "1.2.0",
          "state": {
            "_view_name": "LayoutView",
            "grid_template_rows": null,
            "right": null,
            "justify_content": null,
            "_view_module": "@jupyter-widgets/base",
            "overflow": null,
            "_model_module_version": "1.2.0",
            "_view_count": null,
            "flex_flow": null,
            "width": "20px",
            "min_width": null,
            "border": null,
            "align_items": null,
            "bottom": null,
            "_model_module": "@jupyter-widgets/base",
            "top": null,
            "grid_column": null,
            "overflow_y": null,
            "overflow_x": null,
            "grid_auto_flow": null,
            "grid_area": null,
            "grid_template_columns": null,
            "flex": null,
            "_model_name": "LayoutModel",
            "justify_items": null,
            "grid_row": null,
            "max_height": null,
            "align_content": null,
            "visibility": null,
            "align_self": null,
            "height": null,
            "min_height": null,
            "padding": null,
            "grid_auto_rows": null,
            "grid_gap": null,
            "max_width": null,
            "order": null,
            "_view_module_version": "1.2.0",
            "grid_template_areas": null,
            "object_position": null,
            "object_fit": null,
            "grid_auto_columns": null,
            "margin": null,
            "display": null,
            "left": null
          }
        },
        "147cb101d9a74b46a4c4ded16d50f20a": {
          "model_module": "@jupyter-widgets/controls",
          "model_name": "DescriptionStyleModel",
          "model_module_version": "1.5.0",
          "state": {
            "_view_name": "StyleView",
            "_model_name": "DescriptionStyleModel",
            "description_width": "",
            "_view_module": "@jupyter-widgets/base",
            "_model_module_version": "1.5.0",
            "_view_count": null,
            "_view_module_version": "1.2.0",
            "_model_module": "@jupyter-widgets/controls"
          }
        },
        "1438c059f9c94e3a85953e0cc3035b73": {
          "model_module": "@jupyter-widgets/base",
          "model_name": "LayoutModel",
          "model_module_version": "1.2.0",
          "state": {
            "_view_name": "LayoutView",
            "grid_template_rows": null,
            "right": null,
            "justify_content": null,
            "_view_module": "@jupyter-widgets/base",
            "overflow": null,
            "_model_module_version": "1.2.0",
            "_view_count": null,
            "flex_flow": null,
            "width": null,
            "min_width": null,
            "border": null,
            "align_items": null,
            "bottom": null,
            "_model_module": "@jupyter-widgets/base",
            "top": null,
            "grid_column": null,
            "overflow_y": null,
            "overflow_x": null,
            "grid_auto_flow": null,
            "grid_area": null,
            "grid_template_columns": null,
            "flex": null,
            "_model_name": "LayoutModel",
            "justify_items": null,
            "grid_row": null,
            "max_height": null,
            "align_content": null,
            "visibility": null,
            "align_self": null,
            "height": null,
            "min_height": null,
            "padding": null,
            "grid_auto_rows": null,
            "grid_gap": null,
            "max_width": null,
            "order": null,
            "_view_module_version": "1.2.0",
            "grid_template_areas": null,
            "object_position": null,
            "object_fit": null,
            "grid_auto_columns": null,
            "margin": null,
            "display": null,
            "left": null
          }
        },
        "3ae85feed37d4be1a84adeeadbe48f50": {
          "model_module": "@jupyter-widgets/controls",
          "model_name": "HBoxModel",
          "model_module_version": "1.5.0",
          "state": {
            "_view_name": "HBoxView",
            "_dom_classes": [],
            "_model_name": "HBoxModel",
            "_view_module": "@jupyter-widgets/controls",
            "_model_module_version": "1.5.0",
            "_view_count": null,
            "_view_module_version": "1.5.0",
            "box_style": "",
            "layout": "IPY_MODEL_bcf038b260cb4d60b4ca0ae20a8d8da8",
            "_model_module": "@jupyter-widgets/controls",
            "children": [
              "IPY_MODEL_e09b6022a53c4f55b9366b38ff1f2e67",
              "IPY_MODEL_ad62e0cf65e84c9c9fa866df3bd7c1a2",
              "IPY_MODEL_5b1a142ef78347449e7bf5e3d5449d2c"
            ]
          }
        },
        "bcf038b260cb4d60b4ca0ae20a8d8da8": {
          "model_module": "@jupyter-widgets/base",
          "model_name": "LayoutModel",
          "model_module_version": "1.2.0",
          "state": {
            "_view_name": "LayoutView",
            "grid_template_rows": null,
            "right": null,
            "justify_content": null,
            "_view_module": "@jupyter-widgets/base",
            "overflow": null,
            "_model_module_version": "1.2.0",
            "_view_count": null,
            "flex_flow": null,
            "width": null,
            "min_width": null,
            "border": null,
            "align_items": null,
            "bottom": null,
            "_model_module": "@jupyter-widgets/base",
            "top": null,
            "grid_column": null,
            "overflow_y": null,
            "overflow_x": null,
            "grid_auto_flow": null,
            "grid_area": null,
            "grid_template_columns": null,
            "flex": null,
            "_model_name": "LayoutModel",
            "justify_items": null,
            "grid_row": null,
            "max_height": null,
            "align_content": null,
            "visibility": null,
            "align_self": null,
            "height": null,
            "min_height": null,
            "padding": null,
            "grid_auto_rows": null,
            "grid_gap": null,
            "max_width": null,
            "order": null,
            "_view_module_version": "1.2.0",
            "grid_template_areas": null,
            "object_position": null,
            "object_fit": null,
            "grid_auto_columns": null,
            "margin": null,
            "display": null,
            "left": null
          }
        },
        "e09b6022a53c4f55b9366b38ff1f2e67": {
          "model_module": "@jupyter-widgets/controls",
          "model_name": "HTMLModel",
          "model_module_version": "1.5.0",
          "state": {
            "_view_name": "HTMLView",
            "style": "IPY_MODEL_192578c561834bb6bfc993596d61586d",
            "_dom_classes": [],
            "description": "",
            "_model_name": "HTMLModel",
            "placeholder": "​",
            "_view_module": "@jupyter-widgets/controls",
            "_model_module_version": "1.5.0",
            "value": "",
            "_view_count": null,
            "_view_module_version": "1.5.0",
            "description_tooltip": null,
            "_model_module": "@jupyter-widgets/controls",
            "layout": "IPY_MODEL_b79888dfb73744698d671cbfb88db0c0"
          }
        },
        "ad62e0cf65e84c9c9fa866df3bd7c1a2": {
          "model_module": "@jupyter-widgets/controls",
          "model_name": "FloatProgressModel",
          "model_module_version": "1.5.0",
          "state": {
            "_view_name": "ProgressView",
            "style": "IPY_MODEL_dcdafb3579fa41e3ac7f2b6fce3784a2",
            "_dom_classes": [],
            "description": "",
            "_model_name": "FloatProgressModel",
            "bar_style": "info",
            "max": 1,
            "_view_module": "@jupyter-widgets/controls",
            "_model_module_version": "1.5.0",
            "value": 1,
            "_view_count": null,
            "_view_module_version": "1.5.0",
            "orientation": "horizontal",
            "min": 0,
            "description_tooltip": null,
            "_model_module": "@jupyter-widgets/controls",
            "layout": "IPY_MODEL_2b0c11ec72c6447e854982b17cfe5f38"
          }
        },
        "5b1a142ef78347449e7bf5e3d5449d2c": {
          "model_module": "@jupyter-widgets/controls",
          "model_name": "HTMLModel",
          "model_module_version": "1.5.0",
          "state": {
            "_view_name": "HTMLView",
            "style": "IPY_MODEL_d3a84bcd7d0d4d6eb216ddcd2f6277ec",
            "_dom_classes": [],
            "description": "",
            "_model_name": "HTMLModel",
            "placeholder": "​",
            "_view_module": "@jupyter-widgets/controls",
            "_model_module_version": "1.5.0",
            "value": " 24845/0 [00:11&lt;00:00, 3011.30 examples/s]",
            "_view_count": null,
            "_view_module_version": "1.5.0",
            "description_tooltip": null,
            "_model_module": "@jupyter-widgets/controls",
            "layout": "IPY_MODEL_d276520efe454968bd88451d4dd414eb"
          }
        },
        "192578c561834bb6bfc993596d61586d": {
          "model_module": "@jupyter-widgets/controls",
          "model_name": "DescriptionStyleModel",
          "model_module_version": "1.5.0",
          "state": {
            "_view_name": "StyleView",
            "_model_name": "DescriptionStyleModel",
            "description_width": "",
            "_view_module": "@jupyter-widgets/base",
            "_model_module_version": "1.5.0",
            "_view_count": null,
            "_view_module_version": "1.2.0",
            "_model_module": "@jupyter-widgets/controls"
          }
        },
        "b79888dfb73744698d671cbfb88db0c0": {
          "model_module": "@jupyter-widgets/base",
          "model_name": "LayoutModel",
          "model_module_version": "1.2.0",
          "state": {
            "_view_name": "LayoutView",
            "grid_template_rows": null,
            "right": null,
            "justify_content": null,
            "_view_module": "@jupyter-widgets/base",
            "overflow": null,
            "_model_module_version": "1.2.0",
            "_view_count": null,
            "flex_flow": null,
            "width": null,
            "min_width": null,
            "border": null,
            "align_items": null,
            "bottom": null,
            "_model_module": "@jupyter-widgets/base",
            "top": null,
            "grid_column": null,
            "overflow_y": null,
            "overflow_x": null,
            "grid_auto_flow": null,
            "grid_area": null,
            "grid_template_columns": null,
            "flex": null,
            "_model_name": "LayoutModel",
            "justify_items": null,
            "grid_row": null,
            "max_height": null,
            "align_content": null,
            "visibility": null,
            "align_self": null,
            "height": null,
            "min_height": null,
            "padding": null,
            "grid_auto_rows": null,
            "grid_gap": null,
            "max_width": null,
            "order": null,
            "_view_module_version": "1.2.0",
            "grid_template_areas": null,
            "object_position": null,
            "object_fit": null,
            "grid_auto_columns": null,
            "margin": null,
            "display": null,
            "left": null
          }
        },
        "dcdafb3579fa41e3ac7f2b6fce3784a2": {
          "model_module": "@jupyter-widgets/controls",
          "model_name": "ProgressStyleModel",
          "model_module_version": "1.5.0",
          "state": {
            "_view_name": "StyleView",
            "_model_name": "ProgressStyleModel",
            "description_width": "",
            "_view_module": "@jupyter-widgets/base",
            "_model_module_version": "1.5.0",
            "_view_count": null,
            "_view_module_version": "1.2.0",
            "bar_color": null,
            "_model_module": "@jupyter-widgets/controls"
          }
        },
        "2b0c11ec72c6447e854982b17cfe5f38": {
          "model_module": "@jupyter-widgets/base",
          "model_name": "LayoutModel",
          "model_module_version": "1.2.0",
          "state": {
            "_view_name": "LayoutView",
            "grid_template_rows": null,
            "right": null,
            "justify_content": null,
            "_view_module": "@jupyter-widgets/base",
            "overflow": null,
            "_model_module_version": "1.2.0",
            "_view_count": null,
            "flex_flow": null,
            "width": "20px",
            "min_width": null,
            "border": null,
            "align_items": null,
            "bottom": null,
            "_model_module": "@jupyter-widgets/base",
            "top": null,
            "grid_column": null,
            "overflow_y": null,
            "overflow_x": null,
            "grid_auto_flow": null,
            "grid_area": null,
            "grid_template_columns": null,
            "flex": null,
            "_model_name": "LayoutModel",
            "justify_items": null,
            "grid_row": null,
            "max_height": null,
            "align_content": null,
            "visibility": null,
            "align_self": null,
            "height": null,
            "min_height": null,
            "padding": null,
            "grid_auto_rows": null,
            "grid_gap": null,
            "max_width": null,
            "order": null,
            "_view_module_version": "1.2.0",
            "grid_template_areas": null,
            "object_position": null,
            "object_fit": null,
            "grid_auto_columns": null,
            "margin": null,
            "display": null,
            "left": null
          }
        },
        "d3a84bcd7d0d4d6eb216ddcd2f6277ec": {
          "model_module": "@jupyter-widgets/controls",
          "model_name": "DescriptionStyleModel",
          "model_module_version": "1.5.0",
          "state": {
            "_view_name": "StyleView",
            "_model_name": "DescriptionStyleModel",
            "description_width": "",
            "_view_module": "@jupyter-widgets/base",
            "_model_module_version": "1.5.0",
            "_view_count": null,
            "_view_module_version": "1.2.0",
            "_model_module": "@jupyter-widgets/controls"
          }
        },
        "d276520efe454968bd88451d4dd414eb": {
          "model_module": "@jupyter-widgets/base",
          "model_name": "LayoutModel",
          "model_module_version": "1.2.0",
          "state": {
            "_view_name": "LayoutView",
            "grid_template_rows": null,
            "right": null,
            "justify_content": null,
            "_view_module": "@jupyter-widgets/base",
            "overflow": null,
            "_model_module_version": "1.2.0",
            "_view_count": null,
            "flex_flow": null,
            "width": null,
            "min_width": null,
            "border": null,
            "align_items": null,
            "bottom": null,
            "_model_module": "@jupyter-widgets/base",
            "top": null,
            "grid_column": null,
            "overflow_y": null,
            "overflow_x": null,
            "grid_auto_flow": null,
            "grid_area": null,
            "grid_template_columns": null,
            "flex": null,
            "_model_name": "LayoutModel",
            "justify_items": null,
            "grid_row": null,
            "max_height": null,
            "align_content": null,
            "visibility": null,
            "align_self": null,
            "height": null,
            "min_height": null,
            "padding": null,
            "grid_auto_rows": null,
            "grid_gap": null,
            "max_width": null,
            "order": null,
            "_view_module_version": "1.2.0",
            "grid_template_areas": null,
            "object_position": null,
            "object_fit": null,
            "grid_auto_columns": null,
            "margin": null,
            "display": null,
            "left": null
          }
        },
        "1746005cc400427ab103ae2325c269e7": {
          "model_module": "@jupyter-widgets/controls",
          "model_name": "HBoxModel",
          "model_module_version": "1.5.0",
          "state": {
            "_view_name": "HBoxView",
            "_dom_classes": [],
            "_model_name": "HBoxModel",
            "_view_module": "@jupyter-widgets/controls",
            "_model_module_version": "1.5.0",
            "_view_count": null,
            "_view_module_version": "1.5.0",
            "box_style": "",
            "layout": "IPY_MODEL_3341167ecb2b4fbf8faad5d3b073977d",
            "_model_module": "@jupyter-widgets/controls",
            "children": [
              "IPY_MODEL_6341f825ac9b4f76addfb1b73494dc33",
              "IPY_MODEL_b99d05c298b74d6fb07084261717c71c",
              "IPY_MODEL_2449b9784d294ff58e2b8d3fba904040"
            ]
          }
        },
        "3341167ecb2b4fbf8faad5d3b073977d": {
          "model_module": "@jupyter-widgets/base",
          "model_name": "LayoutModel",
          "model_module_version": "1.2.0",
          "state": {
            "_view_name": "LayoutView",
            "grid_template_rows": null,
            "right": null,
            "justify_content": null,
            "_view_module": "@jupyter-widgets/base",
            "overflow": null,
            "_model_module_version": "1.2.0",
            "_view_count": null,
            "flex_flow": null,
            "width": null,
            "min_width": null,
            "border": null,
            "align_items": null,
            "bottom": null,
            "_model_module": "@jupyter-widgets/base",
            "top": null,
            "grid_column": null,
            "overflow_y": null,
            "overflow_x": null,
            "grid_auto_flow": null,
            "grid_area": null,
            "grid_template_columns": null,
            "flex": null,
            "_model_name": "LayoutModel",
            "justify_items": null,
            "grid_row": null,
            "max_height": null,
            "align_content": null,
            "visibility": null,
            "align_self": null,
            "height": null,
            "min_height": null,
            "padding": null,
            "grid_auto_rows": null,
            "grid_gap": null,
            "max_width": null,
            "order": null,
            "_view_module_version": "1.2.0",
            "grid_template_areas": null,
            "object_position": null,
            "object_fit": null,
            "grid_auto_columns": null,
            "margin": null,
            "display": null,
            "left": null
          }
        },
        "6341f825ac9b4f76addfb1b73494dc33": {
          "model_module": "@jupyter-widgets/controls",
          "model_name": "HTMLModel",
          "model_module_version": "1.5.0",
          "state": {
            "_view_name": "HTMLView",
            "style": "IPY_MODEL_6f06abafa9434426ba6c01c568a40aca",
            "_dom_classes": [],
            "description": "",
            "_model_name": "HTMLModel",
            "placeholder": "​",
            "_view_module": "@jupyter-widgets/controls",
            "_model_module_version": "1.5.0",
            "value": "100%",
            "_view_count": null,
            "_view_module_version": "1.5.0",
            "description_tooltip": null,
            "_model_module": "@jupyter-widgets/controls",
            "layout": "IPY_MODEL_e69a8b8377e5492ea5e16790a8b8beea"
          }
        },
        "b99d05c298b74d6fb07084261717c71c": {
          "model_module": "@jupyter-widgets/controls",
          "model_name": "FloatProgressModel",
          "model_module_version": "1.5.0",
          "state": {
            "_view_name": "ProgressView",
            "style": "IPY_MODEL_a317a6f5ebbe41c5a39f680ff8e0b008",
            "_dom_classes": [],
            "description": "",
            "_model_name": "FloatProgressModel",
            "bar_style": "danger",
            "max": 25000,
            "_view_module": "@jupyter-widgets/controls",
            "_model_module_version": "1.5.0",
            "value": 24999,
            "_view_count": null,
            "_view_module_version": "1.5.0",
            "orientation": "horizontal",
            "min": 0,
            "description_tooltip": null,
            "_model_module": "@jupyter-widgets/controls",
            "layout": "IPY_MODEL_5cc05cbb45314455a480b829ea0c8615"
          }
        },
        "2449b9784d294ff58e2b8d3fba904040": {
          "model_module": "@jupyter-widgets/controls",
          "model_name": "HTMLModel",
          "model_module_version": "1.5.0",
          "state": {
            "_view_name": "HTMLView",
            "style": "IPY_MODEL_a0f71dc380b7408ba0d99eedc420e4ef",
            "_dom_classes": [],
            "description": "",
            "_model_name": "HTMLModel",
            "placeholder": "​",
            "_view_module": "@jupyter-widgets/controls",
            "_model_module_version": "1.5.0",
            "value": " 24999/25000 [00:00&lt;00:00, 60081.46 examples/s]",
            "_view_count": null,
            "_view_module_version": "1.5.0",
            "description_tooltip": null,
            "_model_module": "@jupyter-widgets/controls",
            "layout": "IPY_MODEL_cf497236566046dd9817c5a13934dcb4"
          }
        },
        "6f06abafa9434426ba6c01c568a40aca": {
          "model_module": "@jupyter-widgets/controls",
          "model_name": "DescriptionStyleModel",
          "model_module_version": "1.5.0",
          "state": {
            "_view_name": "StyleView",
            "_model_name": "DescriptionStyleModel",
            "description_width": "",
            "_view_module": "@jupyter-widgets/base",
            "_model_module_version": "1.5.0",
            "_view_count": null,
            "_view_module_version": "1.2.0",
            "_model_module": "@jupyter-widgets/controls"
          }
        },
        "e69a8b8377e5492ea5e16790a8b8beea": {
          "model_module": "@jupyter-widgets/base",
          "model_name": "LayoutModel",
          "model_module_version": "1.2.0",
          "state": {
            "_view_name": "LayoutView",
            "grid_template_rows": null,
            "right": null,
            "justify_content": null,
            "_view_module": "@jupyter-widgets/base",
            "overflow": null,
            "_model_module_version": "1.2.0",
            "_view_count": null,
            "flex_flow": null,
            "width": null,
            "min_width": null,
            "border": null,
            "align_items": null,
            "bottom": null,
            "_model_module": "@jupyter-widgets/base",
            "top": null,
            "grid_column": null,
            "overflow_y": null,
            "overflow_x": null,
            "grid_auto_flow": null,
            "grid_area": null,
            "grid_template_columns": null,
            "flex": null,
            "_model_name": "LayoutModel",
            "justify_items": null,
            "grid_row": null,
            "max_height": null,
            "align_content": null,
            "visibility": null,
            "align_self": null,
            "height": null,
            "min_height": null,
            "padding": null,
            "grid_auto_rows": null,
            "grid_gap": null,
            "max_width": null,
            "order": null,
            "_view_module_version": "1.2.0",
            "grid_template_areas": null,
            "object_position": null,
            "object_fit": null,
            "grid_auto_columns": null,
            "margin": null,
            "display": null,
            "left": null
          }
        },
        "a317a6f5ebbe41c5a39f680ff8e0b008": {
          "model_module": "@jupyter-widgets/controls",
          "model_name": "ProgressStyleModel",
          "model_module_version": "1.5.0",
          "state": {
            "_view_name": "StyleView",
            "_model_name": "ProgressStyleModel",
            "description_width": "",
            "_view_module": "@jupyter-widgets/base",
            "_model_module_version": "1.5.0",
            "_view_count": null,
            "_view_module_version": "1.2.0",
            "bar_color": null,
            "_model_module": "@jupyter-widgets/controls"
          }
        },
        "5cc05cbb45314455a480b829ea0c8615": {
          "model_module": "@jupyter-widgets/base",
          "model_name": "LayoutModel",
          "model_module_version": "1.2.0",
          "state": {
            "_view_name": "LayoutView",
            "grid_template_rows": null,
            "right": null,
            "justify_content": null,
            "_view_module": "@jupyter-widgets/base",
            "overflow": null,
            "_model_module_version": "1.2.0",
            "_view_count": null,
            "flex_flow": null,
            "width": null,
            "min_width": null,
            "border": null,
            "align_items": null,
            "bottom": null,
            "_model_module": "@jupyter-widgets/base",
            "top": null,
            "grid_column": null,
            "overflow_y": null,
            "overflow_x": null,
            "grid_auto_flow": null,
            "grid_area": null,
            "grid_template_columns": null,
            "flex": null,
            "_model_name": "LayoutModel",
            "justify_items": null,
            "grid_row": null,
            "max_height": null,
            "align_content": null,
            "visibility": null,
            "align_self": null,
            "height": null,
            "min_height": null,
            "padding": null,
            "grid_auto_rows": null,
            "grid_gap": null,
            "max_width": null,
            "order": null,
            "_view_module_version": "1.2.0",
            "grid_template_areas": null,
            "object_position": null,
            "object_fit": null,
            "grid_auto_columns": null,
            "margin": null,
            "display": null,
            "left": null
          }
        },
        "a0f71dc380b7408ba0d99eedc420e4ef": {
          "model_module": "@jupyter-widgets/controls",
          "model_name": "DescriptionStyleModel",
          "model_module_version": "1.5.0",
          "state": {
            "_view_name": "StyleView",
            "_model_name": "DescriptionStyleModel",
            "description_width": "",
            "_view_module": "@jupyter-widgets/base",
            "_model_module_version": "1.5.0",
            "_view_count": null,
            "_view_module_version": "1.2.0",
            "_model_module": "@jupyter-widgets/controls"
          }
        },
        "cf497236566046dd9817c5a13934dcb4": {
          "model_module": "@jupyter-widgets/base",
          "model_name": "LayoutModel",
          "model_module_version": "1.2.0",
          "state": {
            "_view_name": "LayoutView",
            "grid_template_rows": null,
            "right": null,
            "justify_content": null,
            "_view_module": "@jupyter-widgets/base",
            "overflow": null,
            "_model_module_version": "1.2.0",
            "_view_count": null,
            "flex_flow": null,
            "width": null,
            "min_width": null,
            "border": null,
            "align_items": null,
            "bottom": null,
            "_model_module": "@jupyter-widgets/base",
            "top": null,
            "grid_column": null,
            "overflow_y": null,
            "overflow_x": null,
            "grid_auto_flow": null,
            "grid_area": null,
            "grid_template_columns": null,
            "flex": null,
            "_model_name": "LayoutModel",
            "justify_items": null,
            "grid_row": null,
            "max_height": null,
            "align_content": null,
            "visibility": null,
            "align_self": null,
            "height": null,
            "min_height": null,
            "padding": null,
            "grid_auto_rows": null,
            "grid_gap": null,
            "max_width": null,
            "order": null,
            "_view_module_version": "1.2.0",
            "grid_template_areas": null,
            "object_position": null,
            "object_fit": null,
            "grid_auto_columns": null,
            "margin": null,
            "display": null,
            "left": null
          }
        },
        "7e27a7ec8c1e40008e861e526f7437f6": {
          "model_module": "@jupyter-widgets/controls",
          "model_name": "HBoxModel",
          "model_module_version": "1.5.0",
          "state": {
            "_view_name": "HBoxView",
            "_dom_classes": [],
            "_model_name": "HBoxModel",
            "_view_module": "@jupyter-widgets/controls",
            "_model_module_version": "1.5.0",
            "_view_count": null,
            "_view_module_version": "1.5.0",
            "box_style": "",
            "layout": "IPY_MODEL_d5844d6f47bd4ae396ea8bacd07650b5",
            "_model_module": "@jupyter-widgets/controls",
            "children": [
              "IPY_MODEL_c102295a9f214e9db7025ce4960fc9ae",
              "IPY_MODEL_14d48e7494324c77a2ac2c2e0f15b91b",
              "IPY_MODEL_df7b5672bbde44cda74580245f93ddad"
            ]
          }
        },
        "d5844d6f47bd4ae396ea8bacd07650b5": {
          "model_module": "@jupyter-widgets/base",
          "model_name": "LayoutModel",
          "model_module_version": "1.2.0",
          "state": {
            "_view_name": "LayoutView",
            "grid_template_rows": null,
            "right": null,
            "justify_content": null,
            "_view_module": "@jupyter-widgets/base",
            "overflow": null,
            "_model_module_version": "1.2.0",
            "_view_count": null,
            "flex_flow": null,
            "width": null,
            "min_width": null,
            "border": null,
            "align_items": null,
            "bottom": null,
            "_model_module": "@jupyter-widgets/base",
            "top": null,
            "grid_column": null,
            "overflow_y": null,
            "overflow_x": null,
            "grid_auto_flow": null,
            "grid_area": null,
            "grid_template_columns": null,
            "flex": null,
            "_model_name": "LayoutModel",
            "justify_items": null,
            "grid_row": null,
            "max_height": null,
            "align_content": null,
            "visibility": null,
            "align_self": null,
            "height": null,
            "min_height": null,
            "padding": null,
            "grid_auto_rows": null,
            "grid_gap": null,
            "max_width": null,
            "order": null,
            "_view_module_version": "1.2.0",
            "grid_template_areas": null,
            "object_position": null,
            "object_fit": null,
            "grid_auto_columns": null,
            "margin": null,
            "display": null,
            "left": null
          }
        },
        "c102295a9f214e9db7025ce4960fc9ae": {
          "model_module": "@jupyter-widgets/controls",
          "model_name": "HTMLModel",
          "model_module_version": "1.5.0",
          "state": {
            "_view_name": "HTMLView",
            "style": "IPY_MODEL_b155261329c849bd9ea57a28f585083c",
            "_dom_classes": [],
            "description": "",
            "_model_name": "HTMLModel",
            "placeholder": "​",
            "_view_module": "@jupyter-widgets/controls",
            "_model_module_version": "1.5.0",
            "value": "",
            "_view_count": null,
            "_view_module_version": "1.5.0",
            "description_tooltip": null,
            "_model_module": "@jupyter-widgets/controls",
            "layout": "IPY_MODEL_fdea0079f69c48f2bea9bc43c2e5ec28"
          }
        },
        "14d48e7494324c77a2ac2c2e0f15b91b": {
          "model_module": "@jupyter-widgets/controls",
          "model_name": "FloatProgressModel",
          "model_module_version": "1.5.0",
          "state": {
            "_view_name": "ProgressView",
            "style": "IPY_MODEL_b35f2c1714d546a8a2750ff6f775630f",
            "_dom_classes": [],
            "description": "",
            "_model_name": "FloatProgressModel",
            "bar_style": "info",
            "max": 1,
            "_view_module": "@jupyter-widgets/controls",
            "_model_module_version": "1.5.0",
            "value": 1,
            "_view_count": null,
            "_view_module_version": "1.5.0",
            "orientation": "horizontal",
            "min": 0,
            "description_tooltip": null,
            "_model_module": "@jupyter-widgets/controls",
            "layout": "IPY_MODEL_5126b80504be4c45b6f4e2d96848e3be"
          }
        },
        "df7b5672bbde44cda74580245f93ddad": {
          "model_module": "@jupyter-widgets/controls",
          "model_name": "HTMLModel",
          "model_module_version": "1.5.0",
          "state": {
            "_view_name": "HTMLView",
            "style": "IPY_MODEL_800df2068f924f7fbe9df4e9f64a47c2",
            "_dom_classes": [],
            "description": "",
            "_model_name": "HTMLModel",
            "placeholder": "​",
            "_view_module": "@jupyter-widgets/controls",
            "_model_module_version": "1.5.0",
            "value": " 24796/0 [00:08&lt;00:00, 2999.30 examples/s]",
            "_view_count": null,
            "_view_module_version": "1.5.0",
            "description_tooltip": null,
            "_model_module": "@jupyter-widgets/controls",
            "layout": "IPY_MODEL_953a8ecd4d4d416488d6de1b8d34e58b"
          }
        },
        "b155261329c849bd9ea57a28f585083c": {
          "model_module": "@jupyter-widgets/controls",
          "model_name": "DescriptionStyleModel",
          "model_module_version": "1.5.0",
          "state": {
            "_view_name": "StyleView",
            "_model_name": "DescriptionStyleModel",
            "description_width": "",
            "_view_module": "@jupyter-widgets/base",
            "_model_module_version": "1.5.0",
            "_view_count": null,
            "_view_module_version": "1.2.0",
            "_model_module": "@jupyter-widgets/controls"
          }
        },
        "fdea0079f69c48f2bea9bc43c2e5ec28": {
          "model_module": "@jupyter-widgets/base",
          "model_name": "LayoutModel",
          "model_module_version": "1.2.0",
          "state": {
            "_view_name": "LayoutView",
            "grid_template_rows": null,
            "right": null,
            "justify_content": null,
            "_view_module": "@jupyter-widgets/base",
            "overflow": null,
            "_model_module_version": "1.2.0",
            "_view_count": null,
            "flex_flow": null,
            "width": null,
            "min_width": null,
            "border": null,
            "align_items": null,
            "bottom": null,
            "_model_module": "@jupyter-widgets/base",
            "top": null,
            "grid_column": null,
            "overflow_y": null,
            "overflow_x": null,
            "grid_auto_flow": null,
            "grid_area": null,
            "grid_template_columns": null,
            "flex": null,
            "_model_name": "LayoutModel",
            "justify_items": null,
            "grid_row": null,
            "max_height": null,
            "align_content": null,
            "visibility": null,
            "align_self": null,
            "height": null,
            "min_height": null,
            "padding": null,
            "grid_auto_rows": null,
            "grid_gap": null,
            "max_width": null,
            "order": null,
            "_view_module_version": "1.2.0",
            "grid_template_areas": null,
            "object_position": null,
            "object_fit": null,
            "grid_auto_columns": null,
            "margin": null,
            "display": null,
            "left": null
          }
        },
        "b35f2c1714d546a8a2750ff6f775630f": {
          "model_module": "@jupyter-widgets/controls",
          "model_name": "ProgressStyleModel",
          "model_module_version": "1.5.0",
          "state": {
            "_view_name": "StyleView",
            "_model_name": "ProgressStyleModel",
            "description_width": "",
            "_view_module": "@jupyter-widgets/base",
            "_model_module_version": "1.5.0",
            "_view_count": null,
            "_view_module_version": "1.2.0",
            "bar_color": null,
            "_model_module": "@jupyter-widgets/controls"
          }
        },
        "5126b80504be4c45b6f4e2d96848e3be": {
          "model_module": "@jupyter-widgets/base",
          "model_name": "LayoutModel",
          "model_module_version": "1.2.0",
          "state": {
            "_view_name": "LayoutView",
            "grid_template_rows": null,
            "right": null,
            "justify_content": null,
            "_view_module": "@jupyter-widgets/base",
            "overflow": null,
            "_model_module_version": "1.2.0",
            "_view_count": null,
            "flex_flow": null,
            "width": "20px",
            "min_width": null,
            "border": null,
            "align_items": null,
            "bottom": null,
            "_model_module": "@jupyter-widgets/base",
            "top": null,
            "grid_column": null,
            "overflow_y": null,
            "overflow_x": null,
            "grid_auto_flow": null,
            "grid_area": null,
            "grid_template_columns": null,
            "flex": null,
            "_model_name": "LayoutModel",
            "justify_items": null,
            "grid_row": null,
            "max_height": null,
            "align_content": null,
            "visibility": null,
            "align_self": null,
            "height": null,
            "min_height": null,
            "padding": null,
            "grid_auto_rows": null,
            "grid_gap": null,
            "max_width": null,
            "order": null,
            "_view_module_version": "1.2.0",
            "grid_template_areas": null,
            "object_position": null,
            "object_fit": null,
            "grid_auto_columns": null,
            "margin": null,
            "display": null,
            "left": null
          }
        },
        "800df2068f924f7fbe9df4e9f64a47c2": {
          "model_module": "@jupyter-widgets/controls",
          "model_name": "DescriptionStyleModel",
          "model_module_version": "1.5.0",
          "state": {
            "_view_name": "StyleView",
            "_model_name": "DescriptionStyleModel",
            "description_width": "",
            "_view_module": "@jupyter-widgets/base",
            "_model_module_version": "1.5.0",
            "_view_count": null,
            "_view_module_version": "1.2.0",
            "_model_module": "@jupyter-widgets/controls"
          }
        },
        "953a8ecd4d4d416488d6de1b8d34e58b": {
          "model_module": "@jupyter-widgets/base",
          "model_name": "LayoutModel",
          "model_module_version": "1.2.0",
          "state": {
            "_view_name": "LayoutView",
            "grid_template_rows": null,
            "right": null,
            "justify_content": null,
            "_view_module": "@jupyter-widgets/base",
            "overflow": null,
            "_model_module_version": "1.2.0",
            "_view_count": null,
            "flex_flow": null,
            "width": null,
            "min_width": null,
            "border": null,
            "align_items": null,
            "bottom": null,
            "_model_module": "@jupyter-widgets/base",
            "top": null,
            "grid_column": null,
            "overflow_y": null,
            "overflow_x": null,
            "grid_auto_flow": null,
            "grid_area": null,
            "grid_template_columns": null,
            "flex": null,
            "_model_name": "LayoutModel",
            "justify_items": null,
            "grid_row": null,
            "max_height": null,
            "align_content": null,
            "visibility": null,
            "align_self": null,
            "height": null,
            "min_height": null,
            "padding": null,
            "grid_auto_rows": null,
            "grid_gap": null,
            "max_width": null,
            "order": null,
            "_view_module_version": "1.2.0",
            "grid_template_areas": null,
            "object_position": null,
            "object_fit": null,
            "grid_auto_columns": null,
            "margin": null,
            "display": null,
            "left": null
          }
        },
        "0d7ff0591ede4af6879f3d08c66b1908": {
          "model_module": "@jupyter-widgets/controls",
          "model_name": "HBoxModel",
          "model_module_version": "1.5.0",
          "state": {
            "_view_name": "HBoxView",
            "_dom_classes": [],
            "_model_name": "HBoxModel",
            "_view_module": "@jupyter-widgets/controls",
            "_model_module_version": "1.5.0",
            "_view_count": null,
            "_view_module_version": "1.5.0",
            "box_style": "",
            "layout": "IPY_MODEL_c72be249661d4480a6666a590b40d763",
            "_model_module": "@jupyter-widgets/controls",
            "children": [
              "IPY_MODEL_6608d66ddade47fd9dd89ffd0fe0a4d1",
              "IPY_MODEL_960d26786c30443e827ad3a5ce120b03",
              "IPY_MODEL_488a3ae156a64395b502f789a7a13de1"
            ]
          }
        },
        "c72be249661d4480a6666a590b40d763": {
          "model_module": "@jupyter-widgets/base",
          "model_name": "LayoutModel",
          "model_module_version": "1.2.0",
          "state": {
            "_view_name": "LayoutView",
            "grid_template_rows": null,
            "right": null,
            "justify_content": null,
            "_view_module": "@jupyter-widgets/base",
            "overflow": null,
            "_model_module_version": "1.2.0",
            "_view_count": null,
            "flex_flow": null,
            "width": null,
            "min_width": null,
            "border": null,
            "align_items": null,
            "bottom": null,
            "_model_module": "@jupyter-widgets/base",
            "top": null,
            "grid_column": null,
            "overflow_y": null,
            "overflow_x": null,
            "grid_auto_flow": null,
            "grid_area": null,
            "grid_template_columns": null,
            "flex": null,
            "_model_name": "LayoutModel",
            "justify_items": null,
            "grid_row": null,
            "max_height": null,
            "align_content": null,
            "visibility": null,
            "align_self": null,
            "height": null,
            "min_height": null,
            "padding": null,
            "grid_auto_rows": null,
            "grid_gap": null,
            "max_width": null,
            "order": null,
            "_view_module_version": "1.2.0",
            "grid_template_areas": null,
            "object_position": null,
            "object_fit": null,
            "grid_auto_columns": null,
            "margin": null,
            "display": null,
            "left": null
          }
        },
        "6608d66ddade47fd9dd89ffd0fe0a4d1": {
          "model_module": "@jupyter-widgets/controls",
          "model_name": "HTMLModel",
          "model_module_version": "1.5.0",
          "state": {
            "_view_name": "HTMLView",
            "style": "IPY_MODEL_65f151a2930741e7af7b8e68e9640e6a",
            "_dom_classes": [],
            "description": "",
            "_model_name": "HTMLModel",
            "placeholder": "​",
            "_view_module": "@jupyter-widgets/controls",
            "_model_module_version": "1.5.0",
            "value": "100%",
            "_view_count": null,
            "_view_module_version": "1.5.0",
            "description_tooltip": null,
            "_model_module": "@jupyter-widgets/controls",
            "layout": "IPY_MODEL_23c6f384e93d400f81f48082212296b8"
          }
        },
        "960d26786c30443e827ad3a5ce120b03": {
          "model_module": "@jupyter-widgets/controls",
          "model_name": "FloatProgressModel",
          "model_module_version": "1.5.0",
          "state": {
            "_view_name": "ProgressView",
            "style": "IPY_MODEL_366c6364ff634f9cb8e780e7461cdd9f",
            "_dom_classes": [],
            "description": "",
            "_model_name": "FloatProgressModel",
            "bar_style": "danger",
            "max": 25000,
            "_view_module": "@jupyter-widgets/controls",
            "_model_module_version": "1.5.0",
            "value": 24999,
            "_view_count": null,
            "_view_module_version": "1.5.0",
            "orientation": "horizontal",
            "min": 0,
            "description_tooltip": null,
            "_model_module": "@jupyter-widgets/controls",
            "layout": "IPY_MODEL_04299fc2cfec4703a3026d95557cd6f6"
          }
        },
        "488a3ae156a64395b502f789a7a13de1": {
          "model_module": "@jupyter-widgets/controls",
          "model_name": "HTMLModel",
          "model_module_version": "1.5.0",
          "state": {
            "_view_name": "HTMLView",
            "style": "IPY_MODEL_d9cd0c1414294dd98cf8b4299642f854",
            "_dom_classes": [],
            "description": "",
            "_model_name": "HTMLModel",
            "placeholder": "​",
            "_view_module": "@jupyter-widgets/controls",
            "_model_module_version": "1.5.0",
            "value": " 24999/25000 [00:00&lt;00:00, 48993.16 examples/s]",
            "_view_count": null,
            "_view_module_version": "1.5.0",
            "description_tooltip": null,
            "_model_module": "@jupyter-widgets/controls",
            "layout": "IPY_MODEL_c3a050e85e2b4019aed1522ea96de094"
          }
        },
        "65f151a2930741e7af7b8e68e9640e6a": {
          "model_module": "@jupyter-widgets/controls",
          "model_name": "DescriptionStyleModel",
          "model_module_version": "1.5.0",
          "state": {
            "_view_name": "StyleView",
            "_model_name": "DescriptionStyleModel",
            "description_width": "",
            "_view_module": "@jupyter-widgets/base",
            "_model_module_version": "1.5.0",
            "_view_count": null,
            "_view_module_version": "1.2.0",
            "_model_module": "@jupyter-widgets/controls"
          }
        },
        "23c6f384e93d400f81f48082212296b8": {
          "model_module": "@jupyter-widgets/base",
          "model_name": "LayoutModel",
          "model_module_version": "1.2.0",
          "state": {
            "_view_name": "LayoutView",
            "grid_template_rows": null,
            "right": null,
            "justify_content": null,
            "_view_module": "@jupyter-widgets/base",
            "overflow": null,
            "_model_module_version": "1.2.0",
            "_view_count": null,
            "flex_flow": null,
            "width": null,
            "min_width": null,
            "border": null,
            "align_items": null,
            "bottom": null,
            "_model_module": "@jupyter-widgets/base",
            "top": null,
            "grid_column": null,
            "overflow_y": null,
            "overflow_x": null,
            "grid_auto_flow": null,
            "grid_area": null,
            "grid_template_columns": null,
            "flex": null,
            "_model_name": "LayoutModel",
            "justify_items": null,
            "grid_row": null,
            "max_height": null,
            "align_content": null,
            "visibility": null,
            "align_self": null,
            "height": null,
            "min_height": null,
            "padding": null,
            "grid_auto_rows": null,
            "grid_gap": null,
            "max_width": null,
            "order": null,
            "_view_module_version": "1.2.0",
            "grid_template_areas": null,
            "object_position": null,
            "object_fit": null,
            "grid_auto_columns": null,
            "margin": null,
            "display": null,
            "left": null
          }
        },
        "366c6364ff634f9cb8e780e7461cdd9f": {
          "model_module": "@jupyter-widgets/controls",
          "model_name": "ProgressStyleModel",
          "model_module_version": "1.5.0",
          "state": {
            "_view_name": "StyleView",
            "_model_name": "ProgressStyleModel",
            "description_width": "",
            "_view_module": "@jupyter-widgets/base",
            "_model_module_version": "1.5.0",
            "_view_count": null,
            "_view_module_version": "1.2.0",
            "bar_color": null,
            "_model_module": "@jupyter-widgets/controls"
          }
        },
        "04299fc2cfec4703a3026d95557cd6f6": {
          "model_module": "@jupyter-widgets/base",
          "model_name": "LayoutModel",
          "model_module_version": "1.2.0",
          "state": {
            "_view_name": "LayoutView",
            "grid_template_rows": null,
            "right": null,
            "justify_content": null,
            "_view_module": "@jupyter-widgets/base",
            "overflow": null,
            "_model_module_version": "1.2.0",
            "_view_count": null,
            "flex_flow": null,
            "width": null,
            "min_width": null,
            "border": null,
            "align_items": null,
            "bottom": null,
            "_model_module": "@jupyter-widgets/base",
            "top": null,
            "grid_column": null,
            "overflow_y": null,
            "overflow_x": null,
            "grid_auto_flow": null,
            "grid_area": null,
            "grid_template_columns": null,
            "flex": null,
            "_model_name": "LayoutModel",
            "justify_items": null,
            "grid_row": null,
            "max_height": null,
            "align_content": null,
            "visibility": null,
            "align_self": null,
            "height": null,
            "min_height": null,
            "padding": null,
            "grid_auto_rows": null,
            "grid_gap": null,
            "max_width": null,
            "order": null,
            "_view_module_version": "1.2.0",
            "grid_template_areas": null,
            "object_position": null,
            "object_fit": null,
            "grid_auto_columns": null,
            "margin": null,
            "display": null,
            "left": null
          }
        },
        "d9cd0c1414294dd98cf8b4299642f854": {
          "model_module": "@jupyter-widgets/controls",
          "model_name": "DescriptionStyleModel",
          "model_module_version": "1.5.0",
          "state": {
            "_view_name": "StyleView",
            "_model_name": "DescriptionStyleModel",
            "description_width": "",
            "_view_module": "@jupyter-widgets/base",
            "_model_module_version": "1.5.0",
            "_view_count": null,
            "_view_module_version": "1.2.0",
            "_model_module": "@jupyter-widgets/controls"
          }
        },
        "c3a050e85e2b4019aed1522ea96de094": {
          "model_module": "@jupyter-widgets/base",
          "model_name": "LayoutModel",
          "model_module_version": "1.2.0",
          "state": {
            "_view_name": "LayoutView",
            "grid_template_rows": null,
            "right": null,
            "justify_content": null,
            "_view_module": "@jupyter-widgets/base",
            "overflow": null,
            "_model_module_version": "1.2.0",
            "_view_count": null,
            "flex_flow": null,
            "width": null,
            "min_width": null,
            "border": null,
            "align_items": null,
            "bottom": null,
            "_model_module": "@jupyter-widgets/base",
            "top": null,
            "grid_column": null,
            "overflow_y": null,
            "overflow_x": null,
            "grid_auto_flow": null,
            "grid_area": null,
            "grid_template_columns": null,
            "flex": null,
            "_model_name": "LayoutModel",
            "justify_items": null,
            "grid_row": null,
            "max_height": null,
            "align_content": null,
            "visibility": null,
            "align_self": null,
            "height": null,
            "min_height": null,
            "padding": null,
            "grid_auto_rows": null,
            "grid_gap": null,
            "max_width": null,
            "order": null,
            "_view_module_version": "1.2.0",
            "grid_template_areas": null,
            "object_position": null,
            "object_fit": null,
            "grid_auto_columns": null,
            "margin": null,
            "display": null,
            "left": null
          }
        },
        "ef5e81d4a57d4fbfb4339b1cf03f821f": {
          "model_module": "@jupyter-widgets/controls",
          "model_name": "HBoxModel",
          "model_module_version": "1.5.0",
          "state": {
            "_view_name": "HBoxView",
            "_dom_classes": [],
            "_model_name": "HBoxModel",
            "_view_module": "@jupyter-widgets/controls",
            "_model_module_version": "1.5.0",
            "_view_count": null,
            "_view_module_version": "1.5.0",
            "box_style": "",
            "layout": "IPY_MODEL_408c2a03bfeb4bf9a5ad91290ecf6cec",
            "_model_module": "@jupyter-widgets/controls",
            "children": [
              "IPY_MODEL_2721f285731b45c9a24d731439d6fc8a",
              "IPY_MODEL_2d780712d36146dda24dba79d27e00fa",
              "IPY_MODEL_68ee9856ade743c3ad4e0d3a05bda83a"
            ]
          }
        },
        "408c2a03bfeb4bf9a5ad91290ecf6cec": {
          "model_module": "@jupyter-widgets/base",
          "model_name": "LayoutModel",
          "model_module_version": "1.2.0",
          "state": {
            "_view_name": "LayoutView",
            "grid_template_rows": null,
            "right": null,
            "justify_content": null,
            "_view_module": "@jupyter-widgets/base",
            "overflow": null,
            "_model_module_version": "1.2.0",
            "_view_count": null,
            "flex_flow": null,
            "width": null,
            "min_width": null,
            "border": null,
            "align_items": null,
            "bottom": null,
            "_model_module": "@jupyter-widgets/base",
            "top": null,
            "grid_column": null,
            "overflow_y": null,
            "overflow_x": null,
            "grid_auto_flow": null,
            "grid_area": null,
            "grid_template_columns": null,
            "flex": null,
            "_model_name": "LayoutModel",
            "justify_items": null,
            "grid_row": null,
            "max_height": null,
            "align_content": null,
            "visibility": null,
            "align_self": null,
            "height": null,
            "min_height": null,
            "padding": null,
            "grid_auto_rows": null,
            "grid_gap": null,
            "max_width": null,
            "order": null,
            "_view_module_version": "1.2.0",
            "grid_template_areas": null,
            "object_position": null,
            "object_fit": null,
            "grid_auto_columns": null,
            "margin": null,
            "display": null,
            "left": null
          }
        },
        "2721f285731b45c9a24d731439d6fc8a": {
          "model_module": "@jupyter-widgets/controls",
          "model_name": "HTMLModel",
          "model_module_version": "1.5.0",
          "state": {
            "_view_name": "HTMLView",
            "style": "IPY_MODEL_1f682e663faa4db196c8a0b9cbe81526",
            "_dom_classes": [],
            "description": "",
            "_model_name": "HTMLModel",
            "placeholder": "​",
            "_view_module": "@jupyter-widgets/controls",
            "_model_module_version": "1.5.0",
            "value": "",
            "_view_count": null,
            "_view_module_version": "1.5.0",
            "description_tooltip": null,
            "_model_module": "@jupyter-widgets/controls",
            "layout": "IPY_MODEL_ce280a54116a4685a97935a79fab29c3"
          }
        },
        "2d780712d36146dda24dba79d27e00fa": {
          "model_module": "@jupyter-widgets/controls",
          "model_name": "FloatProgressModel",
          "model_module_version": "1.5.0",
          "state": {
            "_view_name": "ProgressView",
            "style": "IPY_MODEL_0359eaca5827411ebee86cb556360ee2",
            "_dom_classes": [],
            "description": "",
            "_model_name": "FloatProgressModel",
            "bar_style": "info",
            "max": 1,
            "_view_module": "@jupyter-widgets/controls",
            "_model_module_version": "1.5.0",
            "value": 1,
            "_view_count": null,
            "_view_module_version": "1.5.0",
            "orientation": "horizontal",
            "min": 0,
            "description_tooltip": null,
            "_model_module": "@jupyter-widgets/controls",
            "layout": "IPY_MODEL_a61db1b5253b4435aff0bac4529cdaa8"
          }
        },
        "68ee9856ade743c3ad4e0d3a05bda83a": {
          "model_module": "@jupyter-widgets/controls",
          "model_name": "HTMLModel",
          "model_module_version": "1.5.0",
          "state": {
            "_view_name": "HTMLView",
            "style": "IPY_MODEL_698ca1c7d6954bee9224ee684599dc2d",
            "_dom_classes": [],
            "description": "",
            "_model_name": "HTMLModel",
            "placeholder": "​",
            "_view_module": "@jupyter-widgets/controls",
            "_model_module_version": "1.5.0",
            "value": " 49991/0 [00:21&lt;00:00, 3089.73 examples/s]",
            "_view_count": null,
            "_view_module_version": "1.5.0",
            "description_tooltip": null,
            "_model_module": "@jupyter-widgets/controls",
            "layout": "IPY_MODEL_43ef0a0aa4bc4d40a8474ee78dea4416"
          }
        },
        "1f682e663faa4db196c8a0b9cbe81526": {
          "model_module": "@jupyter-widgets/controls",
          "model_name": "DescriptionStyleModel",
          "model_module_version": "1.5.0",
          "state": {
            "_view_name": "StyleView",
            "_model_name": "DescriptionStyleModel",
            "description_width": "",
            "_view_module": "@jupyter-widgets/base",
            "_model_module_version": "1.5.0",
            "_view_count": null,
            "_view_module_version": "1.2.0",
            "_model_module": "@jupyter-widgets/controls"
          }
        },
        "ce280a54116a4685a97935a79fab29c3": {
          "model_module": "@jupyter-widgets/base",
          "model_name": "LayoutModel",
          "model_module_version": "1.2.0",
          "state": {
            "_view_name": "LayoutView",
            "grid_template_rows": null,
            "right": null,
            "justify_content": null,
            "_view_module": "@jupyter-widgets/base",
            "overflow": null,
            "_model_module_version": "1.2.0",
            "_view_count": null,
            "flex_flow": null,
            "width": null,
            "min_width": null,
            "border": null,
            "align_items": null,
            "bottom": null,
            "_model_module": "@jupyter-widgets/base",
            "top": null,
            "grid_column": null,
            "overflow_y": null,
            "overflow_x": null,
            "grid_auto_flow": null,
            "grid_area": null,
            "grid_template_columns": null,
            "flex": null,
            "_model_name": "LayoutModel",
            "justify_items": null,
            "grid_row": null,
            "max_height": null,
            "align_content": null,
            "visibility": null,
            "align_self": null,
            "height": null,
            "min_height": null,
            "padding": null,
            "grid_auto_rows": null,
            "grid_gap": null,
            "max_width": null,
            "order": null,
            "_view_module_version": "1.2.0",
            "grid_template_areas": null,
            "object_position": null,
            "object_fit": null,
            "grid_auto_columns": null,
            "margin": null,
            "display": null,
            "left": null
          }
        },
        "0359eaca5827411ebee86cb556360ee2": {
          "model_module": "@jupyter-widgets/controls",
          "model_name": "ProgressStyleModel",
          "model_module_version": "1.5.0",
          "state": {
            "_view_name": "StyleView",
            "_model_name": "ProgressStyleModel",
            "description_width": "",
            "_view_module": "@jupyter-widgets/base",
            "_model_module_version": "1.5.0",
            "_view_count": null,
            "_view_module_version": "1.2.0",
            "bar_color": null,
            "_model_module": "@jupyter-widgets/controls"
          }
        },
        "a61db1b5253b4435aff0bac4529cdaa8": {
          "model_module": "@jupyter-widgets/base",
          "model_name": "LayoutModel",
          "model_module_version": "1.2.0",
          "state": {
            "_view_name": "LayoutView",
            "grid_template_rows": null,
            "right": null,
            "justify_content": null,
            "_view_module": "@jupyter-widgets/base",
            "overflow": null,
            "_model_module_version": "1.2.0",
            "_view_count": null,
            "flex_flow": null,
            "width": "20px",
            "min_width": null,
            "border": null,
            "align_items": null,
            "bottom": null,
            "_model_module": "@jupyter-widgets/base",
            "top": null,
            "grid_column": null,
            "overflow_y": null,
            "overflow_x": null,
            "grid_auto_flow": null,
            "grid_area": null,
            "grid_template_columns": null,
            "flex": null,
            "_model_name": "LayoutModel",
            "justify_items": null,
            "grid_row": null,
            "max_height": null,
            "align_content": null,
            "visibility": null,
            "align_self": null,
            "height": null,
            "min_height": null,
            "padding": null,
            "grid_auto_rows": null,
            "grid_gap": null,
            "max_width": null,
            "order": null,
            "_view_module_version": "1.2.0",
            "grid_template_areas": null,
            "object_position": null,
            "object_fit": null,
            "grid_auto_columns": null,
            "margin": null,
            "display": null,
            "left": null
          }
        },
        "698ca1c7d6954bee9224ee684599dc2d": {
          "model_module": "@jupyter-widgets/controls",
          "model_name": "DescriptionStyleModel",
          "model_module_version": "1.5.0",
          "state": {
            "_view_name": "StyleView",
            "_model_name": "DescriptionStyleModel",
            "description_width": "",
            "_view_module": "@jupyter-widgets/base",
            "_model_module_version": "1.5.0",
            "_view_count": null,
            "_view_module_version": "1.2.0",
            "_model_module": "@jupyter-widgets/controls"
          }
        },
        "43ef0a0aa4bc4d40a8474ee78dea4416": {
          "model_module": "@jupyter-widgets/base",
          "model_name": "LayoutModel",
          "model_module_version": "1.2.0",
          "state": {
            "_view_name": "LayoutView",
            "grid_template_rows": null,
            "right": null,
            "justify_content": null,
            "_view_module": "@jupyter-widgets/base",
            "overflow": null,
            "_model_module_version": "1.2.0",
            "_view_count": null,
            "flex_flow": null,
            "width": null,
            "min_width": null,
            "border": null,
            "align_items": null,
            "bottom": null,
            "_model_module": "@jupyter-widgets/base",
            "top": null,
            "grid_column": null,
            "overflow_y": null,
            "overflow_x": null,
            "grid_auto_flow": null,
            "grid_area": null,
            "grid_template_columns": null,
            "flex": null,
            "_model_name": "LayoutModel",
            "justify_items": null,
            "grid_row": null,
            "max_height": null,
            "align_content": null,
            "visibility": null,
            "align_self": null,
            "height": null,
            "min_height": null,
            "padding": null,
            "grid_auto_rows": null,
            "grid_gap": null,
            "max_width": null,
            "order": null,
            "_view_module_version": "1.2.0",
            "grid_template_areas": null,
            "object_position": null,
            "object_fit": null,
            "grid_auto_columns": null,
            "margin": null,
            "display": null,
            "left": null
          }
        },
        "194b6c3419004217a81151253f241e8c": {
          "model_module": "@jupyter-widgets/controls",
          "model_name": "HBoxModel",
          "model_module_version": "1.5.0",
          "state": {
            "_view_name": "HBoxView",
            "_dom_classes": [],
            "_model_name": "HBoxModel",
            "_view_module": "@jupyter-widgets/controls",
            "_model_module_version": "1.5.0",
            "_view_count": null,
            "_view_module_version": "1.5.0",
            "box_style": "",
            "layout": "IPY_MODEL_1357b13802d148f3a9eccd128ad19283",
            "_model_module": "@jupyter-widgets/controls",
            "children": [
              "IPY_MODEL_054c1a819cba46c5830359bd4765b6fd",
              "IPY_MODEL_186ef9bb05954881bf35272ddd40c967",
              "IPY_MODEL_0840e8b3ccf94604b9c49c9289b4091e"
            ]
          }
        },
        "1357b13802d148f3a9eccd128ad19283": {
          "model_module": "@jupyter-widgets/base",
          "model_name": "LayoutModel",
          "model_module_version": "1.2.0",
          "state": {
            "_view_name": "LayoutView",
            "grid_template_rows": null,
            "right": null,
            "justify_content": null,
            "_view_module": "@jupyter-widgets/base",
            "overflow": null,
            "_model_module_version": "1.2.0",
            "_view_count": null,
            "flex_flow": null,
            "width": null,
            "min_width": null,
            "border": null,
            "align_items": null,
            "bottom": null,
            "_model_module": "@jupyter-widgets/base",
            "top": null,
            "grid_column": null,
            "overflow_y": null,
            "overflow_x": null,
            "grid_auto_flow": null,
            "grid_area": null,
            "grid_template_columns": null,
            "flex": null,
            "_model_name": "LayoutModel",
            "justify_items": null,
            "grid_row": null,
            "max_height": null,
            "align_content": null,
            "visibility": null,
            "align_self": null,
            "height": null,
            "min_height": null,
            "padding": null,
            "grid_auto_rows": null,
            "grid_gap": null,
            "max_width": null,
            "order": null,
            "_view_module_version": "1.2.0",
            "grid_template_areas": null,
            "object_position": null,
            "object_fit": null,
            "grid_auto_columns": null,
            "margin": null,
            "display": null,
            "left": null
          }
        },
        "054c1a819cba46c5830359bd4765b6fd": {
          "model_module": "@jupyter-widgets/controls",
          "model_name": "HTMLModel",
          "model_module_version": "1.5.0",
          "state": {
            "_view_name": "HTMLView",
            "style": "IPY_MODEL_d04c6780a1f3426599d16b2e72baf682",
            "_dom_classes": [],
            "description": "",
            "_model_name": "HTMLModel",
            "placeholder": "​",
            "_view_module": "@jupyter-widgets/controls",
            "_model_module_version": "1.5.0",
            "value": "100%",
            "_view_count": null,
            "_view_module_version": "1.5.0",
            "description_tooltip": null,
            "_model_module": "@jupyter-widgets/controls",
            "layout": "IPY_MODEL_3f11e2a7ff3f49ef8647c7df3f12ce53"
          }
        },
        "186ef9bb05954881bf35272ddd40c967": {
          "model_module": "@jupyter-widgets/controls",
          "model_name": "FloatProgressModel",
          "model_module_version": "1.5.0",
          "state": {
            "_view_name": "ProgressView",
            "style": "IPY_MODEL_4ab04ee65a4946b2bfa35df33b306fe2",
            "_dom_classes": [],
            "description": "",
            "_model_name": "FloatProgressModel",
            "bar_style": "danger",
            "max": 50000,
            "_view_module": "@jupyter-widgets/controls",
            "_model_module_version": "1.5.0",
            "value": 49999,
            "_view_count": null,
            "_view_module_version": "1.5.0",
            "orientation": "horizontal",
            "min": 0,
            "description_tooltip": null,
            "_model_module": "@jupyter-widgets/controls",
            "layout": "IPY_MODEL_3aa631e27c8c458481500a8dec1c6f18"
          }
        },
        "0840e8b3ccf94604b9c49c9289b4091e": {
          "model_module": "@jupyter-widgets/controls",
          "model_name": "HTMLModel",
          "model_module_version": "1.5.0",
          "state": {
            "_view_name": "HTMLView",
            "style": "IPY_MODEL_e17e6d70ec3d4706970647bfe67d171c",
            "_dom_classes": [],
            "description": "",
            "_model_name": "HTMLModel",
            "placeholder": "​",
            "_view_module": "@jupyter-widgets/controls",
            "_model_module_version": "1.5.0",
            "value": " 49999/50000 [00:00&lt;00:00, 136796.17 examples/s]",
            "_view_count": null,
            "_view_module_version": "1.5.0",
            "description_tooltip": null,
            "_model_module": "@jupyter-widgets/controls",
            "layout": "IPY_MODEL_48c10f9780b145b19f3bfe61de0fb2ab"
          }
        },
        "d04c6780a1f3426599d16b2e72baf682": {
          "model_module": "@jupyter-widgets/controls",
          "model_name": "DescriptionStyleModel",
          "model_module_version": "1.5.0",
          "state": {
            "_view_name": "StyleView",
            "_model_name": "DescriptionStyleModel",
            "description_width": "",
            "_view_module": "@jupyter-widgets/base",
            "_model_module_version": "1.5.0",
            "_view_count": null,
            "_view_module_version": "1.2.0",
            "_model_module": "@jupyter-widgets/controls"
          }
        },
        "3f11e2a7ff3f49ef8647c7df3f12ce53": {
          "model_module": "@jupyter-widgets/base",
          "model_name": "LayoutModel",
          "model_module_version": "1.2.0",
          "state": {
            "_view_name": "LayoutView",
            "grid_template_rows": null,
            "right": null,
            "justify_content": null,
            "_view_module": "@jupyter-widgets/base",
            "overflow": null,
            "_model_module_version": "1.2.0",
            "_view_count": null,
            "flex_flow": null,
            "width": null,
            "min_width": null,
            "border": null,
            "align_items": null,
            "bottom": null,
            "_model_module": "@jupyter-widgets/base",
            "top": null,
            "grid_column": null,
            "overflow_y": null,
            "overflow_x": null,
            "grid_auto_flow": null,
            "grid_area": null,
            "grid_template_columns": null,
            "flex": null,
            "_model_name": "LayoutModel",
            "justify_items": null,
            "grid_row": null,
            "max_height": null,
            "align_content": null,
            "visibility": null,
            "align_self": null,
            "height": null,
            "min_height": null,
            "padding": null,
            "grid_auto_rows": null,
            "grid_gap": null,
            "max_width": null,
            "order": null,
            "_view_module_version": "1.2.0",
            "grid_template_areas": null,
            "object_position": null,
            "object_fit": null,
            "grid_auto_columns": null,
            "margin": null,
            "display": null,
            "left": null
          }
        },
        "4ab04ee65a4946b2bfa35df33b306fe2": {
          "model_module": "@jupyter-widgets/controls",
          "model_name": "ProgressStyleModel",
          "model_module_version": "1.5.0",
          "state": {
            "_view_name": "StyleView",
            "_model_name": "ProgressStyleModel",
            "description_width": "",
            "_view_module": "@jupyter-widgets/base",
            "_model_module_version": "1.5.0",
            "_view_count": null,
            "_view_module_version": "1.2.0",
            "bar_color": null,
            "_model_module": "@jupyter-widgets/controls"
          }
        },
        "3aa631e27c8c458481500a8dec1c6f18": {
          "model_module": "@jupyter-widgets/base",
          "model_name": "LayoutModel",
          "model_module_version": "1.2.0",
          "state": {
            "_view_name": "LayoutView",
            "grid_template_rows": null,
            "right": null,
            "justify_content": null,
            "_view_module": "@jupyter-widgets/base",
            "overflow": null,
            "_model_module_version": "1.2.0",
            "_view_count": null,
            "flex_flow": null,
            "width": null,
            "min_width": null,
            "border": null,
            "align_items": null,
            "bottom": null,
            "_model_module": "@jupyter-widgets/base",
            "top": null,
            "grid_column": null,
            "overflow_y": null,
            "overflow_x": null,
            "grid_auto_flow": null,
            "grid_area": null,
            "grid_template_columns": null,
            "flex": null,
            "_model_name": "LayoutModel",
            "justify_items": null,
            "grid_row": null,
            "max_height": null,
            "align_content": null,
            "visibility": null,
            "align_self": null,
            "height": null,
            "min_height": null,
            "padding": null,
            "grid_auto_rows": null,
            "grid_gap": null,
            "max_width": null,
            "order": null,
            "_view_module_version": "1.2.0",
            "grid_template_areas": null,
            "object_position": null,
            "object_fit": null,
            "grid_auto_columns": null,
            "margin": null,
            "display": null,
            "left": null
          }
        },
        "e17e6d70ec3d4706970647bfe67d171c": {
          "model_module": "@jupyter-widgets/controls",
          "model_name": "DescriptionStyleModel",
          "model_module_version": "1.5.0",
          "state": {
            "_view_name": "StyleView",
            "_model_name": "DescriptionStyleModel",
            "description_width": "",
            "_view_module": "@jupyter-widgets/base",
            "_model_module_version": "1.5.0",
            "_view_count": null,
            "_view_module_version": "1.2.0",
            "_model_module": "@jupyter-widgets/controls"
          }
        },
        "48c10f9780b145b19f3bfe61de0fb2ab": {
          "model_module": "@jupyter-widgets/base",
          "model_name": "LayoutModel",
          "model_module_version": "1.2.0",
          "state": {
            "_view_name": "LayoutView",
            "grid_template_rows": null,
            "right": null,
            "justify_content": null,
            "_view_module": "@jupyter-widgets/base",
            "overflow": null,
            "_model_module_version": "1.2.0",
            "_view_count": null,
            "flex_flow": null,
            "width": null,
            "min_width": null,
            "border": null,
            "align_items": null,
            "bottom": null,
            "_model_module": "@jupyter-widgets/base",
            "top": null,
            "grid_column": null,
            "overflow_y": null,
            "overflow_x": null,
            "grid_auto_flow": null,
            "grid_area": null,
            "grid_template_columns": null,
            "flex": null,
            "_model_name": "LayoutModel",
            "justify_items": null,
            "grid_row": null,
            "max_height": null,
            "align_content": null,
            "visibility": null,
            "align_self": null,
            "height": null,
            "min_height": null,
            "padding": null,
            "grid_auto_rows": null,
            "grid_gap": null,
            "max_width": null,
            "order": null,
            "_view_module_version": "1.2.0",
            "grid_template_areas": null,
            "object_position": null,
            "object_fit": null,
            "grid_auto_columns": null,
            "margin": null,
            "display": null,
            "left": null
          }
        }
      }
    }
  },
  "cells": [
    {
      "cell_type": "markdown",
      "metadata": {
        "id": "vYh9LHL5jgR8"
      },
      "source": [
        "# Convolutional Autoencoder-Classifier"
      ]
    },
    {
      "cell_type": "code",
      "metadata": {
        "id": "LEXm_Tp6ZdBj"
      },
      "source": [
        "# import the dependency libraries\n",
        "import numpy as np\n",
        "\n",
        "from sklearn.metrics import classification_report\n",
        "from sklearn.linear_model import LogisticRegression\n",
        "from sklearn.metrics import confusion_matrix, accuracy_score\n",
        "\n",
        "import tensorflow as tf\n",
        "from tensorflow.keras.layers import LeakyReLU, Dense, Flatten, Conv1D, Conv1DTranspose, MaxPooling1D, Input, BatchNormalization, MaxPool1D \n",
        "from tensorflow.keras.models import Model\n",
        "import tensorflow_datasets as tfds # To load the datasets\n",
        "import tensorflow_hub as hub       # Used for Transfer learning\n",
        "\n",
        "import matplotlib.pyplot as plt"
      ],
      "execution_count": 1,
      "outputs": []
    },
    {
      "cell_type": "code",
      "metadata": {
        "id": "-7sJSwUNS1cg"
      },
      "source": [
        "# To know all available datasets in Tensorflow_hub are\n",
        "#tfds.list_builders()"
      ],
      "execution_count": 2,
      "outputs": []
    },
    {
      "cell_type": "markdown",
      "metadata": {
        "id": "LazHL6qkaMlK"
      },
      "source": [
        "### Download IMBD dataset"
      ]
    },
    {
      "cell_type": "code",
      "metadata": {
        "id": "dsxV1f4GaBoq",
        "colab": {
          "base_uri": "https://localhost:8080/",
          "height": 330,
          "referenced_widgets": [
            "54a20dd41de048688ea8651a4c24e4ad",
            "5cffc508711c492189309750c61217a0",
            "db8bec684ace4cc1b3330df91e5fffd7",
            "d095fb32fe944cae83ef9c2bfa1cc3e3",
            "b4c1b8041e824401951e98adf94b0d14",
            "411d5743623441458de800bc75479e39",
            "b90d65845f694d63adb81def445b2da9",
            "c68adeb895f74d968a6f75f0fc4e96e6",
            "a99219467a5b45f89367cb993660e2af",
            "a811b7fc3bea4fc6beead725a2a1c2a4",
            "0e08740870b94bf5b172ccd9e7fa6286",
            "a146a4cbdb3f4b979ba27a2d4a483eca",
            "0e852d05ced74874b2e5f7ed792ae665",
            "de4f358afbed474aadbd71df564655c4",
            "5bc559c4f364496d9c19a8d4346a347e",
            "eade3d2c2bcd42a1ade272ea53344556",
            "82c2f4620986405ebc9ee87f44416adc",
            "1205d8df76e144168f6cd35eb0b1f6f4",
            "9dd58d9b2015420d957419f713ef9e53",
            "f5b2f464b03a46f692de7abf46de470e",
            "147cb101d9a74b46a4c4ded16d50f20a",
            "1438c059f9c94e3a85953e0cc3035b73",
            "3ae85feed37d4be1a84adeeadbe48f50",
            "bcf038b260cb4d60b4ca0ae20a8d8da8",
            "e09b6022a53c4f55b9366b38ff1f2e67",
            "ad62e0cf65e84c9c9fa866df3bd7c1a2",
            "5b1a142ef78347449e7bf5e3d5449d2c",
            "192578c561834bb6bfc993596d61586d",
            "b79888dfb73744698d671cbfb88db0c0",
            "dcdafb3579fa41e3ac7f2b6fce3784a2",
            "2b0c11ec72c6447e854982b17cfe5f38",
            "d3a84bcd7d0d4d6eb216ddcd2f6277ec",
            "d276520efe454968bd88451d4dd414eb",
            "1746005cc400427ab103ae2325c269e7",
            "3341167ecb2b4fbf8faad5d3b073977d",
            "6341f825ac9b4f76addfb1b73494dc33",
            "b99d05c298b74d6fb07084261717c71c",
            "2449b9784d294ff58e2b8d3fba904040",
            "6f06abafa9434426ba6c01c568a40aca",
            "e69a8b8377e5492ea5e16790a8b8beea",
            "a317a6f5ebbe41c5a39f680ff8e0b008",
            "5cc05cbb45314455a480b829ea0c8615",
            "a0f71dc380b7408ba0d99eedc420e4ef",
            "cf497236566046dd9817c5a13934dcb4",
            "7e27a7ec8c1e40008e861e526f7437f6",
            "d5844d6f47bd4ae396ea8bacd07650b5",
            "c102295a9f214e9db7025ce4960fc9ae",
            "14d48e7494324c77a2ac2c2e0f15b91b",
            "df7b5672bbde44cda74580245f93ddad",
            "b155261329c849bd9ea57a28f585083c",
            "fdea0079f69c48f2bea9bc43c2e5ec28",
            "b35f2c1714d546a8a2750ff6f775630f",
            "5126b80504be4c45b6f4e2d96848e3be",
            "800df2068f924f7fbe9df4e9f64a47c2",
            "953a8ecd4d4d416488d6de1b8d34e58b",
            "0d7ff0591ede4af6879f3d08c66b1908",
            "c72be249661d4480a6666a590b40d763",
            "6608d66ddade47fd9dd89ffd0fe0a4d1",
            "960d26786c30443e827ad3a5ce120b03",
            "488a3ae156a64395b502f789a7a13de1",
            "65f151a2930741e7af7b8e68e9640e6a",
            "23c6f384e93d400f81f48082212296b8",
            "366c6364ff634f9cb8e780e7461cdd9f",
            "04299fc2cfec4703a3026d95557cd6f6",
            "d9cd0c1414294dd98cf8b4299642f854",
            "c3a050e85e2b4019aed1522ea96de094",
            "ef5e81d4a57d4fbfb4339b1cf03f821f",
            "408c2a03bfeb4bf9a5ad91290ecf6cec",
            "2721f285731b45c9a24d731439d6fc8a",
            "2d780712d36146dda24dba79d27e00fa",
            "68ee9856ade743c3ad4e0d3a05bda83a",
            "1f682e663faa4db196c8a0b9cbe81526",
            "ce280a54116a4685a97935a79fab29c3",
            "0359eaca5827411ebee86cb556360ee2",
            "a61db1b5253b4435aff0bac4529cdaa8",
            "698ca1c7d6954bee9224ee684599dc2d",
            "43ef0a0aa4bc4d40a8474ee78dea4416",
            "194b6c3419004217a81151253f241e8c",
            "1357b13802d148f3a9eccd128ad19283",
            "054c1a819cba46c5830359bd4765b6fd",
            "186ef9bb05954881bf35272ddd40c967",
            "0840e8b3ccf94604b9c49c9289b4091e",
            "d04c6780a1f3426599d16b2e72baf682",
            "3f11e2a7ff3f49ef8647c7df3f12ce53",
            "4ab04ee65a4946b2bfa35df33b306fe2",
            "3aa631e27c8c458481500a8dec1c6f18",
            "e17e6d70ec3d4706970647bfe67d171c",
            "48c10f9780b145b19f3bfe61de0fb2ab"
          ]
        },
        "outputId": "5b6bcf82-8b25-4521-e26d-38f28e2ff892"
      },
      "source": [
        "# Load the IMBD data set into (train(80%), Validation(20%)) of 25000 examples and Testdataset(100%) of 25000 examples.\n",
        "train_data, validation_data, test_data = tfds.load(name=\"imdb_reviews\", \n",
        "                                                  split=('train[:80%]', 'train[80%:]', 'test'), # split the dataset into Train, Validation, and Test dataset\n",
        "                                                  as_supervised=True   # Returns tuple structure (input, label)\n",
        "                                                  )"
      ],
      "execution_count": 3,
      "outputs": [
        {
          "output_type": "stream",
          "name": "stdout",
          "text": [
            "\u001b[1mDownloading and preparing dataset imdb_reviews/plain_text/1.0.0 (download: 80.23 MiB, generated: Unknown size, total: 80.23 MiB) to /root/tensorflow_datasets/imdb_reviews/plain_text/1.0.0...\u001b[0m\n"
          ]
        },
        {
          "output_type": "display_data",
          "data": {
            "application/vnd.jupyter.widget-view+json": {
              "model_id": "54a20dd41de048688ea8651a4c24e4ad",
              "version_minor": 0,
              "version_major": 2
            },
            "text/plain": [
              "Dl Completed...: 0 url [00:00, ? url/s]"
            ]
          },
          "metadata": {}
        },
        {
          "output_type": "display_data",
          "data": {
            "application/vnd.jupyter.widget-view+json": {
              "model_id": "a146a4cbdb3f4b979ba27a2d4a483eca",
              "version_minor": 0,
              "version_major": 2
            },
            "text/plain": [
              "Dl Size...: 0 MiB [00:00, ? MiB/s]"
            ]
          },
          "metadata": {}
        },
        {
          "output_type": "stream",
          "name": "stdout",
          "text": [
            "\n",
            "\n"
          ]
        },
        {
          "output_type": "display_data",
          "data": {
            "application/vnd.jupyter.widget-view+json": {
              "model_id": "3ae85feed37d4be1a84adeeadbe48f50",
              "version_minor": 0,
              "version_major": 2
            },
            "text/plain": [
              "0 examples [00:00, ? examples/s]"
            ]
          },
          "metadata": {}
        },
        {
          "output_type": "stream",
          "name": "stdout",
          "text": [
            "Shuffling and writing examples to /root/tensorflow_datasets/imdb_reviews/plain_text/1.0.0.incomplete37FV6M/imdb_reviews-train.tfrecord\n"
          ]
        },
        {
          "output_type": "display_data",
          "data": {
            "application/vnd.jupyter.widget-view+json": {
              "model_id": "1746005cc400427ab103ae2325c269e7",
              "version_minor": 0,
              "version_major": 2
            },
            "text/plain": [
              "  0%|          | 0/25000 [00:00<?, ? examples/s]"
            ]
          },
          "metadata": {}
        },
        {
          "output_type": "display_data",
          "data": {
            "application/vnd.jupyter.widget-view+json": {
              "model_id": "7e27a7ec8c1e40008e861e526f7437f6",
              "version_minor": 0,
              "version_major": 2
            },
            "text/plain": [
              "0 examples [00:00, ? examples/s]"
            ]
          },
          "metadata": {}
        },
        {
          "output_type": "stream",
          "name": "stdout",
          "text": [
            "Shuffling and writing examples to /root/tensorflow_datasets/imdb_reviews/plain_text/1.0.0.incomplete37FV6M/imdb_reviews-test.tfrecord\n"
          ]
        },
        {
          "output_type": "display_data",
          "data": {
            "application/vnd.jupyter.widget-view+json": {
              "model_id": "0d7ff0591ede4af6879f3d08c66b1908",
              "version_minor": 0,
              "version_major": 2
            },
            "text/plain": [
              "  0%|          | 0/25000 [00:00<?, ? examples/s]"
            ]
          },
          "metadata": {}
        },
        {
          "output_type": "display_data",
          "data": {
            "application/vnd.jupyter.widget-view+json": {
              "model_id": "ef5e81d4a57d4fbfb4339b1cf03f821f",
              "version_minor": 0,
              "version_major": 2
            },
            "text/plain": [
              "0 examples [00:00, ? examples/s]"
            ]
          },
          "metadata": {}
        },
        {
          "output_type": "stream",
          "name": "stdout",
          "text": [
            "Shuffling and writing examples to /root/tensorflow_datasets/imdb_reviews/plain_text/1.0.0.incomplete37FV6M/imdb_reviews-unsupervised.tfrecord\n"
          ]
        },
        {
          "output_type": "display_data",
          "data": {
            "application/vnd.jupyter.widget-view+json": {
              "model_id": "194b6c3419004217a81151253f241e8c",
              "version_minor": 0,
              "version_major": 2
            },
            "text/plain": [
              "  0%|          | 0/50000 [00:00<?, ? examples/s]"
            ]
          },
          "metadata": {}
        },
        {
          "output_type": "stream",
          "name": "stderr",
          "text": [
            "WARNING:absl:Dataset is using deprecated text encoder API which will be removed soon. Please use the plain_text version of the dataset and migrate to `tensorflow_text`.\n"
          ]
        },
        {
          "output_type": "stream",
          "name": "stdout",
          "text": [
            "\u001b[1mDataset imdb_reviews downloaded and prepared to /root/tensorflow_datasets/imdb_reviews/plain_text/1.0.0. Subsequent calls will reuse this data.\u001b[0m\n"
          ]
        }
      ]
    },
    {
      "cell_type": "code",
      "metadata": {
        "colab": {
          "base_uri": "https://localhost:8080/"
        },
        "id": "Qc7aqFh_EYAz",
        "outputId": "08c59670-5d50-497d-cba3-a08add8ce851"
      },
      "source": [
        "#Unpack the train dataset\n",
        "train_examples_batch, train_labels_batch = next(iter(train_data.batch(20000)))\n",
        "\n",
        "#Unpack the validation dataset\n",
        "val_examples_batch, val_labels_batch = next(iter(validation_data.batch(5000)))\n",
        "\n",
        "#Unpack the test dataset\n",
        "X_test_examples, y_test_labels = next(iter(test_data.batch(25000)))\n",
        "\n",
        "# view some samples of dataset\n",
        "train_examples_batch[:5]"
      ],
      "execution_count": 4,
      "outputs": [
        {
          "output_type": "execute_result",
          "data": {
            "text/plain": [
              "<tf.Tensor: shape=(5,), dtype=string, numpy=\n",
              "array([b\"This was an absolutely terrible movie. Don't be lured in by Christopher Walken or Michael Ironside. Both are great actors, but this must simply be their worst role in history. Even their great acting could not redeem this movie's ridiculous storyline. This movie is an early nineties US propaganda piece. The most pathetic scenes were those when the Columbian rebels were making their cases for revolutions. Maria Conchita Alonso appeared phony, and her pseudo-love affair with Walken was nothing but a pathetic emotional plug in a movie that was devoid of any real meaning. I am disappointed that there are movies like this, ruining actor's like Christopher Walken's good name. I could barely sit through it.\",\n",
              "       b'I have been known to fall asleep during films, but this is usually due to a combination of things including, really tired, being warm and comfortable on the sette and having just eaten a lot. However on this occasion I fell asleep because the film was rubbish. The plot development was constant. Constantly slow and boring. Things seemed to happen, but with no explanation of what was causing them or why. I admit, I may have missed part of the film, but i watched the majority of it and everything just seemed to happen of its own accord without any real concern for anything else. I cant recommend this film at all.',\n",
              "       b'Mann photographs the Alberta Rocky Mountains in a superb fashion, and Jimmy Stewart and Walter Brennan give enjoyable performances as they always seem to do. <br /><br />But come on Hollywood - a Mountie telling the people of Dawson City, Yukon to elect themselves a marshal (yes a marshal!) and to enforce the law themselves, then gunfighters battling it out on the streets for control of the town? <br /><br />Nothing even remotely resembling that happened on the Canadian side of the border during the Klondike gold rush. Mr. Mann and company appear to have mistaken Dawson City for Deadwood, the Canadian North for the American Wild West.<br /><br />Canadian viewers be prepared for a Reefer Madness type of enjoyable howl with this ludicrous plot, or, to shake your head in disgust.',\n",
              "       b'This is the kind of film for a snowy Sunday afternoon when the rest of the world can go ahead with its own business as you descend into a big arm-chair and mellow for a couple of hours. Wonderful performances from Cher and Nicolas Cage (as always) gently row the plot along. There are no rapids to cross, no dangerous waters, just a warm and witty paddle through New York life at its best. A family film in every sense and one that deserves the praise it received.',\n",
              "       b'As others have mentioned, all the women that go nude in this film are mostly absolutely gorgeous. The plot very ably shows the hypocrisy of the female libido. When men are around they want to be pursued, but when no \"men\" are around, they become the pursuers of a 14 year old boy. And the boy becomes a man really fast (we should all be so lucky at this age!). He then gets up the courage to pursue his true love.'],\n",
              "      dtype=object)>"
            ]
          },
          "metadata": {},
          "execution_count": 4
        }
      ]
    },
    {
      "cell_type": "code",
      "metadata": {
        "colab": {
          "base_uri": "https://localhost:8080/"
        },
        "id": "qKmx31t-I84D",
        "outputId": "afa6b9f1-80d1-4df2-f9ba-65bb73441c99"
      },
      "source": [
        "next(iter(train_data.shuffle(5).batch(2)))"
      ],
      "execution_count": 5,
      "outputs": [
        {
          "output_type": "execute_result",
          "data": {
            "text/plain": [
              "(<tf.Tensor: shape=(2,), dtype=string, numpy=\n",
              " array([b'As others have mentioned, all the women that go nude in this film are mostly absolutely gorgeous. The plot very ably shows the hypocrisy of the female libido. When men are around they want to be pursued, but when no \"men\" are around, they become the pursuers of a 14 year old boy. And the boy becomes a man really fast (we should all be so lucky at this age!). He then gets up the courage to pursue his true love.',\n",
              "        b\"This was an absolutely terrible movie. Don't be lured in by Christopher Walken or Michael Ironside. Both are great actors, but this must simply be their worst role in history. Even their great acting could not redeem this movie's ridiculous storyline. This movie is an early nineties US propaganda piece. The most pathetic scenes were those when the Columbian rebels were making their cases for revolutions. Maria Conchita Alonso appeared phony, and her pseudo-love affair with Walken was nothing but a pathetic emotional plug in a movie that was devoid of any real meaning. I am disappointed that there are movies like this, ruining actor's like Christopher Walken's good name. I could barely sit through it.\"],\n",
              "       dtype=object)>,\n",
              " <tf.Tensor: shape=(2,), dtype=int64, numpy=array([1, 0])>)"
            ]
          },
          "metadata": {},
          "execution_count": 5
        }
      ]
    },
    {
      "cell_type": "code",
      "metadata": {
        "colab": {
          "base_uri": "https://localhost:8080/"
        },
        "id": "yK5k_OXBaBwW",
        "outputId": "4a924fe6-c632-468c-fbe1-8fb7d1e7b921"
      },
      "source": [
        "# view some label dataset\n",
        "train_labels_batch"
      ],
      "execution_count": 6,
      "outputs": [
        {
          "output_type": "execute_result",
          "data": {
            "text/plain": [
              "<tf.Tensor: shape=(20000,), dtype=int64, numpy=array([0, 0, 0, ..., 0, 0, 0])>"
            ]
          },
          "metadata": {},
          "execution_count": 6
        }
      ]
    },
    {
      "cell_type": "markdown",
      "metadata": {
        "id": "1_rnuzAjvLTY"
      },
      "source": [
        "### Word Embedding\n",
        "One way to represent the text is to convert sentences into embeddings vectors. Use a pre-trained text embedding as the first layer, which will have three advantages:\n",
        "\n",
        "* You don't have to worry about text preprocessing,\n",
        "* Benefit from transfer learning,\n",
        "* the embedding has a fixed size, so it's simpler to process.\n",
        "\n",
        "Here we use **nnlm-en-dim50** pretrained module for token based text embedding which is trained on English Google News 7B corpus."
      ]
    },
    {
      "cell_type": "code",
      "metadata": {
        "id": "dI3JAYBIaB0t"
      },
      "source": [
        "# Load the pretrained module to encode the text dataset\n",
        "embed = hub.load(\"https://tfhub.dev/google/nnlm-en-dim50/2\")\n",
        "\n",
        "# create Hub layer which converts text into embedding vector\n",
        "hub_layer = hub.KerasLayer(embed, input_shape=[], # Expects a tensor of shape [batch_size] as input.\n",
        "                           dtype=tf.string,       # Expects a tf.string input tensor.\n",
        "                           trainable=False        # Make Embedding as trainable\n",
        "                           )"
      ],
      "execution_count": 7,
      "outputs": []
    },
    {
      "cell_type": "code",
      "metadata": {
        "colab": {
          "base_uri": "https://localhost:8080/"
        },
        "id": "KHFp6-QrwZOM",
        "outputId": "fd8502b2-8ec1-4f5a-f2c2-b9136bf31420"
      },
      "source": [
        "# embedding of train dataset\n",
        "Xembd_layer = hub_layer(train_examples_batch)\n",
        "\n",
        "# embedding of validation dataset\n",
        "val_emb_dataset = hub_layer(val_examples_batch)\n",
        "\n",
        "# embedding test dataset\n",
        "test_emb_dataset = hub_layer(X_test_examples)\n",
        "\n",
        "#shape of train dataset\n",
        "print(Xembd_layer.shape)\n",
        "\n",
        "#shape of validation dataset\n",
        "print(val_emb_dataset.shape)"
      ],
      "execution_count": 8,
      "outputs": [
        {
          "output_type": "stream",
          "name": "stdout",
          "text": [
            "(20000, 50)\n",
            "(5000, 50)\n"
          ]
        }
      ]
    },
    {
      "cell_type": "code",
      "metadata": {
        "colab": {
          "base_uri": "https://localhost:8080/"
        },
        "id": "6n2NPFG4kZyo",
        "outputId": "8ac243f4-f906-4d01-89f1-1d59454f582c"
      },
      "source": [
        "# View some samples of Embedded training dataset\n",
        "Xembd_layer[:2]"
      ],
      "execution_count": 9,
      "outputs": [
        {
          "output_type": "execute_result",
          "data": {
            "text/plain": [
              "<tf.Tensor: shape=(2, 50), dtype=float32, numpy=\n",
              "array([[ 0.5423195 , -0.0119017 ,  0.06337538,  0.06862972, -0.16776837,\n",
              "        -0.10581174,  0.16865303, -0.04998824, -0.31148055,  0.07910346,\n",
              "         0.15442263,  0.01488662,  0.03930153,  0.19772711, -0.12215476,\n",
              "        -0.04120981, -0.2704109 , -0.21922152,  0.26517662, -0.80739075,\n",
              "         0.25833532, -0.3100421 ,  0.28683215,  0.1943387 , -0.29036492,\n",
              "         0.03862849, -0.7844411 , -0.0479324 ,  0.4110299 , -0.36388892,\n",
              "        -0.58034706,  0.30269456,  0.3630897 , -0.15227164, -0.44391504,\n",
              "         0.19462997,  0.19528408,  0.05666234,  0.2890704 , -0.28468323,\n",
              "        -0.00531206,  0.0571938 , -0.3201318 , -0.04418665, -0.08550783,\n",
              "        -0.55847436, -0.23336391, -0.20782952, -0.03543064, -0.17533456],\n",
              "       [ 0.56338924, -0.12339553, -0.10862679,  0.7753425 , -0.07667089,\n",
              "        -0.15752277,  0.01872335, -0.08169781, -0.3521876 ,  0.4637341 ,\n",
              "        -0.08492756,  0.07166859, -0.00670817,  0.12686075, -0.19326553,\n",
              "        -0.52626437, -0.3295823 ,  0.14394785,  0.09043556, -0.5417555 ,\n",
              "         0.02468163, -0.15456742,  0.68333143,  0.09068331, -0.45327246,\n",
              "         0.23180096, -0.8615696 ,  0.34480393,  0.12838456, -0.58759046,\n",
              "        -0.4071231 ,  0.23061076,  0.48426893, -0.27128142, -0.5380916 ,\n",
              "         0.47016326,  0.22572741, -0.00830663,  0.2846242 , -0.304985  ,\n",
              "         0.04400365,  0.25025874,  0.14867121,  0.40717036, -0.15422426,\n",
              "        -0.06878027, -0.40825695, -0.3149215 ,  0.09283665, -0.20183425]],\n",
              "      dtype=float32)>"
            ]
          },
          "metadata": {},
          "execution_count": 9
        }
      ]
    },
    {
      "cell_type": "markdown",
      "metadata": {
        "id": "feZU3fz-0eql"
      },
      "source": [
        "Here Each sentance is represented into 50 dimensional vectors."
      ]
    },
    {
      "cell_type": "markdown",
      "metadata": {
        "id": "POcDA3qVB6AL"
      },
      "source": [
        "### Reshape Train_Dataset\n",
        "As you might remember, Conv1D layer expects input shape in 3D as\n",
        "\n",
        "[batch_size, time_steps, input_dimension]\n",
        "\n",
        "However, current data is in the shape of\n",
        "\n",
        "[batch_size, features]"
      ]
    },
    {
      "cell_type": "code",
      "metadata": {
        "colab": {
          "base_uri": "https://localhost:8080/"
        },
        "id": "aRqIr6v2ByRs",
        "outputId": "8c2bd89e-9966-4595-fdbb-eb7e5031ee1e"
      },
      "source": [
        "SAMPLE_SIZE = Xembd_layer.shape[0] # number of samples in train set\n",
        "TIMESTEPS  = Xembd_layer.shape[1] # number of features in train set\n",
        "N_FEATURES = 1               # each feature is represented by 1 number\n",
        "\n",
        "#Reshape the dataset\n",
        "train_data_reshaped = tf.reshape(Xembd_layer, [SAMPLE_SIZE,TIMESTEPS,N_FEATURES])\n",
        "\n",
        "print(\"After reshape train data set shape: \", train_data_reshaped.shape)\n",
        "print(\"1 Sample shape: \",Xembd_layer[0].shape)\n",
        "print(\"An example sample:\\n\", Xembd_layer[0])"
      ],
      "execution_count": 10,
      "outputs": [
        {
          "output_type": "stream",
          "name": "stdout",
          "text": [
            "After reshape train data set shape:  (20000, 50, 1)\n",
            "1 Sample shape:  (50,)\n",
            "An example sample:\n",
            " tf.Tensor(\n",
            "[ 0.5423195  -0.0119017   0.06337538  0.06862972 -0.16776837 -0.10581174\n",
            "  0.16865303 -0.04998824 -0.31148055  0.07910346  0.15442263  0.01488662\n",
            "  0.03930153  0.19772711 -0.12215476 -0.04120981 -0.2704109  -0.21922152\n",
            "  0.26517662 -0.80739075  0.25833532 -0.3100421   0.28683215  0.1943387\n",
            " -0.29036492  0.03862849 -0.7844411  -0.0479324   0.4110299  -0.36388892\n",
            " -0.58034706  0.30269456  0.3630897  -0.15227164 -0.44391504  0.19462997\n",
            "  0.19528408  0.05666234  0.2890704  -0.28468323 -0.00531206  0.0571938\n",
            " -0.3201318  -0.04418665 -0.08550783 -0.55847436 -0.23336391 -0.20782952\n",
            " -0.03543064 -0.17533456], shape=(50,), dtype=float32)\n"
          ]
        }
      ]
    },
    {
      "cell_type": "markdown",
      "metadata": {
        "id": "rK-90SSbsMlb"
      },
      "source": [
        "### Reshape the validation dataset "
      ]
    },
    {
      "cell_type": "code",
      "metadata": {
        "colab": {
          "base_uri": "https://localhost:8080/"
        },
        "id": "p04NcLcXpzVh",
        "outputId": "37cf1025-be1f-44bc-8091-6430107585cf"
      },
      "source": [
        "# We need to reshape the validation dataset as well\n",
        "val_SAMPLE_SIZE = val_emb_dataset.shape[0] # number of samples in train set\n",
        "val_TIMESTEPS  = val_emb_dataset.shape[1]  # number of features in train set\n",
        "val_N_FEATURES = 1                     # each feature is represented by 1 number\n",
        "\n",
        "#Reshape the dataset\n",
        "val_data_reshaped = tf.reshape(val_emb_dataset, [val_SAMPLE_SIZE, val_TIMESTEPS, val_N_FEATURES])\n",
        "\n",
        "print(\"After reshape train data set shape: \", val_data_reshaped.shape)\n",
        "print(\"1 Sample shape: \",val_emb_dataset[0].shape)\n",
        "print(\"An example sample:\\n\", val_emb_dataset[0])"
      ],
      "execution_count": 11,
      "outputs": [
        {
          "output_type": "stream",
          "name": "stdout",
          "text": [
            "After reshape train data set shape:  (5000, 50, 1)\n",
            "1 Sample shape:  (50,)\n",
            "An example sample:\n",
            " tf.Tensor(\n",
            "[ 9.7111344e-01  8.3876096e-02 -2.3345542e-01  4.0072110e-01\n",
            "  5.3514248e-01 -3.3430302e-01  5.8403976e-02 -4.5053214e-02\n",
            " -2.8198385e-01  7.9080468e-01  1.9627273e-01  2.4578339e-01\n",
            "  1.3954996e-05  2.4302465e-01 -4.9030185e-01 -1.0163963e-01\n",
            " -2.9281303e-01  1.9660410e-01 -5.2004270e-02 -8.1745976e-01\n",
            " -6.7622498e-02 -2.1134062e-01  4.1776115e-01 -1.1303243e-01\n",
            " -2.8801519e-01  3.5838264e-01 -1.2306654e+00  2.4650088e-01\n",
            "  2.4441591e-01 -5.1148921e-01 -2.3490804e-01  3.8145795e-01\n",
            "  5.3663242e-01 -4.3924636e-01 -3.4829819e-01  3.6493841e-01\n",
            " -1.6470081e-01 -2.0877215e-01  1.1981481e-01 -6.7716628e-01\n",
            "  5.5227824e-03  3.5140291e-01 -4.3553081e-01  3.0726346e-01\n",
            " -2.0936011e-01  4.8649479e-02 -2.9413393e-01 -4.4267365e-01\n",
            "  2.0608190e-02 -6.8088852e-02], shape=(50,), dtype=float32)\n"
          ]
        }
      ]
    },
    {
      "cell_type": "markdown",
      "metadata": {
        "id": "4ijEyEl3ZiYu"
      },
      "source": [
        "### Reshape test_Dataset"
      ]
    },
    {
      "cell_type": "code",
      "metadata": {
        "colab": {
          "base_uri": "https://localhost:8080/"
        },
        "id": "eZLm6Ma2TvRp",
        "outputId": "81a57e32-c9f2-48f1-acab-dbb9054ee98e"
      },
      "source": [
        "SAMPLE_SIZE = test_emb_dataset.shape[0] # number of samples in train set\n",
        "TIMESTEPS  = test_emb_dataset.shape[1] # number of features in train set\n",
        "N_FEATURES = 1               # each feature is represented by 1 number\n",
        "\n",
        "#Reshape the dataset\n",
        "test_data_reshaped = tf.reshape(test_emb_dataset, [SAMPLE_SIZE,TIMESTEPS,N_FEATURES])\n",
        "\n",
        "print(\"After reshape train data set shape: \", test_data_reshaped.shape)\n",
        "print(\"1 Sample shape: \",test_emb_dataset[0].shape)\n",
        "print(\"An example sample:\\n\", test_emb_dataset[0])"
      ],
      "execution_count": 12,
      "outputs": [
        {
          "output_type": "stream",
          "name": "stdout",
          "text": [
            "After reshape train data set shape:  (25000, 50, 1)\n",
            "1 Sample shape:  (50,)\n",
            "An example sample:\n",
            " tf.Tensor(\n",
            "[ 0.6750989   0.20966221 -0.24682619  0.70157504  0.00509059 -0.04043961\n",
            " -0.13563964  0.15544751 -0.6535283   0.24198306 -0.14894551 -0.00701114\n",
            " -0.28954473  0.2347527  -0.07211338 -0.26374155 -0.2103376   0.19537686\n",
            "  0.20801611 -0.53941184  0.09185641 -0.23350327  0.4647283   0.02278872\n",
            " -0.4248397  -0.3470194  -0.5100059  -0.0632058   0.11524688 -0.36703324\n",
            " -0.4015741   0.22107722  0.0946885  -0.21738936 -0.31970024  0.4252959\n",
            "  0.44440353  0.04942252  0.23904411 -0.48945317 -0.06317567  0.07366529\n",
            " -0.2791622   0.02657618 -0.24505381 -0.11724484 -0.2243641  -0.04366887\n",
            "  0.10280503  0.18705933], shape=(50,), dtype=float32)\n"
          ]
        }
      ]
    },
    {
      "cell_type": "markdown",
      "metadata": {
        "id": "g_22JK01039H"
      },
      "source": [
        "## Model Building:\n",
        "Model Building by using Convolutional Autoencoder-Classifier\n",
        "\n",
        "* An autoencoder is composed of an encoder and a decoder sub-models. The encoder compresses the input and the decoder attempts to recreate the input from the compressed version provided by the encoder. After training, the encoder model is saved and the decoder is discarded.\n",
        "* There are mainly 3 ways to force the autoencoder to learn useful features:\n",
        "  1. **keeping the code size small** : Keeping the code layer small forced our autoencoder to learn an intelligent representation of the data.\n",
        "  2. **Denoising Autoencoders**: Adding random noise to its inputs and making it recover the original noise-free data. This way the autoencoder can’t simply copy the input to its output because the input also contains random noise. We are asking it to subtract the noise and produce the underlying meaningful data.\n",
        "  3. **Sparse Autoencoder**: A sparse autoencoder is simply an autoencoder whose training criterion involves a sparsity penalty. In most cases, we would construct our loss function by penalizing activations of hidden layers so that only a few nodes are encouraged to activate when a single sample is fed into the network\n",
        "\n",
        "For this example we use Sparse Autoencoder method to build a model.\n"
      ]
    },
    {
      "cell_type": "code",
      "metadata": {
        "id": "jQth67480ypF"
      },
      "source": [
        "# Sparse convolutional autoencoder\n",
        "\n",
        "inputs = Input(shape=(TIMESTEPS, N_FEATURES), name ='encoder_input')\n",
        "\n",
        "# Encoder Function \n",
        "def encoder ( inp ):\n",
        "\n",
        "  #1st layer of encoder of Conv1D should have same units should have number of input dimension\n",
        "  conv1 = Conv1D(filters = N_FEATURES, kernel_size =3, padding='same',activation='relu', name= 'encoder-conv1')(inp)\n",
        "  \n",
        "  #act = LeakyReLU(alpha=0.1)(conv1)\n",
        "  #norm = BatchNormalization()(act)\n",
        "  #conv2 = Conv1D(filters = N_FEATURES, kernel_size =3, padding='same', name= 'encoder-conv2')(norm)\n",
        "  #act2 = LeakyReLU(alpha=0.1)(conv1)\n",
        "  #norm = BatchNormalization()(act2)\n",
        "\n",
        "  # Add pooling layer\n",
        "  pool1 = MaxPool1D(pool_size=3, strides=1, padding='same', name='encoder-pool1')(conv1)\n",
        "\n",
        "  # Encoding layer\n",
        "  encoding = Dense(units=N_FEATURES, # Note: we can also change the nerons in this layer\n",
        "                   activation='linear',\n",
        "                   activity_regularizer = tf.keras.regularizers.L1( l1 = 0.01), # Add regulizer term to this layer to get sparsity \n",
        "                   name = 'encoder-dense')(pool1)\n",
        " \n",
        "\n",
        "  # now return the encoding values\n",
        "  return encoding\n"
      ],
      "execution_count": 38,
      "outputs": []
    },
    {
      "cell_type": "code",
      "metadata": {
        "colab": {
          "base_uri": "https://localhost:8080/"
        },
        "id": "pRRwPYPS44CE",
        "outputId": "470a95ff-0096-42ad-9969-0231b9d851bc"
      },
      "source": [
        "encode = Model(inputs = inputs, outputs=encoder(inputs))\n",
        "encode.summary()"
      ],
      "execution_count": 39,
      "outputs": [
        {
          "output_type": "stream",
          "name": "stdout",
          "text": [
            "Model: \"model_3\"\n",
            "_________________________________________________________________\n",
            "Layer (type)                 Output Shape              Param #   \n",
            "=================================================================\n",
            "encoder_input (InputLayer)   [(None, 50, 1)]           0         \n",
            "_________________________________________________________________\n",
            "encoder-conv1 (Conv1D)       (None, 50, 1)             4         \n",
            "_________________________________________________________________\n",
            "encoder-pool1 (MaxPooling1D) (None, 50, 1)             0         \n",
            "_________________________________________________________________\n",
            "encoder-dense (Dense)        (None, 50, 1)             2         \n",
            "=================================================================\n",
            "Total params: 6\n",
            "Trainable params: 6\n",
            "Non-trainable params: 0\n",
            "_________________________________________________________________\n"
          ]
        }
      ]
    },
    {
      "cell_type": "code",
      "metadata": {
        "id": "tiqe_wtfLG-5"
      },
      "source": [
        "# Decoder Function\n",
        "def decoder(encoding):\n",
        "  # add Transpose Convolution layer to convolve and upsample the Encoder output to reconstruct back the original inputs back.\n",
        "  convT1 = Conv1DTranspose(filters=N_FEATURES, kernel_size=3, activation='linear', padding='same')(encoding)\n",
        "\n",
        "  #applying BatchNormalization to prevent from exploding gradients                 \n",
        "  #decoding = BatchNormalization()(convT1)\n",
        "\n",
        "  #conv11 = Conv1D(filters = 2, kernel_size =3, padding='same',activation='relu', name= 'encoder-conv11')(decoding)\n",
        "\n",
        "  #pool11 = MaxPool1D(pool_size=2, strides=1, padding='same', name='encoder-pool11')(convT1)\n",
        "\n",
        "  decoding = BatchNormalization()(convT1)\n",
        "\n",
        "  # final layer of decoder\n",
        "  decoding = Dense(units=N_FEATURES, \n",
        "                   activation ='linear')(decoding)\n",
        "\n",
        "  return decoding"
      ],
      "execution_count": 41,
      "outputs": []
    },
    {
      "cell_type": "code",
      "metadata": {
        "colab": {
          "base_uri": "https://localhost:8080/"
        },
        "id": "2Z4fcCLw5K-V",
        "outputId": "572b87d7-9a4e-4ce7-b419-6c66fda1ba39"
      },
      "source": [
        "# Group layers of encoder and decoder into an object with training and inference features.\n",
        "autoencoder = Model(inputs=inputs, outputs = decoder(encoder(inputs)))\n",
        "\n",
        "#Get the summary of Autoencoder\n",
        "autoencoder.summary()"
      ],
      "execution_count": 42,
      "outputs": [
        {
          "output_type": "stream",
          "name": "stdout",
          "text": [
            "Model: \"model_4\"\n",
            "_________________________________________________________________\n",
            "Layer (type)                 Output Shape              Param #   \n",
            "=================================================================\n",
            "encoder_input (InputLayer)   [(None, 50, 1)]           0         \n",
            "_________________________________________________________________\n",
            "encoder-conv1 (Conv1D)       (None, 50, 1)             4         \n",
            "_________________________________________________________________\n",
            "encoder-pool1 (MaxPooling1D) (None, 50, 1)             0         \n",
            "_________________________________________________________________\n",
            "encoder-dense (Dense)        (None, 50, 1)             2         \n",
            "_________________________________________________________________\n",
            "conv1d_transpose_1 (Conv1DTr (None, 50, 1)             4         \n",
            "_________________________________________________________________\n",
            "batch_normalization_1 (Batch (None, 50, 1)             4         \n",
            "_________________________________________________________________\n",
            "dense_2 (Dense)              (None, 50, 1)             2         \n",
            "=================================================================\n",
            "Total params: 16\n",
            "Trainable params: 14\n",
            "Non-trainable params: 2\n",
            "_________________________________________________________________\n"
          ]
        }
      ]
    },
    {
      "cell_type": "code",
      "metadata": {
        "colab": {
          "base_uri": "https://localhost:8080/"
        },
        "id": "0kQJrZ0hzeoB",
        "outputId": "77a50d20-8e63-42ab-b5c2-7faf9982781b"
      },
      "source": [
        "# autoencoder model compilation \n",
        "autoencoder.compile(loss = 'mean_squared_error',  optimizer='adam', metrics=['mean_absolute_error'])\n",
        "\n",
        "# Train the model\n",
        "history = autoencoder.fit(x =train_data_reshaped, y=train_data_reshaped, epochs=20, batch_size=150, \n",
        "                          validation_data=(val_data_reshaped, val_data_reshaped), \n",
        "                          verbose=1).history"
      ],
      "execution_count": 44,
      "outputs": [
        {
          "output_type": "stream",
          "name": "stdout",
          "text": [
            "Epoch 1/20\n",
            "134/134 [==============================] - 3s 13ms/step - loss: 0.4458 - mean_absolute_error: 0.4564 - val_loss: 0.2684 - val_mean_absolute_error: 0.3593\n",
            "Epoch 2/20\n",
            "134/134 [==============================] - 2s 12ms/step - loss: 0.2860 - mean_absolute_error: 0.3665 - val_loss: 0.1949 - val_mean_absolute_error: 0.3180\n",
            "Epoch 3/20\n",
            "134/134 [==============================] - 2s 12ms/step - loss: 0.2046 - mean_absolute_error: 0.3220 - val_loss: 0.1784 - val_mean_absolute_error: 0.3148\n",
            "Epoch 4/20\n",
            "134/134 [==============================] - 2s 12ms/step - loss: 0.1579 - mean_absolute_error: 0.2977 - val_loss: 0.1765 - val_mean_absolute_error: 0.3170\n",
            "Epoch 5/20\n",
            "134/134 [==============================] - 2s 12ms/step - loss: 0.1542 - mean_absolute_error: 0.2963 - val_loss: 0.1625 - val_mean_absolute_error: 0.3077\n",
            "Epoch 6/20\n",
            "134/134 [==============================] - 2s 13ms/step - loss: 0.1528 - mean_absolute_error: 0.2961 - val_loss: 0.1551 - val_mean_absolute_error: 0.2951\n",
            "Epoch 7/20\n",
            "134/134 [==============================] - 2s 12ms/step - loss: 0.1517 - mean_absolute_error: 0.2960 - val_loss: 0.1521 - val_mean_absolute_error: 0.2938\n",
            "Epoch 8/20\n",
            "134/134 [==============================] - 2s 12ms/step - loss: 0.1507 - mean_absolute_error: 0.2960 - val_loss: 0.1510 - val_mean_absolute_error: 0.2937\n",
            "Epoch 9/20\n",
            "134/134 [==============================] - 2s 12ms/step - loss: 0.1498 - mean_absolute_error: 0.2960 - val_loss: 0.1519 - val_mean_absolute_error: 0.3036\n",
            "Epoch 10/20\n",
            "134/134 [==============================] - 2s 13ms/step - loss: 0.1490 - mean_absolute_error: 0.2960 - val_loss: 0.1487 - val_mean_absolute_error: 0.2969\n",
            "Epoch 11/20\n",
            "134/134 [==============================] - 2s 12ms/step - loss: 0.1482 - mean_absolute_error: 0.2960 - val_loss: 0.1479 - val_mean_absolute_error: 0.2950\n",
            "Epoch 12/20\n",
            "134/134 [==============================] - 2s 12ms/step - loss: 0.1475 - mean_absolute_error: 0.2959 - val_loss: 0.1479 - val_mean_absolute_error: 0.2930\n",
            "Epoch 13/20\n",
            "134/134 [==============================] - 2s 12ms/step - loss: 0.1468 - mean_absolute_error: 0.2958 - val_loss: 0.1480 - val_mean_absolute_error: 0.2920\n",
            "Epoch 14/20\n",
            "134/134 [==============================] - 2s 13ms/step - loss: 0.1461 - mean_absolute_error: 0.2956 - val_loss: 0.1509 - val_mean_absolute_error: 0.2913\n",
            "Epoch 15/20\n",
            "134/134 [==============================] - 2s 13ms/step - loss: 0.1455 - mean_absolute_error: 0.2954 - val_loss: 0.1873 - val_mean_absolute_error: 0.3137\n",
            "Epoch 16/20\n",
            "134/134 [==============================] - 2s 13ms/step - loss: 0.1449 - mean_absolute_error: 0.2952 - val_loss: 0.1479 - val_mean_absolute_error: 0.2911\n",
            "Epoch 17/20\n",
            "134/134 [==============================] - 2s 12ms/step - loss: 0.1444 - mean_absolute_error: 0.2949 - val_loss: 0.1457 - val_mean_absolute_error: 0.2909\n",
            "Epoch 18/20\n",
            "134/134 [==============================] - 2s 12ms/step - loss: 0.1439 - mean_absolute_error: 0.2946 - val_loss: 0.1442 - val_mean_absolute_error: 0.2918\n",
            "Epoch 19/20\n",
            "134/134 [==============================] - 2s 11ms/step - loss: 0.1434 - mean_absolute_error: 0.2943 - val_loss: 0.1583 - val_mean_absolute_error: 0.3231\n",
            "Epoch 20/20\n",
            "134/134 [==============================] - 2s 11ms/step - loss: 0.1430 - mean_absolute_error: 0.2940 - val_loss: 0.1555 - val_mean_absolute_error: 0.3189\n"
          ]
        }
      ]
    },
    {
      "cell_type": "code",
      "metadata": {
        "colab": {
          "base_uri": "https://localhost:8080/"
        },
        "id": "b3lm_j1uohY-",
        "outputId": "827415c4-6683-4132-9245-eb2dac4b2d9a"
      },
      "source": [
        "# lets see the output values of encoder model by taking 1 sample example from test_dataset\n",
        "encode.predict(test_data_reshaped[0])"
      ],
      "execution_count": 58,
      "outputs": [
        {
          "output_type": "execute_result",
          "data": {
            "text/plain": [
              "array([[[ 0.        ]],\n",
              "\n",
              "       [[ 0.        ]],\n",
              "\n",
              "       [[-0.12345985]],\n",
              "\n",
              "       [[ 0.        ]],\n",
              "\n",
              "       [[ 0.        ]],\n",
              "\n",
              "       [[-0.02022746]],\n",
              "\n",
              "       [[-0.06784551]],\n",
              "\n",
              "       [[ 0.        ]],\n",
              "\n",
              "       [[-0.32688794]],\n",
              "\n",
              "       [[ 0.        ]],\n",
              "\n",
              "       [[-0.07450097]],\n",
              "\n",
              "       [[-0.0035069 ]],\n",
              "\n",
              "       [[-0.14482722]],\n",
              "\n",
              "       [[ 0.        ]],\n",
              "\n",
              "       [[-0.03607035]],\n",
              "\n",
              "       [[-0.13192074]],\n",
              "\n",
              "       [[-0.10520864]],\n",
              "\n",
              "       [[ 0.        ]],\n",
              "\n",
              "       [[ 0.        ]],\n",
              "\n",
              "       [[-0.2698081 ]],\n",
              "\n",
              "       [[ 0.        ]],\n",
              "\n",
              "       [[-0.11679586]],\n",
              "\n",
              "       [[ 0.        ]],\n",
              "\n",
              "       [[ 0.        ]],\n",
              "\n",
              "       [[-0.21250032]],\n",
              "\n",
              "       [[-0.17357543]],\n",
              "\n",
              "       [[-0.25509953]],\n",
              "\n",
              "       [[-0.03161487]],\n",
              "\n",
              "       [[ 0.        ]],\n",
              "\n",
              "       [[-0.18358614]],\n",
              "\n",
              "       [[-0.20086312]],\n",
              "\n",
              "       [[ 0.        ]],\n",
              "\n",
              "       [[ 0.        ]],\n",
              "\n",
              "       [[-0.10873585]],\n",
              "\n",
              "       [[-0.15991068]],\n",
              "\n",
              "       [[ 0.        ]],\n",
              "\n",
              "       [[ 0.        ]],\n",
              "\n",
              "       [[ 0.        ]],\n",
              "\n",
              "       [[ 0.        ]],\n",
              "\n",
              "       [[-0.2448193 ]],\n",
              "\n",
              "       [[-0.0315998 ]],\n",
              "\n",
              "       [[ 0.        ]],\n",
              "\n",
              "       [[-0.13963398]],\n",
              "\n",
              "       [[ 0.        ]],\n",
              "\n",
              "       [[-0.12257332]],\n",
              "\n",
              "       [[-0.05864463]],\n",
              "\n",
              "       [[-0.11222455]],\n",
              "\n",
              "       [[-0.02184271]],\n",
              "\n",
              "       [[ 0.        ]],\n",
              "\n",
              "       [[ 0.        ]]], dtype=float32)"
            ]
          },
          "metadata": {},
          "execution_count": 58
        }
      ]
    },
    {
      "cell_type": "markdown",
      "metadata": {
        "id": "_5ZIm_TrpDk6"
      },
      "source": [
        "**Inference** : We can see that, The prediction of encoder is Sparse matrix. This is caused due to adding regularization method in last layer of encoder where it penalize the less important values for prdiction to zeros."
      ]
    },
    {
      "cell_type": "markdown",
      "metadata": {
        "id": "NoPZILSvO-51"
      },
      "source": [
        "### Convolutional Classifier Initialized with Encoder\n",
        "A classifier can be (potentially) enhanced with an autoencoder. Listing constructs a feed-forward convolutional classifier with an encoder\n",
        "attached to it."
      ]
    },
    {
      "cell_type": "code",
      "metadata": {
        "id": "ubHQ4rzeNtbx"
      },
      "source": [
        "#  CNN Classifier initialized with Encoder\n",
        "def fully_connected ( encoding ):\n",
        "  # convolution 1d layer\n",
        "  conv1 = Conv1D(filters =20, kernel_size=3, activation='relu' ,padding='valid', name = 'fc-con1')(encoding)\n",
        "\n",
        "  #conv2 = Conv1D(filters =20, kernel_size=3, padding='valid', activation='relu', name = 'fc-con2')(conv1)\n",
        "\n",
        "  # Pooling layer\n",
        "  pool1 = MaxPool1D(pool_size=2, padding='valid', name ='fc-pool1')(conv1)\n",
        "  \n",
        "  #flatten the output of pooling layer\n",
        "  flat1 = Flatten()(pool1)\n",
        "   \n",
        "  #Dense layer\n",
        "  den = Dense(units=20, activation='relu')(flat1)\n",
        "   \n",
        "  # output layer\n",
        "  output = Dense ( units =1, activation='sigmoid', name = 'output')(den)\n",
        "\n",
        "  return(output)\n",
        "\n",
        "encoding = encoder(inputs)\n",
        "\n",
        "# Combine encoder(trained encoder) and fullyconnected models to get final output\n",
        "Classifier = Model(inputs = inputs, outputs= fully_connected(encoding=encoder(inputs)))"
      ],
      "execution_count": 45,
      "outputs": []
    },
    {
      "cell_type": "markdown",
      "metadata": {
        "id": "F1NIHPDzVBvJ"
      },
      "source": [
        "The encoder can be used to have either a,\n",
        "  * Pre-trained classifier. A trained encoder can be used as a part\n",
        "of a feed-forward classifier network. Or,\n",
        "  * Encoded features as input. The features produced by an encoder used as     input to a classifier.\n",
        "\n",
        "Corresponding to the two approaches, an argument retrain_encoding\n",
        "is defined in Listing.\n",
        "The argument when set to False results in the classifier using the\n",
        "encoded features as input. This is achieved by making the layers in the encoder section of the model as non-trainable in line 13 in the listing.\n",
        "The argument, retrain_encoding, when set to True uses the encoding weights to initialize the model and retrain them while learning\n",
        "the classifier."
      ]
    },
    {
      "cell_type": "code",
      "metadata": {
        "colab": {
          "base_uri": "https://localhost:8080/"
        },
        "id": "28E-nOABXEpB",
        "outputId": "f0d3c166-30fb-4a3e-f6a6-9abdc26de0c1"
      },
      "source": [
        "# layers in Classifer model\n",
        "Classifier.layers"
      ],
      "execution_count": 46,
      "outputs": [
        {
          "output_type": "execute_result",
          "data": {
            "text/plain": [
              "[<keras.engine.input_layer.InputLayer at 0x7fecccf49dd0>,\n",
              " <keras.layers.convolutional.Conv1D at 0x7fecce14a350>,\n",
              " <keras.layers.pooling.MaxPooling1D at 0x7fecce14ced0>,\n",
              " <keras.layers.core.Dense at 0x7fecce16bb90>,\n",
              " <keras.layers.convolutional.Conv1D at 0x7fecce15f150>,\n",
              " <keras.layers.pooling.MaxPooling1D at 0x7feccdbffed0>,\n",
              " <keras.layers.core.Flatten at 0x7fecce16bd10>,\n",
              " <keras.layers.core.Dense at 0x7feccdc14750>,\n",
              " <keras.layers.core.Dense at 0x7feccdc14550>]"
            ]
          },
          "metadata": {},
          "execution_count": 46
        }
      ]
    },
    {
      "cell_type": "code",
      "metadata": {
        "colab": {
          "base_uri": "https://localhost:8080/"
        },
        "id": "wfkaAiJaWRUQ",
        "outputId": "3b81bf0a-28bf-4bc4-f997-2900fa81d2e2"
      },
      "source": [
        "# layers in Autoencoders\n",
        "autoencoder.layers"
      ],
      "execution_count": 47,
      "outputs": [
        {
          "output_type": "execute_result",
          "data": {
            "text/plain": [
              "[<keras.engine.input_layer.InputLayer at 0x7fecccf49dd0>,\n",
              " <keras.layers.convolutional.Conv1D at 0x7fecccf9f190>,\n",
              " <keras.layers.pooling.MaxPooling1D at 0x7fecd14d92d0>,\n",
              " <keras.layers.core.Dense at 0x7fecd02a7990>,\n",
              " <keras.layers.convolutional.Conv1DTranspose at 0x7fecd0408390>,\n",
              " <keras.layers.normalization.batch_normalization.BatchNormalization at 0x7feccf268b90>,\n",
              " <keras.layers.core.Dense at 0x7fecce5b89d0>]"
            ]
          },
          "metadata": {},
          "execution_count": 47
        }
      ]
    },
    {
      "cell_type": "code",
      "metadata": {
        "colab": {
          "base_uri": "https://localhost:8080/"
        },
        "id": "Fh-LzHhgcvhl",
        "outputId": "72cb3169-3093-487e-c51f-8e8a01ecab79"
      },
      "source": [
        "# Classifier layer initialized with encoder\n",
        "retrain_encoding = False\n",
        "\n",
        "# loop through every layers in classifier model\n",
        "for classifier_layer in Classifier.layers : \n",
        "\n",
        "  # loop through every layers in autoencoder model\n",
        "  for autoencoder_layer in autoencoder.layers:\n",
        "\n",
        "    # Get the name of common layers(i.e, Encoder layers) \n",
        "    if classifier_layer.name == autoencoder_layer.name:\n",
        "\n",
        "      # Set the weights of classifier same as the corresponding autoencoder(encoder) layer\n",
        "      classifier_layer.set_weights(autoencoder_layer.get_weights())\n",
        "\n",
        "      # Only train encoder model if user wants to train the encoder model\n",
        "      if retrain_encoding == False: \n",
        "        # don't train the encoder model layers\n",
        "        classifier_layer.trainable = False\n",
        "\n",
        "        print(classifier_layer.name + 'in classifier set to ' + autoencoder_layer.name + 'in the encoder is trainable:' + \n",
        "              str(classifier_layer.trainable))\n",
        "        \n",
        "Classifier.summary()"
      ],
      "execution_count": 48,
      "outputs": [
        {
          "output_type": "stream",
          "name": "stdout",
          "text": [
            "encoder_inputin classifier set to encoder_inputin the encoder is trainable:False\n",
            "encoder-conv1in classifier set to encoder-conv1in the encoder is trainable:False\n",
            "encoder-pool1in classifier set to encoder-pool1in the encoder is trainable:False\n",
            "encoder-densein classifier set to encoder-densein the encoder is trainable:False\n",
            "Model: \"model_5\"\n",
            "_________________________________________________________________\n",
            "Layer (type)                 Output Shape              Param #   \n",
            "=================================================================\n",
            "encoder_input (InputLayer)   [(None, 50, 1)]           0         \n",
            "_________________________________________________________________\n",
            "encoder-conv1 (Conv1D)       (None, 50, 1)             4         \n",
            "_________________________________________________________________\n",
            "encoder-pool1 (MaxPooling1D) (None, 50, 1)             0         \n",
            "_________________________________________________________________\n",
            "encoder-dense (Dense)        (None, 50, 1)             2         \n",
            "_________________________________________________________________\n",
            "fc-con1 (Conv1D)             (None, 48, 20)            80        \n",
            "_________________________________________________________________\n",
            "fc-pool1 (MaxPooling1D)      (None, 24, 20)            0         \n",
            "_________________________________________________________________\n",
            "flatten_1 (Flatten)          (None, 480)               0         \n",
            "_________________________________________________________________\n",
            "dense_3 (Dense)              (None, 20)                9620      \n",
            "_________________________________________________________________\n",
            "output (Dense)               (None, 1)                 21        \n",
            "=================================================================\n",
            "Total params: 9,727\n",
            "Trainable params: 9,721\n",
            "Non-trainable params: 6\n",
            "_________________________________________________________________\n"
          ]
        }
      ]
    },
    {
      "cell_type": "code",
      "metadata": {
        "id": "hjazMWhhcvbJ"
      },
      "source": [
        "# compile the Classifier model\n",
        "Classifier.compile (optimizer= 'adam', loss= 'binary_crossentropy' , metrics =['accuracy', tf.keras.metrics.Recall()])"
      ],
      "execution_count": 49,
      "outputs": []
    },
    {
      "cell_type": "code",
      "metadata": {
        "colab": {
          "base_uri": "https://localhost:8080/"
        },
        "id": "3n9j3ohUcu7-",
        "outputId": "fe666f9b-c4b1-488d-9633-27a785db3ae5"
      },
      "source": [
        "#Train the model\n",
        "history = Classifier.fit(x =train_data_reshaped, y=train_labels_batch.numpy(), epochs=60, \n",
        "                         validation_data=(val_data_reshaped, val_labels_batch.numpy()), verbose=1).history"
      ],
      "execution_count": 50,
      "outputs": [
        {
          "output_type": "stream",
          "name": "stdout",
          "text": [
            "Epoch 1/60\n",
            "625/625 [==============================] - 3s 4ms/step - loss: 0.6930 - accuracy: 0.5558 - recall_1: 0.5964 - val_loss: 0.6779 - val_accuracy: 0.6108 - val_recall_1: 0.3015\n",
            "Epoch 2/60\n",
            "625/625 [==============================] - 2s 3ms/step - loss: 0.6419 - accuracy: 0.6579 - recall_1: 0.6492 - val_loss: 0.6095 - val_accuracy: 0.6798 - val_recall_1: 0.7234\n",
            "Epoch 3/60\n",
            "625/625 [==============================] - 2s 3ms/step - loss: 0.6083 - accuracy: 0.6756 - recall_1: 0.6598 - val_loss: 0.5955 - val_accuracy: 0.6870 - val_recall_1: 0.7301\n",
            "Epoch 4/60\n",
            "625/625 [==============================] - 2s 3ms/step - loss: 0.5993 - accuracy: 0.6837 - recall_1: 0.6695 - val_loss: 0.5855 - val_accuracy: 0.6988 - val_recall_1: 0.6989\n",
            "Epoch 5/60\n",
            "625/625 [==============================] - 2s 3ms/step - loss: 0.5928 - accuracy: 0.6914 - recall_1: 0.6766 - val_loss: 0.5821 - val_accuracy: 0.7014 - val_recall_1: 0.6420\n",
            "Epoch 6/60\n",
            "625/625 [==============================] - 2s 3ms/step - loss: 0.5880 - accuracy: 0.6948 - recall_1: 0.6829 - val_loss: 0.5857 - val_accuracy: 0.6986 - val_recall_1: 0.5784\n",
            "Epoch 7/60\n",
            "625/625 [==============================] - 3s 5ms/step - loss: 0.5843 - accuracy: 0.6980 - recall_1: 0.6837 - val_loss: 0.5709 - val_accuracy: 0.7072 - val_recall_1: 0.6736\n",
            "Epoch 8/60\n",
            "625/625 [==============================] - 3s 5ms/step - loss: 0.5809 - accuracy: 0.7018 - recall_1: 0.6859 - val_loss: 0.5701 - val_accuracy: 0.7080 - val_recall_1: 0.6515\n",
            "Epoch 9/60\n",
            "625/625 [==============================] - 3s 5ms/step - loss: 0.5770 - accuracy: 0.7046 - recall_1: 0.6931 - val_loss: 0.5645 - val_accuracy: 0.7108 - val_recall_1: 0.6981\n",
            "Epoch 10/60\n",
            "625/625 [==============================] - 3s 5ms/step - loss: 0.5751 - accuracy: 0.7038 - recall_1: 0.6900 - val_loss: 0.5617 - val_accuracy: 0.7110 - val_recall_1: 0.7325\n",
            "Epoch 11/60\n",
            "625/625 [==============================] - 3s 5ms/step - loss: 0.5726 - accuracy: 0.7088 - recall_1: 0.6962 - val_loss: 0.5639 - val_accuracy: 0.7096 - val_recall_1: 0.6523\n",
            "Epoch 12/60\n",
            "625/625 [==============================] - 3s 5ms/step - loss: 0.5720 - accuracy: 0.7081 - recall_1: 0.6939 - val_loss: 0.5603 - val_accuracy: 0.7128 - val_recall_1: 0.7523\n",
            "Epoch 13/60\n",
            "625/625 [==============================] - 3s 5ms/step - loss: 0.5703 - accuracy: 0.7082 - recall_1: 0.6956 - val_loss: 0.5597 - val_accuracy: 0.7116 - val_recall_1: 0.7594\n",
            "Epoch 14/60\n",
            "625/625 [==============================] - 3s 5ms/step - loss: 0.5697 - accuracy: 0.7082 - recall_1: 0.6956 - val_loss: 0.5590 - val_accuracy: 0.7174 - val_recall_1: 0.6997\n",
            "Epoch 15/60\n",
            "625/625 [==============================] - 3s 5ms/step - loss: 0.5683 - accuracy: 0.7092 - recall_1: 0.6944 - val_loss: 0.5631 - val_accuracy: 0.7132 - val_recall_1: 0.6353\n",
            "Epoch 16/60\n",
            "625/625 [==============================] - 3s 5ms/step - loss: 0.5681 - accuracy: 0.7113 - recall_1: 0.6986 - val_loss: 0.5642 - val_accuracy: 0.7138 - val_recall_1: 0.6302\n",
            "Epoch 17/60\n",
            "625/625 [==============================] - 3s 5ms/step - loss: 0.5665 - accuracy: 0.7126 - recall_1: 0.6986 - val_loss: 0.5641 - val_accuracy: 0.7146 - val_recall_1: 0.8107\n",
            "Epoch 18/60\n",
            "625/625 [==============================] - 3s 5ms/step - loss: 0.5669 - accuracy: 0.7113 - recall_1: 0.6989 - val_loss: 0.5620 - val_accuracy: 0.7144 - val_recall_1: 0.6571\n",
            "Epoch 19/60\n",
            "625/625 [==============================] - 3s 5ms/step - loss: 0.5667 - accuracy: 0.7117 - recall_1: 0.6985 - val_loss: 0.5564 - val_accuracy: 0.7160 - val_recall_1: 0.7258\n",
            "Epoch 20/60\n",
            "625/625 [==============================] - 3s 5ms/step - loss: 0.5648 - accuracy: 0.7122 - recall_1: 0.6981 - val_loss: 0.5676 - val_accuracy: 0.7100 - val_recall_1: 0.5994\n",
            "Epoch 21/60\n",
            "625/625 [==============================] - 3s 5ms/step - loss: 0.5657 - accuracy: 0.7132 - recall_1: 0.7000 - val_loss: 0.5591 - val_accuracy: 0.7164 - val_recall_1: 0.6594\n",
            "Epoch 22/60\n",
            "625/625 [==============================] - 3s 5ms/step - loss: 0.5648 - accuracy: 0.7120 - recall_1: 0.6984 - val_loss: 0.5595 - val_accuracy: 0.7152 - val_recall_1: 0.6507\n",
            "Epoch 23/60\n",
            "625/625 [==============================] - 3s 5ms/step - loss: 0.5644 - accuracy: 0.7135 - recall_1: 0.7011 - val_loss: 0.5546 - val_accuracy: 0.7178 - val_recall_1: 0.7049\n",
            "Epoch 24/60\n",
            "625/625 [==============================] - 3s 5ms/step - loss: 0.5647 - accuracy: 0.7133 - recall_1: 0.6996 - val_loss: 0.5582 - val_accuracy: 0.7210 - val_recall_1: 0.7938\n",
            "Epoch 25/60\n",
            "625/625 [==============================] - 3s 5ms/step - loss: 0.5633 - accuracy: 0.7151 - recall_1: 0.7028 - val_loss: 0.5596 - val_accuracy: 0.7158 - val_recall_1: 0.6488\n",
            "Epoch 26/60\n",
            "625/625 [==============================] - 3s 5ms/step - loss: 0.5639 - accuracy: 0.7144 - recall_1: 0.7008 - val_loss: 0.5546 - val_accuracy: 0.7186 - val_recall_1: 0.6993\n",
            "Epoch 27/60\n",
            "625/625 [==============================] - 3s 5ms/step - loss: 0.5628 - accuracy: 0.7114 - recall_1: 0.7003 - val_loss: 0.5537 - val_accuracy: 0.7214 - val_recall_1: 0.7602\n",
            "Epoch 28/60\n",
            "625/625 [==============================] - 3s 5ms/step - loss: 0.5619 - accuracy: 0.7174 - recall_1: 0.7039 - val_loss: 0.5538 - val_accuracy: 0.7226 - val_recall_1: 0.7669\n",
            "Epoch 29/60\n",
            "625/625 [==============================] - 3s 5ms/step - loss: 0.5613 - accuracy: 0.7157 - recall_1: 0.7007 - val_loss: 0.5562 - val_accuracy: 0.7194 - val_recall_1: 0.7629\n",
            "Epoch 30/60\n",
            "625/625 [==============================] - 3s 5ms/step - loss: 0.5628 - accuracy: 0.7147 - recall_1: 0.7025 - val_loss: 0.5575 - val_accuracy: 0.7202 - val_recall_1: 0.7760\n",
            "Epoch 31/60\n",
            "625/625 [==============================] - 3s 5ms/step - loss: 0.5614 - accuracy: 0.7139 - recall_1: 0.6999 - val_loss: 0.5646 - val_accuracy: 0.7114 - val_recall_1: 0.8348\n",
            "Epoch 32/60\n",
            "625/625 [==============================] - 3s 5ms/step - loss: 0.5615 - accuracy: 0.7144 - recall_1: 0.7019 - val_loss: 0.5515 - val_accuracy: 0.7210 - val_recall_1: 0.7424\n",
            "Epoch 33/60\n",
            "625/625 [==============================] - 3s 5ms/step - loss: 0.5619 - accuracy: 0.7143 - recall_1: 0.7017 - val_loss: 0.5560 - val_accuracy: 0.7168 - val_recall_1: 0.6444\n",
            "Epoch 34/60\n",
            "625/625 [==============================] - 4s 6ms/step - loss: 0.5604 - accuracy: 0.7157 - recall_1: 0.7012 - val_loss: 0.5518 - val_accuracy: 0.7226 - val_recall_1: 0.7542\n",
            "Epoch 35/60\n",
            "625/625 [==============================] - 3s 5ms/step - loss: 0.5600 - accuracy: 0.7164 - recall_1: 0.7045 - val_loss: 0.5517 - val_accuracy: 0.7216 - val_recall_1: 0.6993\n",
            "Epoch 36/60\n",
            "625/625 [==============================] - 3s 5ms/step - loss: 0.5590 - accuracy: 0.7153 - recall_1: 0.7027 - val_loss: 0.5548 - val_accuracy: 0.7214 - val_recall_1: 0.7898\n",
            "Epoch 37/60\n",
            "625/625 [==============================] - 3s 5ms/step - loss: 0.5603 - accuracy: 0.7144 - recall_1: 0.7029 - val_loss: 0.5527 - val_accuracy: 0.7206 - val_recall_1: 0.7274\n",
            "Epoch 38/60\n",
            "625/625 [==============================] - 3s 5ms/step - loss: 0.5594 - accuracy: 0.7174 - recall_1: 0.7034 - val_loss: 0.5552 - val_accuracy: 0.7184 - val_recall_1: 0.6693\n",
            "Epoch 39/60\n",
            "625/625 [==============================] - 3s 6ms/step - loss: 0.5594 - accuracy: 0.7174 - recall_1: 0.7016 - val_loss: 0.5518 - val_accuracy: 0.7212 - val_recall_1: 0.7132\n",
            "Epoch 40/60\n",
            "625/625 [==============================] - 3s 5ms/step - loss: 0.5593 - accuracy: 0.7159 - recall_1: 0.7046 - val_loss: 0.5565 - val_accuracy: 0.7144 - val_recall_1: 0.6428\n",
            "Epoch 41/60\n",
            "625/625 [==============================] - 3s 6ms/step - loss: 0.5589 - accuracy: 0.7156 - recall_1: 0.7010 - val_loss: 0.5550 - val_accuracy: 0.7156 - val_recall_1: 0.6563\n",
            "Epoch 42/60\n",
            "625/625 [==============================] - 3s 5ms/step - loss: 0.5579 - accuracy: 0.7157 - recall_1: 0.7020 - val_loss: 0.5545 - val_accuracy: 0.7156 - val_recall_1: 0.6488\n",
            "Epoch 43/60\n",
            "625/625 [==============================] - 3s 6ms/step - loss: 0.5591 - accuracy: 0.7162 - recall_1: 0.7021 - val_loss: 0.5569 - val_accuracy: 0.7166 - val_recall_1: 0.8036\n",
            "Epoch 44/60\n",
            "625/625 [==============================] - 3s 5ms/step - loss: 0.5577 - accuracy: 0.7172 - recall_1: 0.7054 - val_loss: 0.5496 - val_accuracy: 0.7218 - val_recall_1: 0.7175\n",
            "Epoch 45/60\n",
            "625/625 [==============================] - 3s 5ms/step - loss: 0.5579 - accuracy: 0.7178 - recall_1: 0.7034 - val_loss: 0.5535 - val_accuracy: 0.7210 - val_recall_1: 0.7787\n",
            "Epoch 46/60\n",
            "625/625 [==============================] - 3s 5ms/step - loss: 0.5577 - accuracy: 0.7181 - recall_1: 0.7026 - val_loss: 0.5514 - val_accuracy: 0.7190 - val_recall_1: 0.6709\n",
            "Epoch 47/60\n",
            "625/625 [==============================] - 3s 5ms/step - loss: 0.5577 - accuracy: 0.7172 - recall_1: 0.7019 - val_loss: 0.5501 - val_accuracy: 0.7258 - val_recall_1: 0.7424\n",
            "Epoch 48/60\n",
            "625/625 [==============================] - 3s 5ms/step - loss: 0.5575 - accuracy: 0.7171 - recall_1: 0.7010 - val_loss: 0.5534 - val_accuracy: 0.7196 - val_recall_1: 0.6582\n",
            "Epoch 49/60\n",
            "625/625 [==============================] - 4s 6ms/step - loss: 0.5575 - accuracy: 0.7193 - recall_1: 0.7022 - val_loss: 0.5507 - val_accuracy: 0.7214 - val_recall_1: 0.7029\n",
            "Epoch 50/60\n",
            "625/625 [==============================] - 3s 5ms/step - loss: 0.5571 - accuracy: 0.7188 - recall_1: 0.7060 - val_loss: 0.5518 - val_accuracy: 0.7156 - val_recall_1: 0.6610\n",
            "Epoch 51/60\n",
            "625/625 [==============================] - 3s 6ms/step - loss: 0.5567 - accuracy: 0.7185 - recall_1: 0.7058 - val_loss: 0.5489 - val_accuracy: 0.7204 - val_recall_1: 0.7211\n",
            "Epoch 52/60\n",
            "625/625 [==============================] - 3s 6ms/step - loss: 0.5569 - accuracy: 0.7181 - recall_1: 0.7025 - val_loss: 0.5479 - val_accuracy: 0.7244 - val_recall_1: 0.7298\n",
            "Epoch 53/60\n",
            "625/625 [==============================] - 3s 5ms/step - loss: 0.5570 - accuracy: 0.7173 - recall_1: 0.7048 - val_loss: 0.5503 - val_accuracy: 0.7210 - val_recall_1: 0.7056\n",
            "Epoch 54/60\n",
            "625/625 [==============================] - 3s 5ms/step - loss: 0.5572 - accuracy: 0.7165 - recall_1: 0.7037 - val_loss: 0.5541 - val_accuracy: 0.7188 - val_recall_1: 0.6610\n",
            "Epoch 55/60\n",
            "625/625 [==============================] - 3s 5ms/step - loss: 0.5558 - accuracy: 0.7198 - recall_1: 0.7042 - val_loss: 0.5510 - val_accuracy: 0.7226 - val_recall_1: 0.7195\n",
            "Epoch 56/60\n",
            "625/625 [==============================] - 3s 5ms/step - loss: 0.5563 - accuracy: 0.7176 - recall_1: 0.7023 - val_loss: 0.5511 - val_accuracy: 0.7220 - val_recall_1: 0.7305\n",
            "Epoch 57/60\n",
            "625/625 [==============================] - 3s 5ms/step - loss: 0.5567 - accuracy: 0.7161 - recall_1: 0.7022 - val_loss: 0.5493 - val_accuracy: 0.7230 - val_recall_1: 0.6922\n",
            "Epoch 58/60\n",
            "625/625 [==============================] - 3s 6ms/step - loss: 0.5561 - accuracy: 0.7193 - recall_1: 0.7034 - val_loss: 0.5485 - val_accuracy: 0.7188 - val_recall_1: 0.7195\n",
            "Epoch 59/60\n",
            "625/625 [==============================] - 3s 5ms/step - loss: 0.5552 - accuracy: 0.7182 - recall_1: 0.7065 - val_loss: 0.5495 - val_accuracy: 0.7194 - val_recall_1: 0.6725\n",
            "Epoch 60/60\n",
            "625/625 [==============================] - 3s 5ms/step - loss: 0.5554 - accuracy: 0.7182 - recall_1: 0.7027 - val_loss: 0.5518 - val_accuracy: 0.7202 - val_recall_1: 0.6614\n"
          ]
        }
      ]
    },
    {
      "cell_type": "code",
      "metadata": {
        "colab": {
          "base_uri": "https://localhost:8080/"
        },
        "id": "uRfY0ExkPn0Y",
        "outputId": "1b788b5a-a56a-4c5b-8dfe-08a29a171721"
      },
      "source": [
        "history.keys()"
      ],
      "execution_count": 51,
      "outputs": [
        {
          "output_type": "execute_result",
          "data": {
            "text/plain": [
              "dict_keys(['loss', 'accuracy', 'recall_1', 'val_loss', 'val_accuracy', 'val_recall_1'])"
            ]
          },
          "metadata": {},
          "execution_count": 51
        }
      ]
    },
    {
      "cell_type": "code",
      "metadata": {
        "colab": {
          "base_uri": "https://localhost:8080/",
          "height": 295
        },
        "id": "qpnPDcCxM7gJ",
        "outputId": "fce60fe3-bc57-4872-ea72-19a821e38062"
      },
      "source": [
        "# summarize history for accuracy\n",
        "plt.plot(history['accuracy'])\n",
        "plt.plot(history['val_accuracy'])\n",
        "plt.title('model accuracy')\n",
        "plt.ylabel('accuracy')\n",
        "plt.xlabel('epoch')\n",
        "plt.legend(['train', 'test'], loc='upper left')\n",
        "plt.show()"
      ],
      "execution_count": 52,
      "outputs": [
        {
          "output_type": "display_data",
          "data": {
            "image/png": "[encoded data removed]",
            "text/plain": [
              "<Figure size 432x288 with 1 Axes>"
            ]
          },
          "metadata": {
            "needs_background": "light"
          }
        }
      ]
    },
    {
      "cell_type": "code",
      "metadata": {
        "colab": {
          "base_uri": "https://localhost:8080/",
          "height": 295
        },
        "id": "vS4YkhDIQZrd",
        "outputId": "07d0840d-9a43-4d07-e6c7-87330920faec"
      },
      "source": [
        "# summarize history for loss\n",
        "plt.plot(history['loss'])\n",
        "plt.plot(history['val_loss'])\n",
        "plt.title('model loss')\n",
        "plt.ylabel('loss')\n",
        "plt.xlabel('epoch')\n",
        "plt.legend(['train', 'test'], loc='upper left')\n",
        "plt.show()"
      ],
      "execution_count": 53,
      "outputs": [
        {
          "output_type": "display_data",
          "data": {
            "image/png": "[encoded data removed]",
            "text/plain": [
              "<Figure size 432x288 with 1 Axes>"
            ]
          },
          "metadata": {
            "needs_background": "light"
          }
        }
      ]
    },
    {
      "cell_type": "code",
      "metadata": {
        "colab": {
          "base_uri": "https://localhost:8080/"
        },
        "id": "5LMDFUqGQol5",
        "outputId": "4bb7037d-5d16-4e44-a6f3-a6dfa5ac0f3f"
      },
      "source": [
        "# prediction for unseen data\n",
        "pred_Y = Classifier.predict(test_data_reshaped, verbose = True)\n",
        "pred_Y = np.round(pred_Y)"
      ],
      "execution_count": 54,
      "outputs": [
        {
          "output_type": "stream",
          "name": "stdout",
          "text": [
            "782/782 [==============================] - 1s 2ms/step\n"
          ]
        }
      ]
    },
    {
      "cell_type": "code",
      "metadata": {
        "colab": {
          "base_uri": "https://localhost:8080/"
        },
        "id": "py_1o5Xji20Y",
        "outputId": "96edf64a-8ba2-4eab-f0c7-28602a693006"
      },
      "source": [
        "#get the accuracy_score for prediction # classifer\n",
        "print('Accuracy for test dataset:',accuracy_score(y_test_labels.numpy(), pred_Y))"
      ],
      "execution_count": 55,
      "outputs": [
        {
          "output_type": "stream",
          "name": "stdout",
          "text": [
            "Accuracy for test dataset: 0.71188\n"
          ]
        }
      ]
    },
    {
      "cell_type": "code",
      "metadata": {
        "colab": {
          "base_uri": "https://localhost:8080/"
        },
        "id": "A70lwxlIHvRT",
        "outputId": "f7cd38f5-4899-470d-fd33-6bbeab8a100b"
      },
      "source": [
        "# confusion matrix\n",
        "conf_matrix = confusion_matrix(y_test_labels.numpy(), pred_Y)\n",
        "print(conf_matrix)"
      ],
      "execution_count": 56,
      "outputs": [
        {
          "output_type": "stream",
          "name": "stdout",
          "text": [
            "[[9887 2613]\n",
            " [4590 7910]]\n"
          ]
        }
      ]
    },
    {
      "cell_type": "code",
      "metadata": {
        "id": "f5n7B4j5e8RM",
        "colab": {
          "base_uri": "https://localhost:8080/"
        },
        "outputId": "4ed56bcf-0b63-41cb-f75f-011cb56b65de"
      },
      "source": [
        "# classification report\n",
        "print(classification_report(y_test_labels.numpy(), pred_Y))"
      ],
      "execution_count": 57,
      "outputs": [
        {
          "output_type": "stream",
          "name": "stdout",
          "text": [
            "              precision    recall  f1-score   support\n",
            "\n",
            "           0       0.68      0.79      0.73     12500\n",
            "           1       0.75      0.63      0.69     12500\n",
            "\n",
            "    accuracy                           0.71     25000\n",
            "   macro avg       0.72      0.71      0.71     25000\n",
            "weighted avg       0.72      0.71      0.71     25000\n",
            "\n"
          ]
        }
      ]
    },
    {
      "cell_type": "markdown",
      "metadata": {
        "id": "QmoVy54lM8vz"
      },
      "source": [
        "### Logistic Regression\n",
        "Now lets try with simple logistic regression. "
      ]
    },
    {
      "cell_type": "code",
      "metadata": {
        "id": "j2robghPEhtS"
      },
      "source": [
        "# Instantiate the logistic regression\n",
        "logreg = LogisticRegression()"
      ],
      "execution_count": 32,
      "outputs": []
    },
    {
      "cell_type": "code",
      "metadata": {
        "id": "FW8Fk51rFloQ"
      },
      "source": [
        "# Train the logistic model by fitting the train data\n",
        "logreg = logreg.fit(Xembd_layer, train_labels_batch.numpy())"
      ],
      "execution_count": 33,
      "outputs": []
    },
    {
      "cell_type": "code",
      "metadata": {
        "id": "ES0meResFytV"
      },
      "source": [
        "# Now lets predict the validation dataset with trainded logistic model\n",
        "prd = logreg.predict(test_emb_dataset)"
      ],
      "execution_count": 34,
      "outputs": []
    },
    {
      "cell_type": "code",
      "metadata": {
        "colab": {
          "base_uri": "https://localhost:8080/"
        },
        "id": "FM56mv6KGNN2",
        "outputId": "4ccb760d-69de-48d4-9895-2e1c1ce74852"
      },
      "source": [
        "# Check for the accuracy score for model prediction\n",
        "print('Accuracy for test dataset:',accuracy_score(y_test_labels.numpy(), prd))"
      ],
      "execution_count": 35,
      "outputs": [
        {
          "output_type": "stream",
          "name": "stdout",
          "text": [
            "Accuracy for test dataset: 0.7406\n"
          ]
        }
      ]
    },
    {
      "cell_type": "code",
      "metadata": {
        "colab": {
          "base_uri": "https://localhost:8080/"
        },
        "id": "MmplemDpLbEi",
        "outputId": "bfcef871-6d94-4747-8336-e8e091216d1a"
      },
      "source": [
        "# confusion matrix\n",
        "confusion = confusion_matrix(y_test_labels.numpy(), prd)\n",
        "print(confusion)"
      ],
      "execution_count": 36,
      "outputs": [
        {
          "output_type": "stream",
          "name": "stdout",
          "text": [
            "[[9476 3024]\n",
            " [3461 9039]]\n"
          ]
        }
      ]
    },
    {
      "cell_type": "code",
      "metadata": {
        "colab": {
          "base_uri": "https://localhost:8080/"
        },
        "id": "aTMCrckwOmsc",
        "outputId": "79850204-5fab-43c4-bf45-946b469418da"
      },
      "source": [
        "# classification\n",
        "print(classification_report(y_test_labels.numpy(), prd))"
      ],
      "execution_count": 37,
      "outputs": [
        {
          "output_type": "stream",
          "name": "stdout",
          "text": [
            "              precision    recall  f1-score   support\n",
            "\n",
            "           0       0.73      0.76      0.75     12500\n",
            "           1       0.75      0.72      0.74     12500\n",
            "\n",
            "    accuracy                           0.74     25000\n",
            "   macro avg       0.74      0.74      0.74     25000\n",
            "weighted avg       0.74      0.74      0.74     25000\n",
            "\n"
          ]
        }
      ]
    },
    {
      "cell_type": "markdown",
      "metadata": {
        "id": "3LESdP8Va0Tc"
      },
      "source": [
        "## Conclusion\n",
        "* Here we created **Sentiment Analysis** models(Sparse_CNN_Autoencoder and Logistic_regression) by training it with IMBD dataset. Where a trained model can predict 1(Positive) or 0(Negative) for given user review.\n",
        "\n",
        "* By comparing the results of Sparse Autoencoder of CNN model and Logistic regression model, Logistic regression performed well but it doesn't mean best model because CNN(Sparse Autoencoder) model only extracting important by learning redundant features in the dataset by preventing model from overfitting.\n",
        "\n",
        "* We can improve CNN model by modifying the CNN architecture, where it can learn latent features which are more affected the target variable.\n",
        "\n"
      ]
    }
  ]
}