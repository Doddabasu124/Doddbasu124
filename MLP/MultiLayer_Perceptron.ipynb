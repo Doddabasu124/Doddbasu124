{
  "nbformat": 4,
  "nbformat_minor": 0,
  "metadata": {
    "colab": {
      "name": "MultiLayer_Perceptron.ipynb",
      "provenance": []
    },
    "kernelspec": {
      "name": "python3",
      "display_name": "Python 3"
    },
    "language_info": {
      "name": "python"
    }
  },
  "cells": [
    {
      "cell_type": "code",
      "metadata": {
        "id": "FUD4gxhJ76jL"
      },
      "source": [
        "#Import dependency libraries\n",
        "import dependency libraries\n",
        "from random import seed\n",
        "from random import randrange, random\n",
        "from random import \n",
        "from math import exp\n",
        "from sklearn.metrics import confusion_matrix\n",
        "import numpy as np\n",
        "from sklearn.datasets import load_iris"
      ],
      "execution_count": 1,
      "outputs": []
    },
    {
      "cell_type": "code",
      "metadata": {
        "colab": {
          "base_uri": "https://localhost:8080/"
        },
        "id": "utA4R-KcOU6l",
        "outputId": "32403c04-44df-4619-a0c3-56660b419e82"
      },
      "source": [
        "#Load the Dataset\n",
        "iris = load_iris()\n",
        "type(iris)"
      ],
      "execution_count": 2,
      "outputs": [
        {
          "output_type": "execute_result",
          "data": {
            "text/plain": [
              "sklearn.utils.Bunch"
            ]
          },
          "metadata": {
            "tags": []
          },
          "execution_count": 2
        }
      ]
    },
    {
      "cell_type": "code",
      "metadata": {
        "colab": {
          "base_uri": "https://localhost:8080/"
        },
        "id": "UONtVe-z6qaA",
        "outputId": "96be8934-8738-47f4-f938-a1cb9f53fd9a"
      },
      "source": [
        "# Names of features/columns in iris dataset\n",
        "print(iris.feature_names)"
      ],
      "execution_count": 3,
      "outputs": [
        {
          "output_type": "stream",
          "text": [
            "['sepal length (cm)', 'sepal width (cm)', 'petal length (cm)', 'petal width (cm)']\n"
          ],
          "name": "stdout"
        }
      ]
    },
    {
      "cell_type": "code",
      "metadata": {
        "colab": {
          "base_uri": "https://localhost:8080/"
        },
        "id": "7R8tyVlv6uM8",
        "outputId": "bd922c5c-97e4-471b-f8f6-7e51fdd66661"
      },
      "source": [
        "#shape of dataset\n",
        "iris.data.shape"
      ],
      "execution_count": 4,
      "outputs": [
        {
          "output_type": "execute_result",
          "data": {
            "text/plain": [
              "(150, 4)"
            ]
          },
          "metadata": {
            "tags": []
          },
          "execution_count": 4
        }
      ]
    },
    {
      "cell_type": "code",
      "metadata": {
        "id": "vG60gU6OONSN"
      },
      "source": [
        "#Function to formatting dataset\n",
        "def data_set(data,target):\n",
        "  data = data.tolist()\n",
        "  for i in range(len(data)):\n",
        "    data[i].extend([target[i]])\n",
        "  return data"
      ],
      "execution_count": 5,
      "outputs": []
    },
    {
      "cell_type": "code",
      "metadata": {
        "id": "kYRIBXloOaYG"
      },
      "source": [
        "data = iris.data\n",
        "target = iris.target"
      ],
      "execution_count": 6,
      "outputs": []
    },
    {
      "cell_type": "code",
      "metadata": {
        "colab": {
          "base_uri": "https://localhost:8080/"
        },
        "id": "kIEDbaQxOddn",
        "outputId": "8fed3a84-2bf8-476d-c89a-8fa8f72bcbc2"
      },
      "source": [
        "#formatting dataset\n",
        "iris_dataset = data_set(data,target)\n",
        "len(iris_dataset)"
      ],
      "execution_count": 7,
      "outputs": [
        {
          "output_type": "execute_result",
          "data": {
            "text/plain": [
              "150"
            ]
          },
          "metadata": {
            "tags": []
          },
          "execution_count": 7
        }
      ]
    },
    {
      "cell_type": "code",
      "metadata": {
        "id": "tTJjm5h08Gtw"
      },
      "source": [
        "# Split a dataset into k folds\n",
        "def cross_validation_split(dataset, n_folds):\n",
        "        dataset_split = list()\n",
        "        dataset_copy = list(dataset)\n",
        "        fold_size = int(len(dataset) / n_folds)\n",
        "        for i in range(n_folds):\n",
        "                fold = list()\n",
        "                while len(fold) < fold_size:\n",
        "                        index = randrange(len(dataset_copy))\n",
        "                        fold.append(dataset_copy.pop(index))\n",
        "                dataset_split.append(fold)\n",
        "        return dataset_split"
      ],
      "execution_count": 8,
      "outputs": []
    },
    {
      "cell_type": "code",
      "metadata": {
        "id": "zi07O6e0QCn6"
      },
      "source": [
        "# Evaluate an algorithm using a cross validation split\n",
        "def run_algorithm(dataset, algorithm, n_folds, *args):\n",
        "        \n",
        "        folds = cross_validation_split(dataset, n_folds)\n",
        "        #for fold in folds:\n",
        "                #print(\"Fold {} \\n \\n\".format(fold))\n",
        "        scores = list()\n",
        "        Nfold = 1\n",
        "        for fold in folds:\n",
        "                #print(\"Test Fold {} \\n \\n\".format(fold))\n",
        "                train_set = list(folds)\n",
        "                train_set.remove(fold)\n",
        "                train_set = sum(train_set, [])\n",
        "                test_set = list()\n",
        "                for row in fold:\n",
        "                        row_copy = list(row)\n",
        "                        test_set.append(row_copy)\n",
        "                        row_copy[-1] = None\n",
        "                predicted = algorithm(train_set, test_set, *args)\n",
        "\n",
        "                #Get the actual target values from test dataset\n",
        "                actual = [row[-1] for row in fold]\n",
        "                #Evaluation for test dataset\n",
        "                accuracy = accuracy_met(actual, predicted)\n",
        "                cm = confusion_matrix(actual, predicted)\n",
        "                print('For Fold {} results:'.format(Nfold))\n",
        "                print('Confusion Matrix:')\n",
        "                print('\\n'.join([''.join(['{:4}'.format(item) for item in row]) for row in cm]))\n",
        "                confusionmatrix = np.matrix(cm)\n",
        "                FP = cm.sum(axis=0) - np.diag(cm)\n",
        "                FN = cm.sum(axis=1) - np.diag(cm)\n",
        "                TP = np.diag(cm)\n",
        "                TN = cm.sum() - (FP + FN + TP)\n",
        "                #print('False Positives\\n {}'.format(FP))\n",
        "                #print('False Negetives\\n {}'.format(FN))\n",
        "                #print('True Positives\\n {}'.format(TP))\n",
        "                #print('True Negetives\\n {}'.format(TN))\n",
        "                TPR = TP/(TP+FN)\n",
        "                print('Sensitivity \\n {}'.format(TPR))\n",
        "                TNR = TN/(TN+FP)\n",
        "                print('Specificity \\n {}'.format(TNR))\n",
        "                Precision = TP/(TP+FP)\n",
        "                print('Precision \\n {}'.format(Precision))\n",
        "                Recall = TP/(TP+FN)\n",
        "                print('Recall \\n {}'.format(Recall))\n",
        "                Acc = (TP+TN)/(TP+TN+FP+FN)\n",
        "                #print('Áccuracy \\n{}'.format(Acc))\n",
        "                Fscore = 2*(Precision*Recall)/(Precision+Recall)\n",
        "                print('FScore \\n{}'.format(Fscore))\n",
        "                scores.append(accuracy)\n",
        "                Nfold+=1\n",
        "                print('\\n\\n')\n",
        "        return 'Different Folds Accuracy score:', scores"
      ],
      "execution_count": 9,
      "outputs": []
    },
    {
      "cell_type": "code",
      "metadata": {
        "id": "iGfLzSqxXsvq"
      },
      "source": [
        "# Backpropagation Algorithm With Stochastic Gradient Descent\n",
        "def back_propagation(train, test, l_rate, n_epoch, n_hidden):\n",
        "        n_inputs = len(train[0]) - 1\n",
        "        n_outputs = len(set([row[-1] for row in train]))\n",
        "        network = initialize_network(n_inputs, n_hidden, n_outputs)\n",
        "        train_network(network, train, l_rate, n_epoch, n_outputs)\n",
        "        #print(\"network {}\\n\".format(network))\n",
        "        predictions = list()\n",
        "        for row in test:\n",
        "                prediction = predict(network, row)\n",
        "                predictions.append(prediction)\n",
        "        return(predictions)"
      ],
      "execution_count": 10,
      "outputs": []
    },
    {
      "cell_type": "code",
      "metadata": {
        "id": "umEnDw5HZr3t"
      },
      "source": [
        "# Initialize a network\n",
        "def initialize_network(n_inputs, n_hidden, n_outputs):\n",
        "        network = list()\n",
        "        hidden_layer = [{'weights':[random() for i in range(n_inputs + 1)], 'prev':[0 for i in range(n_inputs+1)]} for i in range(n_hidden)]        \n",
        "        network.append(hidden_layer)\n",
        "        output_layer = [{'weights':[random() for i in range(n_hidden + 1)],'prev':[0 for i in range(n_hidden+1)]} for i in range(n_outputs)]\n",
        "        network.append(output_layer)\n",
        "        #print(network)\n",
        "        return network"
      ],
      "execution_count": 11,
      "outputs": []
    },
    {
      "cell_type": "code",
      "metadata": {
        "id": "mjfCz8XxYxuz"
      },
      "source": [
        "# Train a network for a fixed number of epochs\n",
        "def train_network(network, train, l_rate, n_epoch, n_outputs):\n",
        "        for epoch in range(n_epoch):\n",
        "                for row in train:\n",
        "                        outputs = forward_propagate(network, row)\n",
        "                        #print(network)\n",
        "                        expected = [0 for i in range(n_outputs)]\n",
        "                        expected[row[-1]] = 1\n",
        "                        #print(\"expected row{}\\n\".format(expected))\n",
        "                        backward_propagate_error(network, expected)\n",
        "                        update_weights(network, row, l_rate)"
      ],
      "execution_count": 12,
      "outputs": []
    },
    {
      "cell_type": "code",
      "metadata": {
        "id": "pDhBtl2MajsA"
      },
      "source": [
        "# Forward propagate input to a network output\n",
        "def forward_propagate(network, row):\n",
        "        inputs = row\n",
        "        for layer in network:\n",
        "                new_inputs = []\n",
        "                for neuron in layer:\n",
        "                        activation = activate(neuron['weights'], inputs)\n",
        "                        neuron['output'] = transfer(activation)\n",
        "                        new_inputs.append(neuron['output'])                       \n",
        "                inputs = new_inputs\n",
        "        return inputs"
      ],
      "execution_count": 13,
      "outputs": []
    },
    {
      "cell_type": "code",
      "metadata": {
        "id": "Squi7dGvboCG"
      },
      "source": [
        "# Calculate neuron activation for an input\n",
        "def activate(weights, inputs):\n",
        "        activation = weights[-1]\n",
        "        for i in range(len(weights)-1):\n",
        "                activation += weights[i] * inputs[i]\n",
        "        return activation"
      ],
      "execution_count": 14,
      "outputs": []
    },
    {
      "cell_type": "code",
      "metadata": {
        "id": "gzKQ5jOkbxTQ"
      },
      "source": [
        "# Transfer neuron activation\n",
        "def transfer(activation):\n",
        "        return 1.0 / (1.0 + exp(-activation))"
      ],
      "execution_count": 15,
      "outputs": []
    },
    {
      "cell_type": "code",
      "metadata": {
        "id": "1Oqh044harjh"
      },
      "source": [
        "# Calculate the derivative of an neuron output\n",
        "def transfer_derivative(output):\n",
        "        return output * (1.0 - output)"
      ],
      "execution_count": 16,
      "outputs": []
    },
    {
      "cell_type": "code",
      "metadata": {
        "id": "ZoCC4eCVZ4EC"
      },
      "source": [
        "# Make a prediction with a network\n",
        "def predict(network, row):\n",
        "        outputs = forward_propagate(network, row)\n",
        "        return outputs.index(max(outputs))"
      ],
      "execution_count": 17,
      "outputs": []
    },
    {
      "cell_type": "code",
      "metadata": {
        "id": "o2uXEHLIZKXM"
      },
      "source": [
        "# Backpropagate error and store in neurons\n",
        "def backward_propagate_error(network, expected):\n",
        "        total_error = list()\n",
        "        for i in reversed(range(len(network))):\n",
        "                layer = network[i]\n",
        "                errors = list()\n",
        "                total_error = list()\n",
        "                if i != len(network)-1:\n",
        "                        for j in range(len(layer)):\n",
        "                                error = 0.0\n",
        "                                for neuron in network[i + 1]:\n",
        "                                        error += (neuron['weights'][j] * neuron['delta'])\n",
        "                                errors.append(error)\n",
        "                else:\n",
        "                        for j in range(len(layer)):\n",
        "                                neuron = layer[j]\n",
        "                                errors.append(expected[j] - neuron['output'])\n",
        "                for j in range(len(layer)):\n",
        "                        neuron = layer[j]\n",
        "                        neuron['delta'] = errors[j] * transfer_derivative(neuron['output'])"
      ],
      "execution_count": 18,
      "outputs": []
    },
    {
      "cell_type": "code",
      "metadata": {
        "id": "QSEWSI5EY-Km"
      },
      "source": [
        "# Update network weights with error\n",
        "def update_weights(network, row, l_rate):\n",
        "        for i in range(len(network)):\n",
        "                inputs = row[:-1]                \n",
        "                if i != 0:\n",
        "                        inputs = [neuron['output'] for neuron in network[i - 1]]\n",
        "                for neuron in network[i]:\n",
        "                        for j in range(len(inputs)):\n",
        "                                temp = l_rate * neuron['delta'] * inputs[j] + mu * neuron['prev'][j]\n",
        "                                \n",
        "                                neuron['weights'][j] += temp\n",
        "                                #print(\"neuron weight{} \\n\".format(neuron['weights'][j]))\n",
        "                                neuron['prev'][j] = temp\n",
        "                        temp = l_rate * neuron['delta'] + mu * neuron['prev'][-1]\n",
        "                        neuron['weights'][-1] += temp\n",
        "                        neuron['prev'][-1] = temp"
      ],
      "execution_count": 19,
      "outputs": []
    },
    {
      "cell_type": "code",
      "metadata": {
        "id": "oI_Ups_mZNnT"
      },
      "source": [
        "# Calculate accuracy percentage\n",
        "def accuracy_met(actual, predicted):\n",
        "        correct = 0\n",
        "        for i in range(len(actual)):\n",
        "                if actual[i] == predicted[i]:\n",
        "                        correct += 1\n",
        "        return correct / float(len(actual)) * 100.0"
      ],
      "execution_count": 20,
      "outputs": []
    },
    {
      "cell_type": "code",
      "metadata": {
        "id": "CqJsZUBvaDZe"
      },
      "source": [
        "# Test Backprop on Seeds dataset\n",
        "seed(1)\n",
        "\n",
        "# evaluate algorithm\n",
        "n_folds = 5\n",
        "l_rate = 0.1\n",
        "mu=0.001\n",
        "n_epoch = 500\n",
        "n_hidden = 5"
      ],
      "execution_count": 21,
      "outputs": []
    },
    {
      "cell_type": "code",
      "metadata": {
        "colab": {
          "base_uri": "https://localhost:8080/"
        },
        "id": "NDhGhZribHhq",
        "outputId": "78dfe634-c893-4217-dfaa-fdfa6c412b93"
      },
      "source": [
        "scores = run_algorithm(iris_dataset, back_propagation, n_folds, l_rate, n_epoch, n_hidden)"
      ],
      "execution_count": 22,
      "outputs": [
        {
          "output_type": "stream",
          "text": [
            "For Fold 1 results:\n",
            "Confusion Matrix:\n",
            "  11   0   0\n",
            "   0   7   1\n",
            "   0   0  11\n",
            "Sensitivity \n",
            " [1.    0.875 1.   ]\n",
            "Specificity \n",
            " [1.         1.         0.94736842]\n",
            "Precision \n",
            " [1.         1.         0.91666667]\n",
            "Recall \n",
            " [1.    0.875 1.   ]\n",
            "FScore \n",
            "[1.         0.93333333 0.95652174]\n",
            "\n",
            "\n",
            "\n",
            "For Fold 2 results:\n",
            "Confusion Matrix:\n",
            "  10   0   0\n",
            "   0   9   2\n",
            "   0   0   9\n",
            "Sensitivity \n",
            " [1.         0.81818182 1.        ]\n",
            "Specificity \n",
            " [1.        1.        0.9047619]\n",
            "Precision \n",
            " [1.         1.         0.81818182]\n",
            "Recall \n",
            " [1.         0.81818182 1.        ]\n",
            "FScore \n",
            "[1.  0.9 0.9]\n",
            "\n",
            "\n",
            "\n",
            "For Fold 3 results:\n",
            "Confusion Matrix:\n",
            "   6   0   0\n",
            "   0  10   0\n",
            "   0   0  14\n",
            "Sensitivity \n",
            " [1. 1. 1.]\n",
            "Specificity \n",
            " [1. 1. 1.]\n",
            "Precision \n",
            " [1. 1. 1.]\n",
            "Recall \n",
            " [1. 1. 1.]\n",
            "FScore \n",
            "[1. 1. 1.]\n",
            "\n",
            "\n",
            "\n",
            "For Fold 4 results:\n",
            "Confusion Matrix:\n",
            "  10   0   0\n",
            "   0   9   1\n",
            "   0   0  10\n",
            "Sensitivity \n",
            " [1.  0.9 1. ]\n",
            "Specificity \n",
            " [1.   1.   0.95]\n",
            "Precision \n",
            " [1.         1.         0.90909091]\n",
            "Recall \n",
            " [1.  0.9 1. ]\n",
            "FScore \n",
            "[1.         0.94736842 0.95238095]\n",
            "\n",
            "\n",
            "\n",
            "For Fold 5 results:\n",
            "Confusion Matrix:\n",
            "  13   0   0\n",
            "   0   7   4\n",
            "   0   0   6\n",
            "Sensitivity \n",
            " [1.         0.63636364 1.        ]\n",
            "Specificity \n",
            " [1.         1.         0.83333333]\n",
            "Precision \n",
            " [1.  1.  0.6]\n",
            "Recall \n",
            " [1.         0.63636364 1.        ]\n",
            "FScore \n",
            "[1.         0.77777778 0.75      ]\n",
            "\n",
            "\n",
            "\n"
          ],
          "name": "stdout"
        }
      ]
    },
    {
      "cell_type": "code",
      "metadata": {
        "id": "PeAoAxPaeO8i",
        "colab": {
          "base_uri": "https://localhost:8080/"
        },
        "outputId": "f136879b-3b9e-4a11-889c-74b2247bbc14"
      },
      "source": [
        "scores"
      ],
      "execution_count": 23,
      "outputs": [
        {
          "output_type": "execute_result",
          "data": {
            "text/plain": [
              "('Different Folds Accuracy score:',\n",
              " [96.66666666666667,\n",
              "  93.33333333333333,\n",
              "  100.0,\n",
              "  96.66666666666667,\n",
              "  86.66666666666667])"
            ]
          },
          "metadata": {
            "tags": []
          },
          "execution_count": 23
        }
      ]
    }
  ]
}