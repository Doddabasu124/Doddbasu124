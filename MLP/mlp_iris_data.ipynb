{
 "cells": [
  {
   "cell_type": "code",
   "execution_count": 1,
   "metadata": {},
   "outputs": [],
   "source": [
    "#Import dependency libraries\n",
    "from random import seed\n",
    "from random import randrange\n",
    "from random import random\n",
    "from csv import reader\n",
    "from math import exp\n",
    "from sklearn.metrics import confusion_matrix\n",
    "from sklearn.metrics import cohen_kappa_score\n",
    "import numpy as np\n",
    "import matplotlib.pyplot as plt\n",
    "from sklearn.datasets import load_iris"
   ]
  },
  {
   "cell_type": "code",
   "execution_count": 2,
   "metadata": {
    "colab": {
     "base_uri": "https://localhost:8080/"
    },
    "id": "utA4R-KcOU6l",
    "outputId": "32403c04-44df-4619-a0c3-56660b419e82"
   },
   "outputs": [
    {
     "data": {
      "text/plain": [
       "sklearn.utils.Bunch"
      ]
     },
     "execution_count": 2,
     "metadata": {},
     "output_type": "execute_result"
    }
   ],
   "source": [
    "#Load the Dataset\n",
    "iris = load_iris()\n",
    "type(iris)"
   ]
  },
  {
   "cell_type": "code",
   "execution_count": 3,
   "metadata": {
    "colab": {
     "base_uri": "https://localhost:8080/"
    },
    "id": "UONtVe-z6qaA",
    "outputId": "96be8934-8738-47f4-f938-a1cb9f53fd9a"
   },
   "outputs": [
    {
     "name": "stdout",
     "output_type": "stream",
     "text": [
      "['sepal length (cm)', 'sepal width (cm)', 'petal length (cm)', 'petal width (cm)']\n"
     ]
    }
   ],
   "source": [
    "# Names of features/columns in iris dataset\n",
    "print(iris.feature_names)"
   ]
  },
  {
   "cell_type": "code",
   "execution_count": 4,
   "metadata": {
    "colab": {
     "base_uri": "https://localhost:8080/"
    },
    "id": "7R8tyVlv6uM8",
    "outputId": "bd922c5c-97e4-471b-f8f6-7e51fdd66661"
   },
   "outputs": [
    {
     "data": {
      "text/plain": [
       "(150, 4)"
      ]
     },
     "execution_count": 4,
     "metadata": {},
     "output_type": "execute_result"
    }
   ],
   "source": [
    "#shape of dataset\n",
    "iris.data.shape"
   ]
  },
  {
   "cell_type": "code",
   "execution_count": 5,
   "metadata": {
    "id": "vG60gU6OONSN"
   },
   "outputs": [],
   "source": [
    "#Function to formatting dataset\n",
    "def data_set(data,target):\n",
    "  data = data.tolist()\n",
    "  for i in range(len(data)):\n",
    "    data[i].extend([target[i]])\n",
    "  return data"
   ]
  },
  {
   "cell_type": "code",
   "execution_count": 6,
   "metadata": {
    "id": "kYRIBXloOaYG"
   },
   "outputs": [],
   "source": [
    "data = iris.data\n",
    "target = iris.target"
   ]
  },
  {
   "cell_type": "code",
   "execution_count": 7,
   "metadata": {
    "colab": {
     "base_uri": "https://localhost:8080/"
    },
    "id": "kIEDbaQxOddn",
    "outputId": "8fed3a84-2bf8-476d-c89a-8fa8f72bcbc2"
   },
   "outputs": [
    {
     "data": {
      "text/plain": [
       "150"
      ]
     },
     "execution_count": 7,
     "metadata": {},
     "output_type": "execute_result"
    }
   ],
   "source": [
    "#formatting dataset\n",
    "iris_dataset = data_set(data,target)\n",
    "len(iris_dataset)"
   ]
  },
  {
   "cell_type": "code",
   "execution_count": 8,
   "metadata": {},
   "outputs": [],
   "source": [
    "# Split a dataset into k folds\n",
    "def cross_validation_split(dataset, n_folds):\n",
    "        dataset_split = list()\n",
    "        dataset_copy = list(dataset)\n",
    "        fold_size = int(len(dataset) / n_folds)\n",
    "        for i in range(n_folds):\n",
    "                fold = list()\n",
    "                while len(fold) < fold_size:\n",
    "                        index = randrange(len(dataset_copy))\n",
    "                        fold.append(dataset_copy.pop(index))\n",
    "                dataset_split.append(fold)\n",
    "        return dataset_split"
   ]
  },
  {
   "cell_type": "code",
   "execution_count": 9,
   "metadata": {},
   "outputs": [],
   "source": [
    "# Initialize a vanilla neural network based on required neurons in layer\n",
    "def initialize_network(n_inputs, n_hidden, n_outputs):\n",
    "        network = list()\n",
    "        hidden_layer = [{'weights':[random() for i in range(n_inputs + 1)], 'prev':[0 for i in range(n_inputs+1)]} for i in range(n_hidden)]        \n",
    "        network.append(hidden_layer)\n",
    "        output_layer = [{'weights':[random() for i in range(n_hidden + 1)],'prev':[0 for i in range(n_hidden+1)]} for i in range(n_outputs)]\n",
    "        network.append(output_layer)\n",
    "        #print(network)\n",
    "        return network"
   ]
  },
  {
   "cell_type": "code",
   "execution_count": 10,
   "metadata": {},
   "outputs": [],
   "source": [
    "#method to calculate net value for each neuron in a layer\n",
    "def activate(weights, inputs):\n",
    "        #Get the bias value \n",
    "        activation = weights[-1]\n",
    "        #calculate neuron net value\n",
    "        for i in range(len(weights)-1):\n",
    "                activation += weights[i] * inputs[i]\n",
    "        return activation"
   ]
  },
  {
   "cell_type": "code",
   "execution_count": 11,
   "metadata": {},
   "outputs": [],
   "source": [
    "# Transfer neuron activation(using sigmoid activation function)\n",
    "def transfer(activation):\n",
    "        return 1.0 / (1.0 + exp(-activation))"
   ]
  },
  {
   "cell_type": "code",
   "execution_count": 12,
   "metadata": {},
   "outputs": [],
   "source": [
    "# Forward propagate input to a network output\n",
    "def forward_propagate(network, row):\n",
    "        inputs = row\n",
    "        #loop through each layer in network\n",
    "        for layer in network:\n",
    "                new_inputs = []\n",
    "                #loop through each neuron in layer\n",
    "                for neuron in layer:\n",
    "                        #calculate linear transformation for a neuron by taking input(each row)\n",
    "                        activation = activate(neuron['weights'], inputs)\n",
    "                        \n",
    "                        #passing linear transformation output to Activationfunction\n",
    "                        neuron['output'] = transfer(activation)\n",
    "                        \n",
    "                        #add the each neuron output into new_inputs to pass it to next layer of neurons\n",
    "                        new_inputs.append(neuron['output'])\n",
    "                inputs = new_inputs\n",
    "                \n",
    "        #return the output for each row in dataset        \n",
    "        return inputs"
   ]
  },
  {
   "cell_type": "code",
   "execution_count": 13,
   "metadata": {},
   "outputs": [],
   "source": [
    "# Train a network for a fixed number of epochs\n",
    "def train_network(network, train, l_rate, n_epoch, n_outputs):\n",
    "        epochs=[]\n",
    "        accuracy=[]\n",
    "        for epoch in range(n_epoch):\n",
    "                results=[]\n",
    "                for row in train:\n",
    "                        outputs = forward_propagate(network, row)\n",
    "                        #Converting probability values into 0 or 1\n",
    "                        pred = [int(i > .5) for i in outputs]\n",
    "                        \n",
    "                        #get the expected results                        \n",
    "                        expected = [0 for i in range(n_outputs)]\n",
    "                        expected[row[-1]] = 1\n",
    "                        \n",
    "                        row_res = row_acc(expected,pred)\n",
    "                        results.extend(row_res)\n",
    "                            \n",
    "                        #print(\"expected row{}\\n\".format(expected))\n",
    "                        backward_propagate_error(network, expected)\n",
    "                        update_weights(network, row, l_rate)\n",
    "                \n",
    "                accra=sum(results)/len(results)\n",
    "                accuracy.append(accra)\n",
    "                epochs.append(epoch)\n",
    "        return accuracy,epochs"
   ]
  },
  {
   "cell_type": "code",
   "execution_count": 14,
   "metadata": {},
   "outputs": [],
   "source": [
    "#evaluation for each row output\n",
    "def row_acc(expected,pred):\n",
    "    accu=[]\n",
    "    if pred==expected:\n",
    "        accu.append(1)\n",
    "    else : accu.append(0)\n",
    "    return accu"
   ]
  },
  {
   "cell_type": "code",
   "execution_count": 15,
   "metadata": {},
   "outputs": [],
   "source": [
    "# Backpropagation Algorithm With Stochastic Gradient Descent\n",
    "def back_propagation(train, test, l_rate, n_epoch, n_hidden):\n",
    "        n_inputs = len(train[0]) - 1\n",
    "        n_outputs = len(set([row[-1] for row in train]))\n",
    "        network = initialize_network(n_inputs, n_hidden, n_outputs)\n",
    "        accuracy,epoch = train_network(network, train, l_rate, n_epoch, n_outputs)\n",
    "        #print(\"network {}\\n\".format(network))\n",
    "        predictions = list()\n",
    "        for row in test:\n",
    "                prediction = predict(network, row)\n",
    "                predictions.append(prediction)\n",
    "        return(predictions,accuracy,epoch)"
   ]
  },
  {
   "cell_type": "code",
   "execution_count": 16,
   "metadata": {},
   "outputs": [],
   "source": [
    "# Backpropagate error and store in neurons\n",
    "def backward_propagate_error(network, expected):\n",
    "        for i in reversed(range(len(network))):\n",
    "                layer = network[i]\n",
    "                errors = list()\n",
    "                if i != len(network)-1:\n",
    "                        for j in range(len(layer)):\n",
    "                                error = 0.0\n",
    "                                for neuron in network[i + 1]:\n",
    "                                        error += (neuron['weights'][j] * neuron['delta'])\n",
    "                                errors.append(error)\n",
    "                else:\n",
    "                        for j in range(len(layer)):\n",
    "                                neuron = layer[j]\n",
    "                                errors.append(expected[j] - neuron['output'])\n",
    "                for j in range(len(layer)):\n",
    "                        neuron = layer[j]\n",
    "                        neuron['delta'] = errors[j] * transfer_derivative(neuron['output'])"
   ]
  },
  {
   "cell_type": "code",
   "execution_count": 17,
   "metadata": {},
   "outputs": [],
   "source": [
    "# Calculate the derivative of an neuron output\n",
    "def transfer_derivative(output):\n",
    "        return output * (1.0 - output)"
   ]
  },
  {
   "cell_type": "code",
   "execution_count": 18,
   "metadata": {},
   "outputs": [],
   "source": [
    "# Make a prediction with a network\n",
    "def predict(network, row):\n",
    "        outputs = forward_propagate(network, row)\n",
    "        return outputs.index(max(outputs))"
   ]
  },
  {
   "cell_type": "code",
   "execution_count": 19,
   "metadata": {},
   "outputs": [],
   "source": [
    "# Update network weights with error\n",
    "def update_weights(network, row, l_rate):\n",
    "        for i in range(len(network)):\n",
    "                inputs = row[:-1]                \n",
    "                if i != 0:\n",
    "                        inputs = [neuron['output'] for neuron in network[i - 1]]\n",
    "                for neuron in network[i]:\n",
    "                        for j in range(len(inputs)):\n",
    "                                temp = l_rate * neuron['delta'] * inputs[j] + mu * neuron['prev'][j]\n",
    "                                \n",
    "                                neuron['weights'][j] += temp\n",
    "                                #print(\"neuron weight{} \\n\".format(neuron['weights'][j]))\n",
    "                                neuron['prev'][j] = temp\n",
    "                        temp = l_rate * neuron['delta'] + mu * neuron['prev'][-1]\n",
    "                        neuron['weights'][-1] += temp\n",
    "                        neuron['prev'][-1] = temp"
   ]
  },
  {
   "cell_type": "code",
   "execution_count": 20,
   "metadata": {},
   "outputs": [],
   "source": [
    "# Evaluate an algorithm using a cross validation split\n",
    "def run_algorithm(dataset, algorithm, n_folds, *args):\n",
    "        \n",
    "        folds = cross_validation_split(dataset, n_folds)\n",
    "        #for fold in folds:\n",
    "                #print(\"Fold {} \\n \\n\".format(fold))\n",
    "        scores = list()\n",
    "        Nfold = 1\n",
    "        for fold in folds:\n",
    "                #print(\"Test Fold {} \\n \\n\".format(fold))\n",
    "                train_set = list(folds)\n",
    "                train_set.remove(fold)\n",
    "                train_set = sum(train_set, [])\n",
    "                test_set = list()\n",
    "                for row in fold:\n",
    "                        row_copy = list(row)\n",
    "                        test_set.append(row_copy)\n",
    "                        row_copy[-1] = None\n",
    "                predicted,accuarcy,epoch = algorithm(train_set, test_set, *args)\n",
    "          \n",
    "                #Get the actual target values from test dataset\n",
    "                actual = [row[-1] for row in fold]\n",
    "                #Evaluation for test dataset\n",
    "                accuracy = accuracy_met(actual, predicted)\n",
    "                cm = confusion_matrix(actual, predicted)\n",
    "                print('For Fold {} results:'.format(Nfold))\n",
    "                print('Confusion Matrix:')\n",
    "                print('\\n'.join([''.join(['{:4}'.format(item) for item in row]) for row in cm]))\n",
    "                confusionmatrix = np.matrix(cm)\n",
    "                FP = cm.sum(axis=0) - np.diag(cm)\n",
    "                FN = cm.sum(axis=1) - np.diag(cm)\n",
    "                TP = np.diag(cm)\n",
    "                TN = cm.sum() - (FP + FN + TP)\n",
    "                #print('False Positives\\n {}'.format(FP))\n",
    "                #print('False Negetives\\n {}'.format(FN))\n",
    "                #print('True Positives\\n {}'.format(TP))\n",
    "                #print('True Negetives\\n {}'.format(TN))\n",
    "                TPR = TP/(TP+FN)\n",
    "                print('Sensitivity \\n {}'.format(TPR))\n",
    "                TNR = TN/(TN+FP)\n",
    "                print('Specificity \\n {}'.format(TNR))\n",
    "                Precision = TP/(TP+FP)\n",
    "                print('Precision \\n {}'.format(Precision))\n",
    "                Recall = TP/(TP+FN)\n",
    "                print('Recall \\n {}'.format(Recall))\n",
    "                Acc = (TP+TN)/(TP+TN+FP+FN)\n",
    "                #print('Áccuracy \\n{}'.format(Acc))\n",
    "                Fscore = 2*(Precision*Recall)/(Precision+Recall)\n",
    "                print('FScore \\n{}'.format(Fscore))\n",
    "                scores.append(accuracy)\n",
    "                Nfold+=1\n",
    "                print('\\n\\n')\n",
    "        #plt.plot(epoch, accuarcy, label = \"line 1\")\n",
    "        #print(epoch)\n",
    "        #print(accuarcy)\n",
    "        return (scores,epoch,accuarcy)"
   ]
  },
  {
   "cell_type": "code",
   "execution_count": 21,
   "metadata": {},
   "outputs": [],
   "source": [
    "# Calculate accuracy percentage\n",
    "def accuracy_met(actual, predicted):\n",
    "        correct = 0\n",
    "        for i in range(len(actual)):\n",
    "                if actual[i] == predicted[i]:\n",
    "                        correct += 1\n",
    "        return correct / float(len(actual)) * 100.0"
   ]
  },
  {
   "cell_type": "code",
   "execution_count": 38,
   "metadata": {},
   "outputs": [],
   "source": [
    "# Test Backprop on Seeds dataset\n",
    "seed(1)\n",
    "\n",
    "# evaluate algorithm\n",
    "n_folds = 5\n",
    "l_rate = 0.1\n",
    "mu=0.001\n",
    "n_epoch = 300\n",
    "n_hidden = 5"
   ]
  },
  {
   "cell_type": "code",
   "execution_count": 39,
   "metadata": {},
   "outputs": [
    {
     "name": "stdout",
     "output_type": "stream",
     "text": [
      "For Fold 1 results:\n",
      "Confusion Matrix:\n",
      "  11   0   0\n",
      "   0   7   1\n",
      "   0   0  11\n",
      "Sensitivity \n",
      " [1.    0.875 1.   ]\n",
      "Specificity \n",
      " [1.         1.         0.94736842]\n",
      "Precision \n",
      " [1.         1.         0.91666667]\n",
      "Recall \n",
      " [1.    0.875 1.   ]\n",
      "FScore \n",
      "[1.         0.93333333 0.95652174]\n",
      "\n",
      "\n",
      "\n",
      "For Fold 2 results:\n",
      "Confusion Matrix:\n",
      "  10   0   0\n",
      "   0   9   2\n",
      "   0   0   9\n",
      "Sensitivity \n",
      " [1.         0.81818182 1.        ]\n",
      "Specificity \n",
      " [1.        1.        0.9047619]\n",
      "Precision \n",
      " [1.         1.         0.81818182]\n",
      "Recall \n",
      " [1.         0.81818182 1.        ]\n",
      "FScore \n",
      "[1.  0.9 0.9]\n",
      "\n",
      "\n",
      "\n",
      "For Fold 3 results:\n",
      "Confusion Matrix:\n",
      "   6   0   0\n",
      "   0  10   0\n",
      "   0   0  14\n",
      "Sensitivity \n",
      " [1. 1. 1.]\n",
      "Specificity \n",
      " [1. 1. 1.]\n",
      "Precision \n",
      " [1. 1. 1.]\n",
      "Recall \n",
      " [1. 1. 1.]\n",
      "FScore \n",
      "[1. 1. 1.]\n",
      "\n",
      "\n",
      "\n",
      "For Fold 4 results:\n",
      "Confusion Matrix:\n",
      "  10   0   0\n",
      "   0   9   1\n",
      "   0   0  10\n",
      "Sensitivity \n",
      " [1.  0.9 1. ]\n",
      "Specificity \n",
      " [1.   1.   0.95]\n",
      "Precision \n",
      " [1.         1.         0.90909091]\n",
      "Recall \n",
      " [1.  0.9 1. ]\n",
      "FScore \n",
      "[1.         0.94736842 0.95238095]\n",
      "\n",
      "\n",
      "\n",
      "For Fold 5 results:\n",
      "Confusion Matrix:\n",
      "  13   0   0\n",
      "   0   7   4\n",
      "   0   0   6\n",
      "Sensitivity \n",
      " [1.         0.63636364 1.        ]\n",
      "Specificity \n",
      " [1.         1.         0.83333333]\n",
      "Precision \n",
      " [1.  1.  0.6]\n",
      "Recall \n",
      " [1.         0.63636364 1.        ]\n",
      "FScore \n",
      "[1.         0.77777778 0.75      ]\n",
      "\n",
      "\n",
      "\n"
     ]
    }
   ],
   "source": [
    "scores,epoch,accuarcy = run_algorithm(iris_dataset, back_propagation, n_folds, l_rate, n_epoch, n_hidden)"
   ]
  },
  {
   "cell_type": "code",
   "execution_count": 40,
   "metadata": {},
   "outputs": [
    {
     "data": {
      "text/plain": [
       "Text(0, 0.5, 'train_accuarcy')"
      ]
     },
     "execution_count": 40,
     "metadata": {},
     "output_type": "execute_result"
    },
    {
     "data": {
      "image/png": "[encoded data removed]",
      "text/plain": [
       "<Figure size 432x288 with 1 Axes>"
      ]
     },
     "metadata": {
      "needs_background": "light"
     },
     "output_type": "display_data"
    }
   ],
   "source": [
    "#Plot for epochs vs train accuracy\n",
    "plt.plot(epoch, accuarcy)\n",
    "plt.xlabel('epochs')\n",
    "plt.ylabel('train_accuarcy')"
   ]
  },
  {
   "cell_type": "code",
   "execution_count": 41,
   "metadata": {},
   "outputs": [
    {
     "data": {
      "text/plain": [
       "[96.66666666666667,\n",
       " 93.33333333333333,\n",
       " 100.0,\n",
       " 96.66666666666667,\n",
       " 86.66666666666667]"
      ]
     },
     "execution_count": 41,
     "metadata": {},
     "output_type": "execute_result"
    }
   ],
   "source": [
    "#Accuracy score for different test folds\n",
    "scores"
   ]
  }
 ],
 "metadata": {
  "kernelspec": {
   "display_name": "Python 3",
   "language": "python",
   "name": "python3"
  },
  "language_info": {
   "codemirror_mode": {
    "name": "ipython",
    "version": 3
   },
   "file_extension": ".py",
   "mimetype": "text/x-python",
   "name": "python",
   "nbconvert_exporter": "python",
   "pygments_lexer": "ipython3",
   "version": "3.8.5"
  }
 },
 "nbformat": 4,
 "nbformat_minor": 4
}
